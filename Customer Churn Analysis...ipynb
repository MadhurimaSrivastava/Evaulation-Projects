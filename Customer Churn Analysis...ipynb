{
 "cells": [
  {
   "cell_type": "markdown",
   "id": "04e79600",
   "metadata": {},
   "source": [
    "# Customer Churn Analysis - Jupyter Notebook"
   ]
  },
  {
   "cell_type": "code",
   "execution_count": 1,
   "id": "149519f2",
   "metadata": {},
   "outputs": [],
   "source": [
    "import pandas as pd\n",
    "import numpy as np\n",
    "import seaborn as sns\n",
    "import matplotlib.pyplot as plt\n",
    "import sklearn\n",
    "import warnings\n",
    "warnings.filterwarnings(\"ignore\",category=FutureWarning)"
   ]
  },
  {
   "cell_type": "code",
   "execution_count": 3,
   "id": "30353312",
   "metadata": {},
   "outputs": [
    {
     "data": {
      "text/html": [
       "<div>\n",
       "<style scoped>\n",
       "    .dataframe tbody tr th:only-of-type {\n",
       "        vertical-align: middle;\n",
       "    }\n",
       "\n",
       "    .dataframe tbody tr th {\n",
       "        vertical-align: top;\n",
       "    }\n",
       "\n",
       "    .dataframe thead th {\n",
       "        text-align: right;\n",
       "    }\n",
       "</style>\n",
       "<table border=\"1\" class=\"dataframe\">\n",
       "  <thead>\n",
       "    <tr style=\"text-align: right;\">\n",
       "      <th></th>\n",
       "      <th>customerID</th>\n",
       "      <th>gender</th>\n",
       "      <th>SeniorCitizen</th>\n",
       "      <th>Partner</th>\n",
       "      <th>Dependents</th>\n",
       "      <th>tenure</th>\n",
       "      <th>PhoneService</th>\n",
       "      <th>MultipleLines</th>\n",
       "      <th>InternetService</th>\n",
       "      <th>OnlineSecurity</th>\n",
       "      <th>...</th>\n",
       "      <th>DeviceProtection</th>\n",
       "      <th>TechSupport</th>\n",
       "      <th>StreamingTV</th>\n",
       "      <th>StreamingMovies</th>\n",
       "      <th>Contract</th>\n",
       "      <th>PaperlessBilling</th>\n",
       "      <th>PaymentMethod</th>\n",
       "      <th>MonthlyCharges</th>\n",
       "      <th>TotalCharges</th>\n",
       "      <th>Churn</th>\n",
       "    </tr>\n",
       "  </thead>\n",
       "  <tbody>\n",
       "    <tr>\n",
       "      <th>0</th>\n",
       "      <td>7590-VHVEG</td>\n",
       "      <td>Female</td>\n",
       "      <td>0</td>\n",
       "      <td>Yes</td>\n",
       "      <td>No</td>\n",
       "      <td>1</td>\n",
       "      <td>No</td>\n",
       "      <td>No phone service</td>\n",
       "      <td>DSL</td>\n",
       "      <td>No</td>\n",
       "      <td>...</td>\n",
       "      <td>No</td>\n",
       "      <td>No</td>\n",
       "      <td>No</td>\n",
       "      <td>No</td>\n",
       "      <td>Month-to-month</td>\n",
       "      <td>Yes</td>\n",
       "      <td>Electronic check</td>\n",
       "      <td>29.85</td>\n",
       "      <td>29.85</td>\n",
       "      <td>No</td>\n",
       "    </tr>\n",
       "    <tr>\n",
       "      <th>1</th>\n",
       "      <td>5575-GNVDE</td>\n",
       "      <td>Male</td>\n",
       "      <td>0</td>\n",
       "      <td>No</td>\n",
       "      <td>No</td>\n",
       "      <td>34</td>\n",
       "      <td>Yes</td>\n",
       "      <td>No</td>\n",
       "      <td>DSL</td>\n",
       "      <td>Yes</td>\n",
       "      <td>...</td>\n",
       "      <td>Yes</td>\n",
       "      <td>No</td>\n",
       "      <td>No</td>\n",
       "      <td>No</td>\n",
       "      <td>One year</td>\n",
       "      <td>No</td>\n",
       "      <td>Mailed check</td>\n",
       "      <td>56.95</td>\n",
       "      <td>1889.5</td>\n",
       "      <td>No</td>\n",
       "    </tr>\n",
       "    <tr>\n",
       "      <th>2</th>\n",
       "      <td>3668-QPYBK</td>\n",
       "      <td>Male</td>\n",
       "      <td>0</td>\n",
       "      <td>No</td>\n",
       "      <td>No</td>\n",
       "      <td>2</td>\n",
       "      <td>Yes</td>\n",
       "      <td>No</td>\n",
       "      <td>DSL</td>\n",
       "      <td>Yes</td>\n",
       "      <td>...</td>\n",
       "      <td>No</td>\n",
       "      <td>No</td>\n",
       "      <td>No</td>\n",
       "      <td>No</td>\n",
       "      <td>Month-to-month</td>\n",
       "      <td>Yes</td>\n",
       "      <td>Mailed check</td>\n",
       "      <td>53.85</td>\n",
       "      <td>108.15</td>\n",
       "      <td>Yes</td>\n",
       "    </tr>\n",
       "    <tr>\n",
       "      <th>3</th>\n",
       "      <td>7795-CFOCW</td>\n",
       "      <td>Male</td>\n",
       "      <td>0</td>\n",
       "      <td>No</td>\n",
       "      <td>No</td>\n",
       "      <td>45</td>\n",
       "      <td>No</td>\n",
       "      <td>No phone service</td>\n",
       "      <td>DSL</td>\n",
       "      <td>Yes</td>\n",
       "      <td>...</td>\n",
       "      <td>Yes</td>\n",
       "      <td>Yes</td>\n",
       "      <td>No</td>\n",
       "      <td>No</td>\n",
       "      <td>One year</td>\n",
       "      <td>No</td>\n",
       "      <td>Bank transfer (automatic)</td>\n",
       "      <td>42.30</td>\n",
       "      <td>1840.75</td>\n",
       "      <td>No</td>\n",
       "    </tr>\n",
       "    <tr>\n",
       "      <th>4</th>\n",
       "      <td>9237-HQITU</td>\n",
       "      <td>Female</td>\n",
       "      <td>0</td>\n",
       "      <td>No</td>\n",
       "      <td>No</td>\n",
       "      <td>2</td>\n",
       "      <td>Yes</td>\n",
       "      <td>No</td>\n",
       "      <td>Fiber optic</td>\n",
       "      <td>No</td>\n",
       "      <td>...</td>\n",
       "      <td>No</td>\n",
       "      <td>No</td>\n",
       "      <td>No</td>\n",
       "      <td>No</td>\n",
       "      <td>Month-to-month</td>\n",
       "      <td>Yes</td>\n",
       "      <td>Electronic check</td>\n",
       "      <td>70.70</td>\n",
       "      <td>151.65</td>\n",
       "      <td>Yes</td>\n",
       "    </tr>\n",
       "    <tr>\n",
       "      <th>5</th>\n",
       "      <td>9305-CDSKC</td>\n",
       "      <td>Female</td>\n",
       "      <td>0</td>\n",
       "      <td>No</td>\n",
       "      <td>No</td>\n",
       "      <td>8</td>\n",
       "      <td>Yes</td>\n",
       "      <td>Yes</td>\n",
       "      <td>Fiber optic</td>\n",
       "      <td>No</td>\n",
       "      <td>...</td>\n",
       "      <td>Yes</td>\n",
       "      <td>No</td>\n",
       "      <td>Yes</td>\n",
       "      <td>Yes</td>\n",
       "      <td>Month-to-month</td>\n",
       "      <td>Yes</td>\n",
       "      <td>Electronic check</td>\n",
       "      <td>99.65</td>\n",
       "      <td>820.5</td>\n",
       "      <td>Yes</td>\n",
       "    </tr>\n",
       "    <tr>\n",
       "      <th>6</th>\n",
       "      <td>1452-KIOVK</td>\n",
       "      <td>Male</td>\n",
       "      <td>0</td>\n",
       "      <td>No</td>\n",
       "      <td>Yes</td>\n",
       "      <td>22</td>\n",
       "      <td>Yes</td>\n",
       "      <td>Yes</td>\n",
       "      <td>Fiber optic</td>\n",
       "      <td>No</td>\n",
       "      <td>...</td>\n",
       "      <td>No</td>\n",
       "      <td>No</td>\n",
       "      <td>Yes</td>\n",
       "      <td>No</td>\n",
       "      <td>Month-to-month</td>\n",
       "      <td>Yes</td>\n",
       "      <td>Credit card (automatic)</td>\n",
       "      <td>89.10</td>\n",
       "      <td>1949.4</td>\n",
       "      <td>No</td>\n",
       "    </tr>\n",
       "    <tr>\n",
       "      <th>7</th>\n",
       "      <td>6713-OKOMC</td>\n",
       "      <td>Female</td>\n",
       "      <td>0</td>\n",
       "      <td>No</td>\n",
       "      <td>No</td>\n",
       "      <td>10</td>\n",
       "      <td>No</td>\n",
       "      <td>No phone service</td>\n",
       "      <td>DSL</td>\n",
       "      <td>Yes</td>\n",
       "      <td>...</td>\n",
       "      <td>No</td>\n",
       "      <td>No</td>\n",
       "      <td>No</td>\n",
       "      <td>No</td>\n",
       "      <td>Month-to-month</td>\n",
       "      <td>No</td>\n",
       "      <td>Mailed check</td>\n",
       "      <td>29.75</td>\n",
       "      <td>301.9</td>\n",
       "      <td>No</td>\n",
       "    </tr>\n",
       "    <tr>\n",
       "      <th>8</th>\n",
       "      <td>7892-POOKP</td>\n",
       "      <td>Female</td>\n",
       "      <td>0</td>\n",
       "      <td>Yes</td>\n",
       "      <td>No</td>\n",
       "      <td>28</td>\n",
       "      <td>Yes</td>\n",
       "      <td>Yes</td>\n",
       "      <td>Fiber optic</td>\n",
       "      <td>No</td>\n",
       "      <td>...</td>\n",
       "      <td>Yes</td>\n",
       "      <td>Yes</td>\n",
       "      <td>Yes</td>\n",
       "      <td>Yes</td>\n",
       "      <td>Month-to-month</td>\n",
       "      <td>Yes</td>\n",
       "      <td>Electronic check</td>\n",
       "      <td>104.80</td>\n",
       "      <td>3046.05</td>\n",
       "      <td>Yes</td>\n",
       "    </tr>\n",
       "    <tr>\n",
       "      <th>9</th>\n",
       "      <td>6388-TABGU</td>\n",
       "      <td>Male</td>\n",
       "      <td>0</td>\n",
       "      <td>No</td>\n",
       "      <td>Yes</td>\n",
       "      <td>62</td>\n",
       "      <td>Yes</td>\n",
       "      <td>No</td>\n",
       "      <td>DSL</td>\n",
       "      <td>Yes</td>\n",
       "      <td>...</td>\n",
       "      <td>No</td>\n",
       "      <td>No</td>\n",
       "      <td>No</td>\n",
       "      <td>No</td>\n",
       "      <td>One year</td>\n",
       "      <td>No</td>\n",
       "      <td>Bank transfer (automatic)</td>\n",
       "      <td>56.15</td>\n",
       "      <td>3487.95</td>\n",
       "      <td>No</td>\n",
       "    </tr>\n",
       "  </tbody>\n",
       "</table>\n",
       "<p>10 rows × 21 columns</p>\n",
       "</div>"
      ],
      "text/plain": [
       "   customerID  gender  SeniorCitizen Partner Dependents  tenure PhoneService  \\\n",
       "0  7590-VHVEG  Female              0     Yes         No       1           No   \n",
       "1  5575-GNVDE    Male              0      No         No      34          Yes   \n",
       "2  3668-QPYBK    Male              0      No         No       2          Yes   \n",
       "3  7795-CFOCW    Male              0      No         No      45           No   \n",
       "4  9237-HQITU  Female              0      No         No       2          Yes   \n",
       "5  9305-CDSKC  Female              0      No         No       8          Yes   \n",
       "6  1452-KIOVK    Male              0      No        Yes      22          Yes   \n",
       "7  6713-OKOMC  Female              0      No         No      10           No   \n",
       "8  7892-POOKP  Female              0     Yes         No      28          Yes   \n",
       "9  6388-TABGU    Male              0      No        Yes      62          Yes   \n",
       "\n",
       "      MultipleLines InternetService OnlineSecurity  ... DeviceProtection  \\\n",
       "0  No phone service             DSL             No  ...               No   \n",
       "1                No             DSL            Yes  ...              Yes   \n",
       "2                No             DSL            Yes  ...               No   \n",
       "3  No phone service             DSL            Yes  ...              Yes   \n",
       "4                No     Fiber optic             No  ...               No   \n",
       "5               Yes     Fiber optic             No  ...              Yes   \n",
       "6               Yes     Fiber optic             No  ...               No   \n",
       "7  No phone service             DSL            Yes  ...               No   \n",
       "8               Yes     Fiber optic             No  ...              Yes   \n",
       "9                No             DSL            Yes  ...               No   \n",
       "\n",
       "  TechSupport StreamingTV StreamingMovies        Contract PaperlessBilling  \\\n",
       "0          No          No              No  Month-to-month              Yes   \n",
       "1          No          No              No        One year               No   \n",
       "2          No          No              No  Month-to-month              Yes   \n",
       "3         Yes          No              No        One year               No   \n",
       "4          No          No              No  Month-to-month              Yes   \n",
       "5          No         Yes             Yes  Month-to-month              Yes   \n",
       "6          No         Yes              No  Month-to-month              Yes   \n",
       "7          No          No              No  Month-to-month               No   \n",
       "8         Yes         Yes             Yes  Month-to-month              Yes   \n",
       "9          No          No              No        One year               No   \n",
       "\n",
       "               PaymentMethod MonthlyCharges  TotalCharges Churn  \n",
       "0           Electronic check          29.85         29.85    No  \n",
       "1               Mailed check          56.95        1889.5    No  \n",
       "2               Mailed check          53.85        108.15   Yes  \n",
       "3  Bank transfer (automatic)          42.30       1840.75    No  \n",
       "4           Electronic check          70.70        151.65   Yes  \n",
       "5           Electronic check          99.65         820.5   Yes  \n",
       "6    Credit card (automatic)          89.10        1949.4    No  \n",
       "7               Mailed check          29.75         301.9    No  \n",
       "8           Electronic check         104.80       3046.05   Yes  \n",
       "9  Bank transfer (automatic)          56.15       3487.95    No  \n",
       "\n",
       "[10 rows x 21 columns]"
      ]
     },
     "execution_count": 3,
     "metadata": {},
     "output_type": "execute_result"
    }
   ],
   "source": [
    "data=pd.read_csv(\"https://raw.githubusercontent.com/dsrscientist/DSData/master/Telecom_customer_churn.csv\")\n",
    "data.head(10)"
   ]
  },
  {
   "cell_type": "markdown",
   "id": "cabb1251",
   "metadata": {},
   "source": [
    "# Exploratory Data Analysis (and some cleaning)"
   ]
  },
  {
   "cell_type": "markdown",
   "id": "d64224e5",
   "metadata": {},
   "source": [
    "Let's get started by getting this dataset loaded into our notebook for a small glimpse of the data."
   ]
  },
  {
   "cell_type": "code",
   "execution_count": 4,
   "id": "d2d42294",
   "metadata": {},
   "outputs": [
    {
     "name": "stdout",
     "output_type": "stream",
     "text": [
      "We have 7043 rows (observations) of data with 21 columns (features).\n",
      "\n",
      "Number of duplicate rows: 0\n",
      "\n"
     ]
    }
   ],
   "source": [
    "print('We have %d rows (observations) of data with %d columns (features).\\n' % (data.shape[0], data.shape[1]))\n",
    "dups = data[data.duplicated()]\n",
    "print(\"Number of duplicate rows: %d\\n\" % len(dups))"
   ]
  },
  {
   "cell_type": "markdown",
   "id": "73ab3f78",
   "metadata": {},
   "source": [
    "# First, let's view the size of this dataset, find out if anything is missing from it, and if we have any duplicate entries."
   ]
  },
  {
   "cell_type": "code",
   "execution_count": 5,
   "id": "8d79862b",
   "metadata": {},
   "outputs": [
    {
     "name": "stdout",
     "output_type": "stream",
     "text": [
      "<class 'pandas.core.frame.DataFrame'>\n",
      "RangeIndex: 7043 entries, 0 to 7042\n",
      "Data columns (total 21 columns):\n",
      " #   Column            Non-Null Count  Dtype  \n",
      "---  ------            --------------  -----  \n",
      " 0   customerID        7043 non-null   object \n",
      " 1   gender            7043 non-null   object \n",
      " 2   SeniorCitizen     7043 non-null   int64  \n",
      " 3   Partner           7043 non-null   object \n",
      " 4   Dependents        7043 non-null   object \n",
      " 5   tenure            7043 non-null   int64  \n",
      " 6   PhoneService      7043 non-null   object \n",
      " 7   MultipleLines     7043 non-null   object \n",
      " 8   InternetService   7043 non-null   object \n",
      " 9   OnlineSecurity    7043 non-null   object \n",
      " 10  OnlineBackup      7043 non-null   object \n",
      " 11  DeviceProtection  7043 non-null   object \n",
      " 12  TechSupport       7043 non-null   object \n",
      " 13  StreamingTV       7043 non-null   object \n",
      " 14  StreamingMovies   7043 non-null   object \n",
      " 15  Contract          7043 non-null   object \n",
      " 16  PaperlessBilling  7043 non-null   object \n",
      " 17  PaymentMethod     7043 non-null   object \n",
      " 18  MonthlyCharges    7043 non-null   float64\n",
      " 19  TotalCharges      7043 non-null   object \n",
      " 20  Churn             7043 non-null   object \n",
      "dtypes: float64(1), int64(2), object(18)\n",
      "memory usage: 1.1+ MB\n"
     ]
    }
   ],
   "source": [
    "data.info()"
   ]
  },
  {
   "cell_type": "markdown",
   "id": "67124172",
   "metadata": {},
   "source": [
    "Also, we want to get a look at the target variable before we go any further."
   ]
  },
  {
   "cell_type": "code",
   "execution_count": 6,
   "id": "11aab41f",
   "metadata": {},
   "outputs": [
    {
     "data": {
      "text/html": [
       "<div>\n",
       "<style scoped>\n",
       "    .dataframe tbody tr th:only-of-type {\n",
       "        vertical-align: middle;\n",
       "    }\n",
       "\n",
       "    .dataframe tbody tr th {\n",
       "        vertical-align: top;\n",
       "    }\n",
       "\n",
       "    .dataframe thead th {\n",
       "        text-align: right;\n",
       "    }\n",
       "</style>\n",
       "<table border=\"1\" class=\"dataframe\">\n",
       "  <thead>\n",
       "    <tr style=\"text-align: right;\">\n",
       "      <th></th>\n",
       "      <th>SeniorCitizen</th>\n",
       "      <th>tenure</th>\n",
       "      <th>MonthlyCharges</th>\n",
       "    </tr>\n",
       "  </thead>\n",
       "  <tbody>\n",
       "    <tr>\n",
       "      <th>count</th>\n",
       "      <td>7043.000000</td>\n",
       "      <td>7043.000000</td>\n",
       "      <td>7043.000000</td>\n",
       "    </tr>\n",
       "    <tr>\n",
       "      <th>mean</th>\n",
       "      <td>0.162147</td>\n",
       "      <td>32.371149</td>\n",
       "      <td>64.761692</td>\n",
       "    </tr>\n",
       "    <tr>\n",
       "      <th>std</th>\n",
       "      <td>0.368612</td>\n",
       "      <td>24.559481</td>\n",
       "      <td>30.090047</td>\n",
       "    </tr>\n",
       "    <tr>\n",
       "      <th>min</th>\n",
       "      <td>0.000000</td>\n",
       "      <td>0.000000</td>\n",
       "      <td>18.250000</td>\n",
       "    </tr>\n",
       "    <tr>\n",
       "      <th>25%</th>\n",
       "      <td>0.000000</td>\n",
       "      <td>9.000000</td>\n",
       "      <td>35.500000</td>\n",
       "    </tr>\n",
       "    <tr>\n",
       "      <th>50%</th>\n",
       "      <td>0.000000</td>\n",
       "      <td>29.000000</td>\n",
       "      <td>70.350000</td>\n",
       "    </tr>\n",
       "    <tr>\n",
       "      <th>75%</th>\n",
       "      <td>0.000000</td>\n",
       "      <td>55.000000</td>\n",
       "      <td>89.850000</td>\n",
       "    </tr>\n",
       "    <tr>\n",
       "      <th>max</th>\n",
       "      <td>1.000000</td>\n",
       "      <td>72.000000</td>\n",
       "      <td>118.750000</td>\n",
       "    </tr>\n",
       "  </tbody>\n",
       "</table>\n",
       "</div>"
      ],
      "text/plain": [
       "       SeniorCitizen       tenure  MonthlyCharges\n",
       "count    7043.000000  7043.000000     7043.000000\n",
       "mean        0.162147    32.371149       64.761692\n",
       "std         0.368612    24.559481       30.090047\n",
       "min         0.000000     0.000000       18.250000\n",
       "25%         0.000000     9.000000       35.500000\n",
       "50%         0.000000    29.000000       70.350000\n",
       "75%         0.000000    55.000000       89.850000\n",
       "max         1.000000    72.000000      118.750000"
      ]
     },
     "execution_count": 6,
     "metadata": {},
     "output_type": "execute_result"
    }
   ],
   "source": [
    "data.describe()"
   ]
  },
  {
   "cell_type": "code",
   "execution_count": 7,
   "id": "a564ead1",
   "metadata": {},
   "outputs": [
    {
     "data": {
      "text/plain": [
       "No     5174\n",
       "Yes    1869\n",
       "Name: Churn, dtype: int64"
      ]
     },
     "execution_count": 7,
     "metadata": {},
     "output_type": "execute_result"
    }
   ],
   "source": [
    "data['Churn'].value_counts()"
   ]
  },
  {
   "cell_type": "markdown",
   "id": "85c893e6",
   "metadata": {},
   "source": [
    "So, right from the start, we see we have a major imbalance in the dataset. Let's visualize this."
   ]
  },
  {
   "cell_type": "code",
   "execution_count": 10,
   "id": "30d7e31f",
   "metadata": {},
   "outputs": [
    {
     "data": {
      "image/png": "[encoded data removed]",
      "text/plain": [
       "<Figure size 864x432 with 2 Axes>"
      ]
     },
     "metadata": {},
     "output_type": "display_data"
    }
   ],
   "source": [
    "fig, (ax1, ax2) = plt.subplots(1,2)\n",
    "fig.set_figheight(6)\n",
    "fig.set_figwidth(12)\n",
    "\n",
    "ax1.pie(data['Churn'].value_counts(), explode=(0,0.1), autopct='%1.1f%%',\n",
    "        shadow=True, startangle=90, labels=data['Churn'].unique())\n",
    "fig.set_facecolor('white')\n",
    "\n",
    "ax2.bar(data['Churn'].unique(), data['Churn'].value_counts())\n",
    "ax1.text(0.5, 0.0, \"Number of customers who stayed = %d\" % len(data[data['Churn'] == 'No']), size=12, ha=\"center\", \n",
    "         transform=ax1.transAxes)\n",
    "ax1.text(0.5,-0.1, \"Number of customers who left = %d\" % len(data[data['Churn'] == 'Yes']), size=12, ha=\"center\", \n",
    "         transform=ax1.transAxes)\n",
    "\n",
    "plt.suptitle('Churn')\n",
    "plt.show()"
   ]
  },
  {
   "cell_type": "markdown",
   "id": "2d666e99",
   "metadata": {},
   "source": [
    "Next, we'll display some plots for the various columns to get a good understanding of how the data is distributed."
   ]
  },
  {
   "cell_type": "code",
   "execution_count": 11,
   "id": "aec0b9a6",
   "metadata": {},
   "outputs": [
    {
     "data": {
      "image/png": "[encoded data removed]",
      "text/plain": [
       "<Figure size 648x432 with 1 Axes>"
      ]
     },
     "metadata": {
      "needs_background": "light"
     },
     "output_type": "display_data"
    }
   ],
   "source": [
    "plt.figure(figsize = (9,6))\n",
    "ten_mean = np.mean(data['tenure'])\n",
    "ten_med = np.median(data['tenure'])\n",
    "plt.hist(data[\"tenure\"], bins = 25, alpha = 0.65, color = 'green')\n",
    "plt.title(\"tenure\", fontsize = 15)\n",
    "plt.ylabel(\"Number of customers\", fontsize = 15)\n",
    "plt.xlabel(\"Months\", fontsize = 15)\n",
    "plt.xticks(np.arange(0, 75, step=6))\n",
    "plt.axvline(ten_mean, color='red', linestyle='solid', linewidth=2, label = \"Mean %.2f\" % ten_mean)\n",
    "plt.axvline(ten_med, color='blue', linestyle='solid', linewidth=2, label = \"Median %.2f\" % ten_med)\n",
    "plt.legend(fontsize = 12)\n",
    "plt.show()"
   ]
  },
  {
   "cell_type": "markdown",
   "id": "5c0f745c",
   "metadata": {},
   "source": [
    "Wow, that is A LOT of customers leaving in their first 5 months with the company. It looks like something happens around the 6 year mark that is also causing people to leave, but we can't automatically jump to the conclusion in this case; it could be an effect of data collection or some other unknown cause. Let's focus on those people leaving in the first 5 months and see if they are breaking contract or leaving their Month-to-month plans."
   ]
  },
  {
   "cell_type": "code",
   "execution_count": 12,
   "id": "654c6a4e",
   "metadata": {},
   "outputs": [
    {
     "name": "stdout",
     "output_type": "stream",
     "text": [
      "Percentage of customers who left before 6 months? : 19.47%\n"
     ]
    }
   ],
   "source": [
    "print(\"Percentage of customers who left before 6 months? : %.2f%%\" % ((len(data[data['tenure'] < 6])) / len(data['tenure']) * 100))"
   ]
  },
  {
   "cell_type": "code",
   "execution_count": 13,
   "id": "817d812e",
   "metadata": {},
   "outputs": [],
   "source": [
    "under_6 = data[data['tenure'] < 6]"
   ]
  },
  {
   "cell_type": "code",
   "execution_count": 14,
   "id": "e074306d",
   "metadata": {},
   "outputs": [
    {
     "data": {
      "image/png": "[encoded data removed]",
      "text/plain": [
       "<Figure size 648x432 with 1 Axes>"
      ]
     },
     "metadata": {
      "needs_background": "light"
     },
     "output_type": "display_data"
    }
   ],
   "source": [
    "sns.set_palette(sns.color_palette())\n",
    "plt.figure(figsize=(9,6))\n",
    "sns.countplot(x=under_6['Contract'], hue=under_6['Churn']).set_title('Churn vs. PaymentMethod')\n",
    "plt.show()"
   ]
  },
  {
   "cell_type": "markdown",
   "id": "55f6b683",
   "metadata": {},
   "source": [
    "The good news here is that there aren't that many customers who become so disgruntled that they decide to break contract. The amount of Month-to-month customers leaving before 6 months is still alarming though."
   ]
  },
  {
   "cell_type": "code",
   "execution_count": 15,
   "id": "339e57fc",
   "metadata": {},
   "outputs": [
    {
     "data": {
      "image/png": "[encoded data removed]",
      "text/plain": [
       "<Figure size 720x432 with 1 Axes>"
      ]
     },
     "metadata": {
      "needs_background": "light"
     },
     "output_type": "display_data"
    }
   ],
   "source": [
    "plt.figure(figsize = (10,6))\n",
    "mc_mean = np.mean(data['MonthlyCharges'])\n",
    "mc_med = np.median(data['MonthlyCharges'])\n",
    "plt.hist(data[\"MonthlyCharges\"], bins = 25, alpha = 0.65, color = 'green')\n",
    "plt.xticks(np.arange(20, 125, step=5))\n",
    "plt.title(\"MonthlyCharges\", fontsize = 15)\n",
    "plt.ylabel(\"Number of customers\", fontsize = 15)\n",
    "plt.xlabel(\"Monthly Bill Amount\", fontsize = 15)\n",
    "plt.axvline(mc_mean, color='red', linestyle='solid', linewidth=2, label = \"Mean %.2f\" % mc_mean)\n",
    "plt.axvline(mc_med, color='blue', linestyle='solid', linewidth=2, label = \"Median %.2f\" % mc_med)\n",
    "plt.legend(fontsize = 12)\n",
    "plt.show()"
   ]
  },
  {
   "cell_type": "code",
   "execution_count": 26,
   "id": "382bbf0f",
   "metadata": {},
   "outputs": [],
   "source": [
    "# Convert data in 'TotalCharges' from string to float.\n",
    "data['TotalCharges'] = pd.to_numeric(data['TotalCharges'],errors='coerce')"
   ]
  },
  {
   "cell_type": "code",
   "execution_count": 27,
   "id": "c029faec",
   "metadata": {},
   "outputs": [
    {
     "name": "stdout",
     "output_type": "stream",
     "text": [
      "How many missing values in 'TotalCharges' after coercion? : 11\n",
      "What percentage of the data are these missing values? : 0.16%\n"
     ]
    }
   ],
   "source": [
    "print(\"How many missing values in 'TotalCharges' after coercion? : %d\" % data['TotalCharges'].isnull().sum())\n",
    "print(\"What percentage of the data are these missing values? : %0.2f%%\" % ((data['TotalCharges'].isnull().sum()) / (len(data['TotalCharges'])) * 100))"
   ]
  },
  {
   "cell_type": "markdown",
   "id": "1a270811",
   "metadata": {},
   "source": [
    "After coercion of TotalCharges from string to float, we see that we actaully do have some missing values. It is safe to assume that these values are simply missing at random, so we’ll just remove these observations considering they only account for 0.16% of the data.\n",
    "\n",
    "Note: If we REALLY wanted to retain these rows, an easy fix is to fill the missing value with the mean or median. A more time consuming fix would be to construct a regression model that predicts these values - it would likely give us a better imputed value."
   ]
  },
  {
   "cell_type": "code",
   "execution_count": 30,
   "id": "81c62f07",
   "metadata": {},
   "outputs": [],
   "source": [
    "data2 = data[data[\"TotalCharges\"].notnull()] # Keep rows for which 'TotalCharges' has recorded data\n",
    "data2 = data2.reset_index(drop=True) # Reset the index of the dataframe"
   ]
  },
  {
   "cell_type": "code",
   "execution_count": 31,
   "id": "0decc084",
   "metadata": {},
   "outputs": [
    {
     "data": {
      "image/png": "[encoded data removed]",
      "text/plain": [
       "<Figure size 1296x432 with 1 Axes>"
      ]
     },
     "metadata": {
      "needs_background": "light"
     },
     "output_type": "display_data"
    }
   ],
   "source": [
    "plt.figure(figsize = (18,6))\n",
    "tc_mean = np.mean(data2['TotalCharges'])\n",
    "tc_med = np.median(data2['TotalCharges'])\n",
    "plt.hist(data2['TotalCharges'], bins = 25, alpha = 0.65, color = 'green')\n",
    "plt.title('TotalCharges', fontsize = 15)\n",
    "plt.ylabel(\"Number of customers\", fontsize = 15)\n",
    "plt.xlabel(\"Total Amount Charged\", fontsize = 15)\n",
    "plt.xticks(np.arange(0, 8800, 300))\n",
    "plt.axvline(tc_mean, color='red', linestyle='solid', linewidth=2, label = \"Mean %.2f\" % tc_mean)\n",
    "plt.axvline(tc_med, color='blue', linestyle='solid', linewidth=2, label = \"Median %.2f\" % tc_med)\n",
    "plt.legend(fontsize = 12)\n",
    "plt.show()"
   ]
  },
  {
   "cell_type": "markdown",
   "id": "07f125d7",
   "metadata": {},
   "source": [
    "We had to stretch out this histogram in order to get a better look, but we see that 21.33% of the customers had TotalCharges less than $300.\n",
    "\n",
    "With the visuals above we can gather that:\n",
    "\n",
    "Getting these customers to stay for even just 6 months is a major problem. This accounts for 19.34% of customers in the dataset.\n",
    "The minimum amount a customer can pay per month is $18.25 and 19.94% of customers are paying no more than $6.75 of that minimum amount.\n",
    "About 1/5 of the customers in this data set have only been charged less than $300 total, which makes sense when we consider the previous two points."
   ]
  },
  {
   "cell_type": "markdown",
   "id": "adf34dbb",
   "metadata": {},
   "source": [
    "Something else we should look into are the columns that have a relationship with InternetService. For columns OnlineSecurity, OnlineBackup, DeviceProtection, TechSupport, StreamingTV, StreamingMovies the responses are: 'Yes', 'No', and 'No internet service'. We should make sure that if a customer has no internet service they also have a response for the above columns of 'No internet service'. If this is the case across the board, we can change these columns to binary variables with responses of simply 'Yes' or 'No'."
   ]
  },
  {
   "cell_type": "code",
   "execution_count": 32,
   "id": "4dc06365",
   "metadata": {},
   "outputs": [
    {
     "name": "stdout",
     "output_type": "stream",
     "text": [
      "Percentage of customers with TotalCharges less than $300? 21.33%\n"
     ]
    }
   ],
   "source": [
    "print(\"Percentage of customers with TotalCharges less than $300? %.2f%%\" % ((len(data2[data2['TotalCharges'] < 300])) / len(data2['TotalCharges']) * 100))"
   ]
  },
  {
   "cell_type": "code",
   "execution_count": 33,
   "id": "cb372359",
   "metadata": {},
   "outputs": [],
   "source": [
    "no_www = data2[data2.InternetService == 'No'] # Subset customers that have no internet service"
   ]
  },
  {
   "cell_type": "code",
   "execution_count": 34,
   "id": "bfd6cfab",
   "metadata": {},
   "outputs": [
    {
     "name": "stdout",
     "output_type": "stream",
     "text": [
      "['No internet service']\n",
      "['No internet service']\n",
      "['No internet service']\n",
      "['No internet service']\n",
      "['No internet service']\n",
      "['No internet service']\n"
     ]
    }
   ],
   "source": [
    "# Check for unique values in the given columns. Should only print 'No internet service' to confirm our assumption.\n",
    "print(no_www['OnlineSecurity'].unique())\n",
    "print(no_www['OnlineBackup'].unique())\n",
    "print(no_www['DeviceProtection'].unique())\n",
    "print(no_www['TechSupport'].unique())\n",
    "print(no_www['StreamingTV'].unique())\n",
    "print(no_www['StreamingMovies'].unique())"
   ]
  },
  {
   "cell_type": "markdown",
   "id": "93cf7721",
   "metadata": {},
   "source": [
    "Confirmed! So, for the above columns/variables, we'll convert to binary. Which, in this case, simply means that we are removing a 3rd response option, leaving us with only 'Yes' or 'No'."
   ]
  },
  {
   "cell_type": "code",
   "execution_count": 35,
   "id": "a4828e94",
   "metadata": {},
   "outputs": [],
   "source": [
    "# Create a list for looping through the dataframe and converting to binary \n",
    "binaries = ['OnlineSecurity', 'OnlineBackup', 'DeviceProtection', 'TechSupport', 'StreamingTV', 'StreamingMovies']"
   ]
  },
  {
   "cell_type": "code",
   "execution_count": 36,
   "id": "c2123bc4",
   "metadata": {},
   "outputs": [],
   "source": [
    "# Loop and replace\n",
    "for i in binaries:\n",
    "    data2[i] = data2[i].replace({'No internet service' : 'No'})"
   ]
  },
  {
   "cell_type": "markdown",
   "id": "0114ef07",
   "metadata": {},
   "source": [
    "Next, just a bit of manipulation for the sake of aesthetic in our charts."
   ]
  },
  {
   "cell_type": "code",
   "execution_count": 37,
   "id": "81bebd9e",
   "metadata": {},
   "outputs": [],
   "source": [
    "data2[\"SeniorCitizen\"] = data2[\"SeniorCitizen\"].replace({1:\"Yes\",0:\"No\"}) # We will convert this back later - this is only for the EDA."
   ]
  },
  {
   "cell_type": "markdown",
   "id": "71c579bf",
   "metadata": {},
   "source": [
    "Now let's look at customer churning against the different variables."
   ]
  },
  {
   "cell_type": "code",
   "execution_count": 39,
   "id": "9d3c4aaf",
   "metadata": {},
   "outputs": [
    {
     "data": {
      "image/png": "[encoded data removed]",
      "text/plain": [
       "<Figure size 1800x1296 with 12 Axes>"
      ]
     },
     "metadata": {
      "needs_background": "light"
     },
     "output_type": "display_data"
    }
   ],
   "source": [
    "sns.set_palette(sns.color_palette())\n",
    "fig, ax=plt.subplots(3,4,figsize=(25,18))\n",
    "\n",
    "sns.countplot(x=data2['gender'], hue=data2['Churn'], ax=ax[0,0])\n",
    "ax[0,0].set_title('Churn vs. gender')\n",
    "sns.countplot(x=data2['SeniorCitizen'], hue=data2['Churn'], ax=ax[0,1])\n",
    "ax[0,1].set_title('Churn vs. SeniorCitizen')\n",
    "sns.countplot(x=data2['Partner'], hue=data2['Churn'], ax=ax[0,2])\n",
    "ax[0,2].set_title('Churn vs. Partner')\n",
    "sns.countplot(x=data2['Dependents'], hue=data2['Churn'], ax=ax[0,3])\n",
    "ax[0,3].set_title('Churn vs. Dependents')\n",
    "\n",
    "sns.countplot(x=data2['PhoneService'], hue=data2['Churn'], ax=ax[1,0])\n",
    "ax[1,0].set_title('Churn vs. PhoneService')\n",
    "sns.countplot(x=data2['MultipleLines'], hue=data2['Churn'], ax=ax[1,1])\n",
    "ax[1,1].set_title('Churn vs. MultipleLines')\n",
    "sns.countplot(x=data2['InternetService'], hue=data2['Churn'], ax=ax[1,2])\n",
    "ax[1,2].set_title('Churn vs. InternetService')\n",
    "sns.countplot(x=data2['OnlineSecurity'], hue=data2['Churn'], ax=ax[1,3])\n",
    "ax[1,3].set_title('Churn vs. OnlineSecurity')\n",
    "\n",
    "sns.countplot(x=data2['OnlineBackup'], hue=data2['Churn'], ax=ax[2,0])\n",
    "ax[2,0].set_title('Churn vs. OnlineBackup')\n",
    "sns.countplot(x=data2['DeviceProtection'], hue=data2['Churn'], ax=ax[2,1])\n",
    "ax[2,1].set_title('Churn vs. DeviceProtection')\n",
    "sns.countplot(x=data2['TechSupport'], hue=data2['Churn'], ax=ax[2,2])\n",
    "ax[2,2].set_title('Churn vs. TechSupport')\n",
    "sns.countplot(x=data2['StreamingTV'], hue=data2['Churn'], ax=ax[2,3])\n",
    "ax[2,3].set_title('Churn vs. StreamingTV')\n",
    "plt.show()"
   ]
  },
  {
   "cell_type": "markdown",
   "id": "232c6939",
   "metadata": {},
   "source": [
    "# Only a few things of note from these graphs above:\n",
    "\n",
    "Senior Citizen customers luckily make up a small portion of the business because almost as many left as stayed.\n",
    "\n",
    "The amount of customers with a partner versus with no partner is fairly even. \n",
    "\n",
    "But if we look at customers who don't have a partner and left the company, the amount is almost double those with a partner who left.\n",
    "\n",
    "There are less customers using Fiber Optic InternetService than there are using DSL service.\n",
    "\n",
    "However, the amount of customers who left the company and had Fiber Optic InternetService versus the amount who left and had DSL is more than double."
   ]
  },
  {
   "cell_type": "code",
   "execution_count": 40,
   "id": "0eef98f5",
   "metadata": {
    "scrolled": true
   },
   "outputs": [
    {
     "data": {
      "image/png": "[encoded data removed]",
      "text/plain": [
       "<Figure size 1296x432 with 3 Axes>"
      ]
     },
     "metadata": {
      "needs_background": "light"
     },
     "output_type": "display_data"
    }
   ],
   "source": [
    "fig, ax = plt.subplots(1,3,figsize=(18,6))\n",
    "\n",
    "sns.countplot(x=data2['StreamingMovies'], hue=data2['Churn'], ax=ax[0])\n",
    "ax[0].set_title('Churn vs. StreamingMovies')\n",
    "sns.countplot(x=data2['Contract'], hue=data2['Churn'], ax=ax[1])\n",
    "ax[1].set_title('Churn vs. Contract')\n",
    "sns.countplot(x=data2['PaperlessBilling'], hue=data2['Churn'], ax=ax[2])\n",
    "ax[2].set_title('Churn vs. PaperlessBilling')\n",
    "plt.show()"
   ]
  },
  {
   "cell_type": "markdown",
   "id": "dffbaccc",
   "metadata": {},
   "source": [
    "Two things stand out from these three graphs above:\n",
    "\n",
    "Look at all those Month-to-month customers who leave the company in the Churn vs. Contract graph!\n",
    "Customers with paperless billing left at a much higher frequency than customers who recieve paper copies of their bill."
   ]
  },
  {
   "cell_type": "code",
   "execution_count": 41,
   "id": "bcad55aa",
   "metadata": {},
   "outputs": [
    {
     "data": {
      "image/png": "[encoded data removed]",
      "text/plain": [
       "<Figure size 1080x504 with 1 Axes>"
      ]
     },
     "metadata": {
      "needs_background": "light"
     },
     "output_type": "display_data"
    }
   ],
   "source": [
    "plt.figure(figsize=(15,7))\n",
    "sns.countplot(x=data2['PaymentMethod'], hue=data2['Churn']).set_title('Churn vs. PaymentMethod')\n",
    "plt.show()"
   ]
  },
  {
   "cell_type": "markdown",
   "id": "6513e151",
   "metadata": {},
   "source": [
    "This is interesting: People pay their bill equally porportional across all methods, but for some reason those who pay electronically are leaving the company at almost 4 times the rate. The raw numbers are below."
   ]
  },
  {
   "cell_type": "code",
   "execution_count": 42,
   "id": "e13e254a",
   "metadata": {},
   "outputs": [
    {
     "data": {
      "text/html": [
       "<div>\n",
       "<style scoped>\n",
       "    .dataframe tbody tr th:only-of-type {\n",
       "        vertical-align: middle;\n",
       "    }\n",
       "\n",
       "    .dataframe tbody tr th {\n",
       "        vertical-align: top;\n",
       "    }\n",
       "\n",
       "    .dataframe thead th {\n",
       "        text-align: right;\n",
       "    }\n",
       "</style>\n",
       "<table border=\"1\" class=\"dataframe\">\n",
       "  <thead>\n",
       "    <tr style=\"text-align: right;\">\n",
       "      <th></th>\n",
       "      <th></th>\n",
       "      <th>Churn</th>\n",
       "    </tr>\n",
       "    <tr>\n",
       "      <th>PaymentMethod</th>\n",
       "      <th>Churn</th>\n",
       "      <th></th>\n",
       "    </tr>\n",
       "  </thead>\n",
       "  <tbody>\n",
       "    <tr>\n",
       "      <th rowspan=\"2\" valign=\"top\">Bank transfer (automatic)</th>\n",
       "      <th>No</th>\n",
       "      <td>1284</td>\n",
       "    </tr>\n",
       "    <tr>\n",
       "      <th>Yes</th>\n",
       "      <td>258</td>\n",
       "    </tr>\n",
       "    <tr>\n",
       "      <th rowspan=\"2\" valign=\"top\">Credit card (automatic)</th>\n",
       "      <th>No</th>\n",
       "      <td>1289</td>\n",
       "    </tr>\n",
       "    <tr>\n",
       "      <th>Yes</th>\n",
       "      <td>232</td>\n",
       "    </tr>\n",
       "    <tr>\n",
       "      <th rowspan=\"2\" valign=\"top\">Electronic check</th>\n",
       "      <th>No</th>\n",
       "      <td>1294</td>\n",
       "    </tr>\n",
       "    <tr>\n",
       "      <th>Yes</th>\n",
       "      <td>1071</td>\n",
       "    </tr>\n",
       "    <tr>\n",
       "      <th rowspan=\"2\" valign=\"top\">Mailed check</th>\n",
       "      <th>No</th>\n",
       "      <td>1296</td>\n",
       "    </tr>\n",
       "    <tr>\n",
       "      <th>Yes</th>\n",
       "      <td>308</td>\n",
       "    </tr>\n",
       "  </tbody>\n",
       "</table>\n",
       "</div>"
      ],
      "text/plain": [
       "                                 Churn\n",
       "PaymentMethod             Churn       \n",
       "Bank transfer (automatic) No      1284\n",
       "                          Yes      258\n",
       "Credit card (automatic)   No      1289\n",
       "                          Yes      232\n",
       "Electronic check          No      1294\n",
       "                          Yes     1071\n",
       "Mailed check              No      1296\n",
       "                          Yes      308"
      ]
     },
     "execution_count": 42,
     "metadata": {},
     "output_type": "execute_result"
    }
   ],
   "source": [
    "pay_meth = pd.DataFrame(data2.groupby(['PaymentMethod', 'Churn'])['Churn'].count())\n",
    "pay_meth"
   ]
  },
  {
   "cell_type": "markdown",
   "id": "1b5d8416",
   "metadata": {},
   "source": [
    "# Data Preprocessing"
   ]
  },
  {
   "cell_type": "markdown",
   "id": "69290822",
   "metadata": {},
   "source": [
    "More libraries:"
   ]
  },
  {
   "cell_type": "code",
   "execution_count": 43,
   "id": "442db860",
   "metadata": {},
   "outputs": [],
   "source": [
    "from sklearn.preprocessing import StandardScaler\n",
    "from sklearn.model_selection import train_test_split\n",
    "from sklearn.compose import ColumnTransformer"
   ]
  },
  {
   "cell_type": "markdown",
   "id": "1dad4d8b",
   "metadata": {},
   "source": [
    "The goal in this section, Data Preprocessing, is to get our data ready for modeling. In this project we will do that in three ways:\n",
    "\n",
    "We'll be creating dummy variables using get_dummies() from pandas. This will create new columns out of our categorical features. To demonstrate, Contract will get binary columns for each response: Contract_Month-to-month : 1 or 0, Contract_One year : 1 or 0, etc. and of course, 1 or 0 will be indicate Yes or No, respectively. Another (faster) way we could've done this is using a pipline with a column transformer. However, retaining the column names to learn about feature importances would be a hefty task.\n",
    "\n",
    "We don't want to go creating a ton of dummy variables, so we'll only use get_dummies() on the categorical features that have more than 2 responses. For the rest - the binary features - we can just map all the 'Yes' responses to equal 1 and all the 'No' responses to equal 0.\n",
    "\n",
    "We will then take our continuous variables (tenure, MonthlyCharges, TotalCharges) and scale them using StandardScaler(). There is plenty to read on the internet about Feature Scaling. Here is the short version: each value in a column is subtracted by the mean of the column, that number is then divided by the standard deviation of the column, that value now replaces the original value and the end result is that the new mean of the column is 0 and the new standard deviation is 1. The point of this process is to get our variables on the same scale for more effective learning. Random Forest won't see much of an effect from this.\n",
    "\n",
    "Before we do all that we will split the data into training and testing sets. The testing set will consist of 15% of the full dataset, which means that the training set will have 85% of the full dataset.\n",
    "\n",
    "The final thing that we want to look into is the imbalance of our data. For the sake of our sanity, we'll run the models with the data after we conduct all of the above preprocessing steps. When we get all those results, we will use Synthetic Minority Over-Sampling Technique (SMOTE) to balance out the data and see if we get any improvements in accuracy."
   ]
  },
  {
   "cell_type": "code",
   "execution_count": 44,
   "id": "49f7386d",
   "metadata": {},
   "outputs": [],
   "source": [
    "# Drop 'customerID'\n",
    "data2.drop('customerID', axis=1, inplace=True)"
   ]
  },
  {
   "cell_type": "code",
   "execution_count": 45,
   "id": "f3b546b0",
   "metadata": {},
   "outputs": [],
   "source": [
    "# List of categorical and continuous features, sperating binaries, and exlcuding 'gender' and target variable 'Churn'.\n",
    "cont_feats = ['tenure', 'MonthlyCharges', 'TotalCharges']\n",
    "binary_feats = [i for i in data2.columns[:-1] if len(data2[i].unique()) == 2]\n",
    "binary_feats.remove('gender')\n",
    "cat_feats = [i for i in data2.columns[:-1] if i not in cont_feats + binary_feats]"
   ]
  },
  {
   "cell_type": "code",
   "execution_count": 47,
   "id": "563746c2",
   "metadata": {},
   "outputs": [],
   "source": [
    "# Map the binaries 'Yes' and 'No' responses to equal 1 and 0, respectively.\n",
    "data2[binary_feats] = data2[binary_feats].replace(to_replace=['Yes', 'No'], value=[1, 0])"
   ]
  },
  {
   "cell_type": "code",
   "execution_count": 48,
   "id": "b5d25eca",
   "metadata": {},
   "outputs": [],
   "source": [
    "# Creat the dummy variables for features with more than 2 responses\n",
    "final_dat = pd.get_dummies(data2, columns=cat_feats)"
   ]
  },
  {
   "cell_type": "code",
   "execution_count": 49,
   "id": "1360ae09",
   "metadata": {},
   "outputs": [],
   "source": [
    "# Train/Test Split\n",
    "train_set, test_set = train_test_split(final_dat, test_size=0.15, random_state=2021)"
   ]
  },
  {
   "cell_type": "code",
   "execution_count": 50,
   "id": "57fe1436",
   "metadata": {},
   "outputs": [],
   "source": [
    "# Finalize our list of features\n",
    "feats = [i for i in final_dat if i != 'Churn']"
   ]
  },
  {
   "cell_type": "code",
   "execution_count": 51,
   "id": "47a3582a",
   "metadata": {},
   "outputs": [],
   "source": [
    "# Finalize the structure\n",
    "data_tr = train_set[feats].copy()\n",
    "train_labels = train_set['Churn'].copy()\n",
    "data_te = test_set[feats].copy()\n",
    "test_labels = test_set['Churn'].copy()"
   ]
  },
  {
   "cell_type": "code",
   "execution_count": 52,
   "id": "15579313",
   "metadata": {},
   "outputs": [],
   "source": [
    "# Scale the train data\n",
    "col_trans = ColumnTransformer([\n",
    "    ('num', StandardScaler(),  cont_feats)], remainder='passthrough')\n",
    "\n",
    "train_prep = col_trans.fit_transform(data_tr)"
   ]
  },
  {
   "cell_type": "code",
   "execution_count": 53,
   "id": "a81e086c",
   "metadata": {},
   "outputs": [],
   "source": [
    "# Scale the test data based on the training data\n",
    "test_prep = col_trans.transform(data_te)"
   ]
  },
  {
   "cell_type": "code",
   "execution_count": 54,
   "id": "70f3f6d8",
   "metadata": {},
   "outputs": [],
   "source": [
    "# Restructure the list of feature names so that we can use it for feature importances later\n",
    "new_order = [i for i in data_tr.columns if i not in cont_feats]\n",
    "new_order = cont_feats+new_order"
   ]
  },
  {
   "cell_type": "code",
   "execution_count": 55,
   "id": "199510cb",
   "metadata": {},
   "outputs": [
    {
     "data": {
      "text/plain": [
       "(5977, 29)"
      ]
     },
     "execution_count": 55,
     "metadata": {},
     "output_type": "execute_result"
    }
   ],
   "source": [
    "train_prep.shape"
   ]
  },
  {
   "cell_type": "markdown",
   "id": "59457ed1",
   "metadata": {},
   "source": [
    "# Modeling"
   ]
  },
  {
   "cell_type": "markdown",
   "id": "5f73ff4a",
   "metadata": {},
   "source": [
    "Regarding metrics and scoring the performance of our model: Obviously, the company wants to retain as many customers as possible. The goal of this project is to correctly predict which customers will churn. From a business viewpoint, we would want to allocate resources toward focusing on the characteristics of a customer who churns, and spend money there with the goal of reducing churning. Interpeting that from a machine learning perspective: we want to focus on Recall which is a measure used for the effort of reducing False Negatives. We can't let customers slip away because we incorrectly predicted that they would stay.\n",
    "TL;DR - We will be using recall for our scoring measure.\n",
    "And even more libraries:"
   ]
  },
  {
   "cell_type": "code",
   "execution_count": 56,
   "id": "f52c3a75",
   "metadata": {},
   "outputs": [],
   "source": [
    "from sklearn.model_selection import RandomizedSearchCV\n",
    "from sklearn.ensemble import RandomForestClassifier\n",
    "from sklearn.linear_model import LogisticRegression\n",
    "from sklearn.svm import SVC\n",
    "from sklearn.metrics import confusion_matrix\n",
    "from sklearn.metrics import accuracy_score\n",
    "from sklearn.metrics import recall_score\n",
    "from sklearn.metrics import classification_report\n",
    "from numpy import random"
   ]
  },
  {
   "cell_type": "markdown",
   "id": "e0f96149",
   "metadata": {},
   "source": [
    "# Random Forest"
   ]
  },
  {
   "cell_type": "markdown",
   "id": "23346855",
   "metadata": {},
   "source": [
    "We are going to implement RandomizedSearchCV to help us tune our model so we are using the best parameters from a list of different parameters we would like to train on."
   ]
  },
  {
   "cell_type": "code",
   "execution_count": 57,
   "id": "59baaedb",
   "metadata": {},
   "outputs": [],
   "source": [
    "# Outline parameters to test\n",
    "param_grid = {\n",
    "    'n_estimators': random.randint(100,600,3),\n",
    "    'max_features' : random.randint(10,29,3),\n",
    "    'max_depth' : [3,4,5],\n",
    "    'bootstrap' : [True, False]\n",
    "}"
   ]
  },
  {
   "cell_type": "code",
   "execution_count": 58,
   "id": "dfb6a647",
   "metadata": {},
   "outputs": [
    {
     "data": {
      "text/html": [
       "<style>#sk-container-id-1 {color: black;background-color: white;}#sk-container-id-1 pre{padding: 0;}#sk-container-id-1 div.sk-toggleable {background-color: white;}#sk-container-id-1 label.sk-toggleable__label {cursor: pointer;display: block;width: 100%;margin-bottom: 0;padding: 0.3em;box-sizing: border-box;text-align: center;}#sk-container-id-1 label.sk-toggleable__label-arrow:before {content: \"▸\";float: left;margin-right: 0.25em;color: #696969;}#sk-container-id-1 label.sk-toggleable__label-arrow:hover:before {color: black;}#sk-container-id-1 div.sk-estimator:hover label.sk-toggleable__label-arrow:before {color: black;}#sk-container-id-1 div.sk-toggleable__content {max-height: 0;max-width: 0;overflow: hidden;text-align: left;background-color: #f0f8ff;}#sk-container-id-1 div.sk-toggleable__content pre {margin: 0.2em;color: black;border-radius: 0.25em;background-color: #f0f8ff;}#sk-container-id-1 input.sk-toggleable__control:checked~div.sk-toggleable__content {max-height: 200px;max-width: 100%;overflow: auto;}#sk-container-id-1 input.sk-toggleable__control:checked~label.sk-toggleable__label-arrow:before {content: \"▾\";}#sk-container-id-1 div.sk-estimator input.sk-toggleable__control:checked~label.sk-toggleable__label {background-color: #d4ebff;}#sk-container-id-1 div.sk-label input.sk-toggleable__control:checked~label.sk-toggleable__label {background-color: #d4ebff;}#sk-container-id-1 input.sk-hidden--visually {border: 0;clip: rect(1px 1px 1px 1px);clip: rect(1px, 1px, 1px, 1px);height: 1px;margin: -1px;overflow: hidden;padding: 0;position: absolute;width: 1px;}#sk-container-id-1 div.sk-estimator {font-family: monospace;background-color: #f0f8ff;border: 1px dotted black;border-radius: 0.25em;box-sizing: border-box;margin-bottom: 0.5em;}#sk-container-id-1 div.sk-estimator:hover {background-color: #d4ebff;}#sk-container-id-1 div.sk-parallel-item::after {content: \"\";width: 100%;border-bottom: 1px solid gray;flex-grow: 1;}#sk-container-id-1 div.sk-label:hover label.sk-toggleable__label {background-color: #d4ebff;}#sk-container-id-1 div.sk-serial::before {content: \"\";position: absolute;border-left: 1px solid gray;box-sizing: border-box;top: 0;bottom: 0;left: 50%;z-index: 0;}#sk-container-id-1 div.sk-serial {display: flex;flex-direction: column;align-items: center;background-color: white;padding-right: 0.2em;padding-left: 0.2em;position: relative;}#sk-container-id-1 div.sk-item {position: relative;z-index: 1;}#sk-container-id-1 div.sk-parallel {display: flex;align-items: stretch;justify-content: center;background-color: white;position: relative;}#sk-container-id-1 div.sk-item::before, #sk-container-id-1 div.sk-parallel-item::before {content: \"\";position: absolute;border-left: 1px solid gray;box-sizing: border-box;top: 0;bottom: 0;left: 50%;z-index: -1;}#sk-container-id-1 div.sk-parallel-item {display: flex;flex-direction: column;z-index: 1;position: relative;background-color: white;}#sk-container-id-1 div.sk-parallel-item:first-child::after {align-self: flex-end;width: 50%;}#sk-container-id-1 div.sk-parallel-item:last-child::after {align-self: flex-start;width: 50%;}#sk-container-id-1 div.sk-parallel-item:only-child::after {width: 0;}#sk-container-id-1 div.sk-dashed-wrapped {border: 1px dashed gray;margin: 0 0.4em 0.5em 0.4em;box-sizing: border-box;padding-bottom: 0.4em;background-color: white;}#sk-container-id-1 div.sk-label label {font-family: monospace;font-weight: bold;display: inline-block;line-height: 1.2em;}#sk-container-id-1 div.sk-label-container {text-align: center;}#sk-container-id-1 div.sk-container {/* jupyter's `normalize.less` sets `[hidden] { display: none; }` but bootstrap.min.css set `[hidden] { display: none !important; }` so we also need the `!important` here to be able to override the default hidden behavior on the sphinx rendered scikit-learn.org. See: https://github.com/scikit-learn/scikit-learn/issues/21755 */display: inline-block !important;position: relative;}#sk-container-id-1 div.sk-text-repr-fallback {display: none;}</style><div id=\"sk-container-id-1\" class=\"sk-top-container\"><div class=\"sk-text-repr-fallback\"><pre>RandomizedSearchCV(cv=3, estimator=RandomForestClassifier(random_state=2021),\n",
       "                   param_distributions={&#x27;bootstrap&#x27;: [True, False],\n",
       "                                        &#x27;max_depth&#x27;: [3, 4, 5],\n",
       "                                        &#x27;max_features&#x27;: array([18, 28, 12]),\n",
       "                                        &#x27;n_estimators&#x27;: array([162, 271, 324])},\n",
       "                   return_train_score=True, scoring=&#x27;accuracy&#x27;)</pre><b>In a Jupyter environment, please rerun this cell to show the HTML representation or trust the notebook. <br />On GitHub, the HTML representation is unable to render, please try loading this page with nbviewer.org.</b></div><div class=\"sk-container\" hidden><div class=\"sk-item sk-dashed-wrapped\"><div class=\"sk-label-container\"><div class=\"sk-label sk-toggleable\"><input class=\"sk-toggleable__control sk-hidden--visually\" id=\"sk-estimator-id-1\" type=\"checkbox\" ><label for=\"sk-estimator-id-1\" class=\"sk-toggleable__label sk-toggleable__label-arrow\">RandomizedSearchCV</label><div class=\"sk-toggleable__content\"><pre>RandomizedSearchCV(cv=3, estimator=RandomForestClassifier(random_state=2021),\n",
       "                   param_distributions={&#x27;bootstrap&#x27;: [True, False],\n",
       "                                        &#x27;max_depth&#x27;: [3, 4, 5],\n",
       "                                        &#x27;max_features&#x27;: array([18, 28, 12]),\n",
       "                                        &#x27;n_estimators&#x27;: array([162, 271, 324])},\n",
       "                   return_train_score=True, scoring=&#x27;accuracy&#x27;)</pre></div></div></div><div class=\"sk-parallel\"><div class=\"sk-parallel-item\"><div class=\"sk-item\"><div class=\"sk-label-container\"><div class=\"sk-label sk-toggleable\"><input class=\"sk-toggleable__control sk-hidden--visually\" id=\"sk-estimator-id-2\" type=\"checkbox\" ><label for=\"sk-estimator-id-2\" class=\"sk-toggleable__label sk-toggleable__label-arrow\">estimator: RandomForestClassifier</label><div class=\"sk-toggleable__content\"><pre>RandomForestClassifier(random_state=2021)</pre></div></div></div><div class=\"sk-serial\"><div class=\"sk-item\"><div class=\"sk-estimator sk-toggleable\"><input class=\"sk-toggleable__control sk-hidden--visually\" id=\"sk-estimator-id-3\" type=\"checkbox\" ><label for=\"sk-estimator-id-3\" class=\"sk-toggleable__label sk-toggleable__label-arrow\">RandomForestClassifier</label><div class=\"sk-toggleable__content\"><pre>RandomForestClassifier(random_state=2021)</pre></div></div></div></div></div></div></div></div></div></div>"
      ],
      "text/plain": [
       "RandomizedSearchCV(cv=3, estimator=RandomForestClassifier(random_state=2021),\n",
       "                   param_distributions={'bootstrap': [True, False],\n",
       "                                        'max_depth': [3, 4, 5],\n",
       "                                        'max_features': array([18, 28, 12]),\n",
       "                                        'n_estimators': array([162, 271, 324])},\n",
       "                   return_train_score=True, scoring='accuracy')"
      ]
     },
     "execution_count": 58,
     "metadata": {},
     "output_type": "execute_result"
    }
   ],
   "source": [
    "rf_clf = RandomForestClassifier(random_state=2021)\n",
    "rf_grid = RandomizedSearchCV(rf_clf, param_grid, cv=3, scoring='accuracy',\n",
    "                           return_train_score=True)\n",
    "rf_grid.fit(train_prep, train_labels)"
   ]
  },
  {
   "cell_type": "code",
   "execution_count": 59,
   "id": "4fc9e0e0",
   "metadata": {},
   "outputs": [
    {
     "data": {
      "text/html": [
       "<div>\n",
       "<style scoped>\n",
       "    .dataframe tbody tr th:only-of-type {\n",
       "        vertical-align: middle;\n",
       "    }\n",
       "\n",
       "    .dataframe tbody tr th {\n",
       "        vertical-align: top;\n",
       "    }\n",
       "\n",
       "    .dataframe thead th {\n",
       "        text-align: right;\n",
       "    }\n",
       "</style>\n",
       "<table border=\"1\" class=\"dataframe\">\n",
       "  <thead>\n",
       "    <tr style=\"text-align: right;\">\n",
       "      <th></th>\n",
       "      <th>Train_Error</th>\n",
       "      <th>Test_Error</th>\n",
       "      <th>Parameter_Set</th>\n",
       "    </tr>\n",
       "  </thead>\n",
       "  <tbody>\n",
       "    <tr>\n",
       "      <th>0</th>\n",
       "      <td>0.799481</td>\n",
       "      <td>0.793708</td>\n",
       "      <td>{'n_estimators': 324, 'max_features': 18, 'max_depth': 4, 'bootstrap': False}</td>\n",
       "    </tr>\n",
       "    <tr>\n",
       "      <th>1</th>\n",
       "      <td>0.815710</td>\n",
       "      <td>0.803078</td>\n",
       "      <td>{'n_estimators': 271, 'max_features': 12, 'max_depth': 5, 'bootstrap': True}</td>\n",
       "    </tr>\n",
       "    <tr>\n",
       "      <th>2</th>\n",
       "      <td>0.813452</td>\n",
       "      <td>0.800569</td>\n",
       "      <td>{'n_estimators': 324, 'max_features': 28, 'max_depth': 5, 'bootstrap': True}</td>\n",
       "    </tr>\n",
       "    <tr>\n",
       "      <th>3</th>\n",
       "      <td>0.799816</td>\n",
       "      <td>0.793039</td>\n",
       "      <td>{'n_estimators': 271, 'max_features': 18, 'max_depth': 4, 'bootstrap': False}</td>\n",
       "    </tr>\n",
       "    <tr>\n",
       "      <th>4</th>\n",
       "      <td>0.813033</td>\n",
       "      <td>0.799397</td>\n",
       "      <td>{'n_estimators': 324, 'max_features': 12, 'max_depth': 5, 'bootstrap': False}</td>\n",
       "    </tr>\n",
       "    <tr>\n",
       "      <th>5</th>\n",
       "      <td>0.793374</td>\n",
       "      <td>0.791533</td>\n",
       "      <td>{'n_estimators': 162, 'max_features': 18, 'max_depth': 3, 'bootstrap': True}</td>\n",
       "    </tr>\n",
       "    <tr>\n",
       "      <th>6</th>\n",
       "      <td>0.793207</td>\n",
       "      <td>0.790529</td>\n",
       "      <td>{'n_estimators': 162, 'max_features': 28, 'max_depth': 3, 'bootstrap': True}</td>\n",
       "    </tr>\n",
       "    <tr>\n",
       "      <th>7</th>\n",
       "      <td>0.813786</td>\n",
       "      <td>0.800234</td>\n",
       "      <td>{'n_estimators': 271, 'max_features': 28, 'max_depth': 5, 'bootstrap': True}</td>\n",
       "    </tr>\n",
       "    <tr>\n",
       "      <th>8</th>\n",
       "      <td>0.804166</td>\n",
       "      <td>0.789525</td>\n",
       "      <td>{'n_estimators': 271, 'max_features': 28, 'max_depth': 5, 'bootstrap': False}</td>\n",
       "    </tr>\n",
       "    <tr>\n",
       "      <th>9</th>\n",
       "      <td>0.793793</td>\n",
       "      <td>0.791533</td>\n",
       "      <td>{'n_estimators': 271, 'max_features': 12, 'max_depth': 3, 'bootstrap': True}</td>\n",
       "    </tr>\n",
       "  </tbody>\n",
       "</table>\n",
       "</div>"
      ],
      "text/plain": [
       "   Train_Error  Test_Error  \\\n",
       "0     0.799481    0.793708   \n",
       "1     0.815710    0.803078   \n",
       "2     0.813452    0.800569   \n",
       "3     0.799816    0.793039   \n",
       "4     0.813033    0.799397   \n",
       "5     0.793374    0.791533   \n",
       "6     0.793207    0.790529   \n",
       "7     0.813786    0.800234   \n",
       "8     0.804166    0.789525   \n",
       "9     0.793793    0.791533   \n",
       "\n",
       "                                                                   Parameter_Set  \n",
       "0  {'n_estimators': 324, 'max_features': 18, 'max_depth': 4, 'bootstrap': False}  \n",
       "1   {'n_estimators': 271, 'max_features': 12, 'max_depth': 5, 'bootstrap': True}  \n",
       "2   {'n_estimators': 324, 'max_features': 28, 'max_depth': 5, 'bootstrap': True}  \n",
       "3  {'n_estimators': 271, 'max_features': 18, 'max_depth': 4, 'bootstrap': False}  \n",
       "4  {'n_estimators': 324, 'max_features': 12, 'max_depth': 5, 'bootstrap': False}  \n",
       "5   {'n_estimators': 162, 'max_features': 18, 'max_depth': 3, 'bootstrap': True}  \n",
       "6   {'n_estimators': 162, 'max_features': 28, 'max_depth': 3, 'bootstrap': True}  \n",
       "7   {'n_estimators': 271, 'max_features': 28, 'max_depth': 5, 'bootstrap': True}  \n",
       "8  {'n_estimators': 271, 'max_features': 28, 'max_depth': 5, 'bootstrap': False}  \n",
       "9   {'n_estimators': 271, 'max_features': 12, 'max_depth': 3, 'bootstrap': True}  "
      ]
     },
     "execution_count": 59,
     "metadata": {},
     "output_type": "execute_result"
    }
   ],
   "source": [
    "cvres = rf_grid.cv_results_\n",
    "grid_rf_df = pd.DataFrame({\n",
    "    \"Train_Error\": cvres[\"mean_train_score\"],\n",
    "    \"Test_Error\": cvres[\"mean_test_score\"],\n",
    "    \"Parameter_Set\": cvres[\"params\"],\n",
    "}).sort_index()\n",
    "pd.set_option('display.max_colwidth', None)\n",
    "grid_rf_df.tail(10)"
   ]
  },
  {
   "cell_type": "code",
   "execution_count": 60,
   "id": "36d47916",
   "metadata": {},
   "outputs": [],
   "source": [
    "final_model = rf_grid.best_estimator_\n",
    "rf_preds = final_model.predict(test_prep)\n",
    "rfmod_pred_score = accuracy_score(test_labels, rf_preds)\n",
    "rfmod_recall = recall_score(test_labels, rf_preds, pos_label='Yes')"
   ]
  },
  {
   "cell_type": "code",
   "execution_count": 61,
   "id": "6f052d10",
   "metadata": {},
   "outputs": [
    {
     "data": {
      "image/png": "[encoded data removed]",
      "text/plain": [
       "<Figure size 432x288 with 1 Axes>"
      ]
     },
     "metadata": {
      "needs_background": "light"
     },
     "output_type": "display_data"
    },
    {
     "name": "stdout",
     "output_type": "stream",
     "text": [
      "Total predictions = 1055\n"
     ]
    }
   ],
   "source": [
    "mat = confusion_matrix(test_labels, rf_preds)\n",
    "sns.heatmap(mat.T, square=True, annot=True, fmt='d', cbar=False, cmap='RdBu')\n",
    "plt.xlabel('Actual Churn', size=15)\n",
    "plt.ylabel('Predicted Churn', size=15)\n",
    "plt.show()\n",
    "print('Total predictions = %d' % len(test_labels))"
   ]
  },
  {
   "cell_type": "code",
   "execution_count": 62,
   "id": "81174828",
   "metadata": {},
   "outputs": [
    {
     "name": "stdout",
     "output_type": "stream",
     "text": [
      "Train error rate = 19.69%\n",
      "Test error rate = 20.47%\n",
      "Test Recall = 48.25%\n"
     ]
    }
   ],
   "source": [
    "print('Train error rate = %.2f%%' % ((1 - rf_grid.best_score_) * 100))\n",
    "print('Test error rate = %.2f%%' % ((1 - rfmod_pred_score) * 100))\n",
    "print('Test Recall = %.2f%%' % (rfmod_recall * 100))"
   ]
  },
  {
   "cell_type": "markdown",
   "id": "4b469c9c",
   "metadata": {},
   "source": [
    "The training error rate being within ~1.3% of the testing error rate lets us know that if we have any issues modeling, it might be underfitting, but that number isn't enough to be concerned about at this time."
   ]
  },
  {
   "cell_type": "code",
   "execution_count": 63,
   "id": "b3ebee45",
   "metadata": {},
   "outputs": [
    {
     "name": "stdout",
     "output_type": "stream",
     "text": [
      "              precision    recall  f1-score   support\n",
      "\n",
      "          No       0.83      0.91      0.87       769\n",
      "         Yes       0.67      0.48      0.56       286\n",
      "\n",
      "    accuracy                           0.80      1055\n",
      "   macro avg       0.75      0.70      0.71      1055\n",
      "weighted avg       0.78      0.80      0.78      1055\n",
      "\n"
     ]
    }
   ],
   "source": [
    "print(classification_report(test_labels, rf_preds))"
   ]
  },
  {
   "cell_type": "markdown",
   "id": "780766df",
   "metadata": {},
   "source": [
    "The plot above is called a confusion matrix. The X axis is the actual value from the data set, the y axis is the predicted value. Here is what the confusion matrix tells us:\n",
    "\n",
    "Our recall score, 50%, is not good. It says that we are only correctly predicting when a customer will churn half of the time.\n",
    "\n",
    "Overall accuracy at 79% is also not good. We'll have to check other models and see if we can improve.\n",
    "\n",
    "The model does fairly well in predicting that customers will stay, but not so much in predicting that a customer will leave. This is a given considering the imbalance in our data favors customers who do not churn.\n",
    "\n",
    "Next, we'll look at which features the model considered most important for making its predictions."
   ]
  },
  {
   "cell_type": "code",
   "execution_count": 64,
   "id": "e8d2aff1",
   "metadata": {},
   "outputs": [],
   "source": [
    "## Create a pandas dataframe out of our train_prep array and add the columns in the correct order\n",
    "df = pd.DataFrame(train_prep, columns = new_order)"
   ]
  },
  {
   "cell_type": "code",
   "execution_count": 65,
   "id": "53af5cda",
   "metadata": {},
   "outputs": [
    {
     "data": {
      "text/html": [
       "<div>\n",
       "<style scoped>\n",
       "    .dataframe tbody tr th:only-of-type {\n",
       "        vertical-align: middle;\n",
       "    }\n",
       "\n",
       "    .dataframe tbody tr th {\n",
       "        vertical-align: top;\n",
       "    }\n",
       "\n",
       "    .dataframe thead th {\n",
       "        text-align: right;\n",
       "    }\n",
       "</style>\n",
       "<table border=\"1\" class=\"dataframe\">\n",
       "  <thead>\n",
       "    <tr style=\"text-align: right;\">\n",
       "      <th></th>\n",
       "      <th>Importance</th>\n",
       "    </tr>\n",
       "  </thead>\n",
       "  <tbody>\n",
       "    <tr>\n",
       "      <th>Contract_Month-to-month</th>\n",
       "      <td>0.293002</td>\n",
       "    </tr>\n",
       "    <tr>\n",
       "      <th>tenure</th>\n",
       "      <td>0.189597</td>\n",
       "    </tr>\n",
       "    <tr>\n",
       "      <th>InternetService_Fiber optic</th>\n",
       "      <td>0.131818</td>\n",
       "    </tr>\n",
       "    <tr>\n",
       "      <th>TotalCharges</th>\n",
       "      <td>0.092610</td>\n",
       "    </tr>\n",
       "    <tr>\n",
       "      <th>MonthlyCharges</th>\n",
       "      <td>0.076599</td>\n",
       "    </tr>\n",
       "    <tr>\n",
       "      <th>PaymentMethod_Electronic check</th>\n",
       "      <td>0.058784</td>\n",
       "    </tr>\n",
       "    <tr>\n",
       "      <th>Contract_Two year</th>\n",
       "      <td>0.044035</td>\n",
       "    </tr>\n",
       "    <tr>\n",
       "      <th>InternetService_No</th>\n",
       "      <td>0.026566</td>\n",
       "    </tr>\n",
       "    <tr>\n",
       "      <th>InternetService_DSL</th>\n",
       "      <td>0.017447</td>\n",
       "    </tr>\n",
       "    <tr>\n",
       "      <th>Contract_One year</th>\n",
       "      <td>0.013462</td>\n",
       "    </tr>\n",
       "  </tbody>\n",
       "</table>\n",
       "</div>"
      ],
      "text/plain": [
       "                                Importance\n",
       "Contract_Month-to-month           0.293002\n",
       "tenure                            0.189597\n",
       "InternetService_Fiber optic       0.131818\n",
       "TotalCharges                      0.092610\n",
       "MonthlyCharges                    0.076599\n",
       "PaymentMethod_Electronic check    0.058784\n",
       "Contract_Two year                 0.044035\n",
       "InternetService_No                0.026566\n",
       "InternetService_DSL               0.017447\n",
       "Contract_One year                 0.013462"
      ]
     },
     "execution_count": 65,
     "metadata": {},
     "output_type": "execute_result"
    }
   ],
   "source": [
    "rf_importances = pd.DataFrame(rf_grid.best_estimator_.feature_importances_,\n",
    "                                   index = df.columns,\n",
    "                                    columns=['Importance']).sort_values('Importance', ascending=False)\n",
    "\n",
    "rf_importances[:10]"
   ]
  },
  {
   "cell_type": "markdown",
   "id": "d53b8a16",
   "metadata": {},
   "source": [
    "We have a lot of features, so lets just plot the top 5."
   ]
  },
  {
   "cell_type": "code",
   "execution_count": 66,
   "id": "26b53826",
   "metadata": {},
   "outputs": [],
   "source": [
    "top_5 = rf_importances[rf_importances['Importance'] > .05]"
   ]
  },
  {
   "cell_type": "code",
   "execution_count": 67,
   "id": "bbfd3e01",
   "metadata": {},
   "outputs": [
    {
     "data": {
      "image/png": "[encoded data removed]",
      "text/plain": [
       "<Figure size 936x576 with 1 Axes>"
      ]
     },
     "metadata": {
      "needs_background": "light"
     },
     "output_type": "display_data"
    }
   ],
   "source": [
    "plt.figure(figsize=(13,8))\n",
    "ax = sns.barplot(top_5.index, top_5['Importance'])\n",
    "ax.set_xticklabels(ax.get_xticklabels(), rotation=45, fontsize=12)\n",
    "plt.show()"
   ]
  },
  {
   "cell_type": "markdown",
   "id": "fccc2399",
   "metadata": {},
   "source": [
    "The barplot above tells us that the most important feature in making predictions is Contract_Month-to-month, followed by tenure, InternetService_Fiber optic, TotalCharges, and MonthlyCharges, respectively."
   ]
  },
  {
   "cell_type": "markdown",
   "id": "69bb10d2",
   "metadata": {},
   "source": [
    "# Logistic Regression Classifier"
   ]
  },
  {
   "cell_type": "markdown",
   "id": "cbafb05b",
   "metadata": {},
   "source": [
    "Now lets play with Logistic Regression and see if we get any better performance."
   ]
  },
  {
   "cell_type": "code",
   "execution_count": 68,
   "id": "19dd1024",
   "metadata": {},
   "outputs": [],
   "source": [
    "# Outline parameters to test\n",
    "param_grid = [\n",
    "    {'max_iter': random.randint(100,600,3), 'C': [.1,.5,1], 'penalty': ['l2'], 'solver': ['lbfgs'], 'tol': [.01, .001, .0001]},\n",
    "    {'max_iter': random.randint(100,600,3), 'penalty': ['none'], 'tol': [.01, .001, .0001]},  \n",
    "    {'max_iter': random.randint(100,600,3), 'C': [.1,.5,1], 'penalty': ['l1'], 'solver': ['liblinear'], 'tol': [.01, .001, .0001]},\n",
    "    {'max_iter': random.randint(100,600,3), 'C': [.1,.5,1], 'penalty': ['elasticnet'], 'solver': ['saga'], 'l1_ratio':[.25, .5, .75], 'tol': [.01, .001, .0001]}\n",
    "]"
   ]
  },
  {
   "cell_type": "code",
   "execution_count": 69,
   "id": "a689aecb",
   "metadata": {},
   "outputs": [
    {
     "data": {
      "text/html": [
       "<style>#sk-container-id-2 {color: black;background-color: white;}#sk-container-id-2 pre{padding: 0;}#sk-container-id-2 div.sk-toggleable {background-color: white;}#sk-container-id-2 label.sk-toggleable__label {cursor: pointer;display: block;width: 100%;margin-bottom: 0;padding: 0.3em;box-sizing: border-box;text-align: center;}#sk-container-id-2 label.sk-toggleable__label-arrow:before {content: \"▸\";float: left;margin-right: 0.25em;color: #696969;}#sk-container-id-2 label.sk-toggleable__label-arrow:hover:before {color: black;}#sk-container-id-2 div.sk-estimator:hover label.sk-toggleable__label-arrow:before {color: black;}#sk-container-id-2 div.sk-toggleable__content {max-height: 0;max-width: 0;overflow: hidden;text-align: left;background-color: #f0f8ff;}#sk-container-id-2 div.sk-toggleable__content pre {margin: 0.2em;color: black;border-radius: 0.25em;background-color: #f0f8ff;}#sk-container-id-2 input.sk-toggleable__control:checked~div.sk-toggleable__content {max-height: 200px;max-width: 100%;overflow: auto;}#sk-container-id-2 input.sk-toggleable__control:checked~label.sk-toggleable__label-arrow:before {content: \"▾\";}#sk-container-id-2 div.sk-estimator input.sk-toggleable__control:checked~label.sk-toggleable__label {background-color: #d4ebff;}#sk-container-id-2 div.sk-label input.sk-toggleable__control:checked~label.sk-toggleable__label {background-color: #d4ebff;}#sk-container-id-2 input.sk-hidden--visually {border: 0;clip: rect(1px 1px 1px 1px);clip: rect(1px, 1px, 1px, 1px);height: 1px;margin: -1px;overflow: hidden;padding: 0;position: absolute;width: 1px;}#sk-container-id-2 div.sk-estimator {font-family: monospace;background-color: #f0f8ff;border: 1px dotted black;border-radius: 0.25em;box-sizing: border-box;margin-bottom: 0.5em;}#sk-container-id-2 div.sk-estimator:hover {background-color: #d4ebff;}#sk-container-id-2 div.sk-parallel-item::after {content: \"\";width: 100%;border-bottom: 1px solid gray;flex-grow: 1;}#sk-container-id-2 div.sk-label:hover label.sk-toggleable__label {background-color: #d4ebff;}#sk-container-id-2 div.sk-serial::before {content: \"\";position: absolute;border-left: 1px solid gray;box-sizing: border-box;top: 0;bottom: 0;left: 50%;z-index: 0;}#sk-container-id-2 div.sk-serial {display: flex;flex-direction: column;align-items: center;background-color: white;padding-right: 0.2em;padding-left: 0.2em;position: relative;}#sk-container-id-2 div.sk-item {position: relative;z-index: 1;}#sk-container-id-2 div.sk-parallel {display: flex;align-items: stretch;justify-content: center;background-color: white;position: relative;}#sk-container-id-2 div.sk-item::before, #sk-container-id-2 div.sk-parallel-item::before {content: \"\";position: absolute;border-left: 1px solid gray;box-sizing: border-box;top: 0;bottom: 0;left: 50%;z-index: -1;}#sk-container-id-2 div.sk-parallel-item {display: flex;flex-direction: column;z-index: 1;position: relative;background-color: white;}#sk-container-id-2 div.sk-parallel-item:first-child::after {align-self: flex-end;width: 50%;}#sk-container-id-2 div.sk-parallel-item:last-child::after {align-self: flex-start;width: 50%;}#sk-container-id-2 div.sk-parallel-item:only-child::after {width: 0;}#sk-container-id-2 div.sk-dashed-wrapped {border: 1px dashed gray;margin: 0 0.4em 0.5em 0.4em;box-sizing: border-box;padding-bottom: 0.4em;background-color: white;}#sk-container-id-2 div.sk-label label {font-family: monospace;font-weight: bold;display: inline-block;line-height: 1.2em;}#sk-container-id-2 div.sk-label-container {text-align: center;}#sk-container-id-2 div.sk-container {/* jupyter's `normalize.less` sets `[hidden] { display: none; }` but bootstrap.min.css set `[hidden] { display: none !important; }` so we also need the `!important` here to be able to override the default hidden behavior on the sphinx rendered scikit-learn.org. See: https://github.com/scikit-learn/scikit-learn/issues/21755 */display: inline-block !important;position: relative;}#sk-container-id-2 div.sk-text-repr-fallback {display: none;}</style><div id=\"sk-container-id-2\" class=\"sk-top-container\"><div class=\"sk-text-repr-fallback\"><pre>RandomizedSearchCV(cv=3, estimator=LogisticRegression(),\n",
       "                   param_distributions=[{&#x27;C&#x27;: [0.1, 0.5, 1],\n",
       "                                         &#x27;max_iter&#x27;: array([580, 528, 144]),\n",
       "                                         &#x27;penalty&#x27;: [&#x27;l2&#x27;], &#x27;solver&#x27;: [&#x27;lbfgs&#x27;],\n",
       "                                         &#x27;tol&#x27;: [0.01, 0.001, 0.0001]},\n",
       "                                        {&#x27;max_iter&#x27;: array([144, 381, 467]),\n",
       "                                         &#x27;penalty&#x27;: [&#x27;none&#x27;],\n",
       "                                         &#x27;tol&#x27;: [0.01, 0.001, 0.0001]},\n",
       "                                        {&#x27;C&#x27;: [0.1, 0.5, 1],\n",
       "                                         &#x27;max_iter&#x27;: array([199, 164, 116]),\n",
       "                                         &#x27;penalty&#x27;: [&#x27;l1&#x27;],\n",
       "                                         &#x27;solver&#x27;: [&#x27;liblinear&#x27;],\n",
       "                                         &#x27;tol&#x27;: [0.01, 0.001, 0.0001]},\n",
       "                                        {&#x27;C&#x27;: [0.1, 0.5, 1],\n",
       "                                         &#x27;l1_ratio&#x27;: [0.25, 0.5, 0.75],\n",
       "                                         &#x27;max_iter&#x27;: array([575, 564, 287]),\n",
       "                                         &#x27;penalty&#x27;: [&#x27;elasticnet&#x27;],\n",
       "                                         &#x27;solver&#x27;: [&#x27;saga&#x27;],\n",
       "                                         &#x27;tol&#x27;: [0.01, 0.001, 0.0001]}],\n",
       "                   return_train_score=True, scoring=&#x27;accuracy&#x27;)</pre><b>In a Jupyter environment, please rerun this cell to show the HTML representation or trust the notebook. <br />On GitHub, the HTML representation is unable to render, please try loading this page with nbviewer.org.</b></div><div class=\"sk-container\" hidden><div class=\"sk-item sk-dashed-wrapped\"><div class=\"sk-label-container\"><div class=\"sk-label sk-toggleable\"><input class=\"sk-toggleable__control sk-hidden--visually\" id=\"sk-estimator-id-4\" type=\"checkbox\" ><label for=\"sk-estimator-id-4\" class=\"sk-toggleable__label sk-toggleable__label-arrow\">RandomizedSearchCV</label><div class=\"sk-toggleable__content\"><pre>RandomizedSearchCV(cv=3, estimator=LogisticRegression(),\n",
       "                   param_distributions=[{&#x27;C&#x27;: [0.1, 0.5, 1],\n",
       "                                         &#x27;max_iter&#x27;: array([580, 528, 144]),\n",
       "                                         &#x27;penalty&#x27;: [&#x27;l2&#x27;], &#x27;solver&#x27;: [&#x27;lbfgs&#x27;],\n",
       "                                         &#x27;tol&#x27;: [0.01, 0.001, 0.0001]},\n",
       "                                        {&#x27;max_iter&#x27;: array([144, 381, 467]),\n",
       "                                         &#x27;penalty&#x27;: [&#x27;none&#x27;],\n",
       "                                         &#x27;tol&#x27;: [0.01, 0.001, 0.0001]},\n",
       "                                        {&#x27;C&#x27;: [0.1, 0.5, 1],\n",
       "                                         &#x27;max_iter&#x27;: array([199, 164, 116]),\n",
       "                                         &#x27;penalty&#x27;: [&#x27;l1&#x27;],\n",
       "                                         &#x27;solver&#x27;: [&#x27;liblinear&#x27;],\n",
       "                                         &#x27;tol&#x27;: [0.01, 0.001, 0.0001]},\n",
       "                                        {&#x27;C&#x27;: [0.1, 0.5, 1],\n",
       "                                         &#x27;l1_ratio&#x27;: [0.25, 0.5, 0.75],\n",
       "                                         &#x27;max_iter&#x27;: array([575, 564, 287]),\n",
       "                                         &#x27;penalty&#x27;: [&#x27;elasticnet&#x27;],\n",
       "                                         &#x27;solver&#x27;: [&#x27;saga&#x27;],\n",
       "                                         &#x27;tol&#x27;: [0.01, 0.001, 0.0001]}],\n",
       "                   return_train_score=True, scoring=&#x27;accuracy&#x27;)</pre></div></div></div><div class=\"sk-parallel\"><div class=\"sk-parallel-item\"><div class=\"sk-item\"><div class=\"sk-label-container\"><div class=\"sk-label sk-toggleable\"><input class=\"sk-toggleable__control sk-hidden--visually\" id=\"sk-estimator-id-5\" type=\"checkbox\" ><label for=\"sk-estimator-id-5\" class=\"sk-toggleable__label sk-toggleable__label-arrow\">estimator: LogisticRegression</label><div class=\"sk-toggleable__content\"><pre>LogisticRegression()</pre></div></div></div><div class=\"sk-serial\"><div class=\"sk-item\"><div class=\"sk-estimator sk-toggleable\"><input class=\"sk-toggleable__control sk-hidden--visually\" id=\"sk-estimator-id-6\" type=\"checkbox\" ><label for=\"sk-estimator-id-6\" class=\"sk-toggleable__label sk-toggleable__label-arrow\">LogisticRegression</label><div class=\"sk-toggleable__content\"><pre>LogisticRegression()</pre></div></div></div></div></div></div></div></div></div></div>"
      ],
      "text/plain": [
       "RandomizedSearchCV(cv=3, estimator=LogisticRegression(),\n",
       "                   param_distributions=[{'C': [0.1, 0.5, 1],\n",
       "                                         'max_iter': array([580, 528, 144]),\n",
       "                                         'penalty': ['l2'], 'solver': ['lbfgs'],\n",
       "                                         'tol': [0.01, 0.001, 0.0001]},\n",
       "                                        {'max_iter': array([144, 381, 467]),\n",
       "                                         'penalty': ['none'],\n",
       "                                         'tol': [0.01, 0.001, 0.0001]},\n",
       "                                        {'C': [0.1, 0.5, 1],\n",
       "                                         'max_iter': array([199, 164, 116]),\n",
       "                                         'penalty': ['l1'],\n",
       "                                         'solver': ['liblinear'],\n",
       "                                         'tol': [0.01, 0.001, 0.0001]},\n",
       "                                        {'C': [0.1, 0.5, 1],\n",
       "                                         'l1_ratio': [0.25, 0.5, 0.75],\n",
       "                                         'max_iter': array([575, 564, 287]),\n",
       "                                         'penalty': ['elasticnet'],\n",
       "                                         'solver': ['saga'],\n",
       "                                         'tol': [0.01, 0.001, 0.0001]}],\n",
       "                   return_train_score=True, scoring='accuracy')"
      ]
     },
     "execution_count": 69,
     "metadata": {},
     "output_type": "execute_result"
    }
   ],
   "source": [
    "log_clf = LogisticRegression()\n",
    "log_grid = RandomizedSearchCV(log_clf, param_grid, cv=3, scoring='accuracy',\n",
    "                           return_train_score=True)\n",
    "log_grid.fit(train_prep, train_labels)"
   ]
  },
  {
   "cell_type": "code",
   "execution_count": 70,
   "id": "71e53aa3",
   "metadata": {},
   "outputs": [
    {
     "data": {
      "text/html": [
       "<div>\n",
       "<style scoped>\n",
       "    .dataframe tbody tr th:only-of-type {\n",
       "        vertical-align: middle;\n",
       "    }\n",
       "\n",
       "    .dataframe tbody tr th {\n",
       "        vertical-align: top;\n",
       "    }\n",
       "\n",
       "    .dataframe thead th {\n",
       "        text-align: right;\n",
       "    }\n",
       "</style>\n",
       "<table border=\"1\" class=\"dataframe\">\n",
       "  <thead>\n",
       "    <tr style=\"text-align: right;\">\n",
       "      <th></th>\n",
       "      <th>Train_Error</th>\n",
       "      <th>Test_Error</th>\n",
       "      <th>Parameter_Set</th>\n",
       "    </tr>\n",
       "  </thead>\n",
       "  <tbody>\n",
       "    <tr>\n",
       "      <th>0</th>\n",
       "      <td>0.804584</td>\n",
       "      <td>0.804083</td>\n",
       "      <td>{'tol': 0.0001, 'solver': 'saga', 'penalty': 'elasticnet', 'max_iter': 575, 'l1_ratio': 0.5, 'C': 1}</td>\n",
       "    </tr>\n",
       "    <tr>\n",
       "      <th>1</th>\n",
       "      <td>0.805086</td>\n",
       "      <td>0.801406</td>\n",
       "      <td>{'tol': 0.0001, 'solver': 'lbfgs', 'penalty': 'l2', 'max_iter': 528, 'C': 0.1}</td>\n",
       "    </tr>\n",
       "    <tr>\n",
       "      <th>2</th>\n",
       "      <td>0.804835</td>\n",
       "      <td>0.802745</td>\n",
       "      <td>{'tol': 0.0001, 'solver': 'liblinear', 'penalty': 'l1', 'max_iter': 199, 'C': 0.5}</td>\n",
       "    </tr>\n",
       "    <tr>\n",
       "      <th>3</th>\n",
       "      <td>0.805588</td>\n",
       "      <td>0.801741</td>\n",
       "      <td>{'tol': 0.0001, 'solver': 'saga', 'penalty': 'elasticnet', 'max_iter': 575, 'l1_ratio': 0.75, 'C': 0.1}</td>\n",
       "    </tr>\n",
       "    <tr>\n",
       "      <th>4</th>\n",
       "      <td>0.804501</td>\n",
       "      <td>0.803748</td>\n",
       "      <td>{'tol': 0.001, 'solver': 'saga', 'penalty': 'elasticnet', 'max_iter': 575, 'l1_ratio': 0.75, 'C': 0.5}</td>\n",
       "    </tr>\n",
       "    <tr>\n",
       "      <th>5</th>\n",
       "      <td>0.803413</td>\n",
       "      <td>0.799398</td>\n",
       "      <td>{'tol': 0.01, 'solver': 'liblinear', 'penalty': 'l1', 'max_iter': 116, 'C': 0.1}</td>\n",
       "    </tr>\n",
       "    <tr>\n",
       "      <th>6</th>\n",
       "      <td>0.805003</td>\n",
       "      <td>0.803079</td>\n",
       "      <td>{'tol': 0.0001, 'solver': 'saga', 'penalty': 'elasticnet', 'max_iter': 287, 'l1_ratio': 0.5, 'C': 0.5}</td>\n",
       "    </tr>\n",
       "    <tr>\n",
       "      <th>7</th>\n",
       "      <td>0.804501</td>\n",
       "      <td>0.803748</td>\n",
       "      <td>{'tol': 0.001, 'solver': 'saga', 'penalty': 'elasticnet', 'max_iter': 564, 'l1_ratio': 0.75, 'C': 0.5}</td>\n",
       "    </tr>\n",
       "    <tr>\n",
       "      <th>8</th>\n",
       "      <td>0.804250</td>\n",
       "      <td>0.802745</td>\n",
       "      <td>{'tol': 0.001, 'solver': 'saga', 'penalty': 'elasticnet', 'max_iter': 564, 'l1_ratio': 0.25, 'C': 0.1}</td>\n",
       "    </tr>\n",
       "    <tr>\n",
       "      <th>9</th>\n",
       "      <td>0.805588</td>\n",
       "      <td>0.801741</td>\n",
       "      <td>{'tol': 0.001, 'solver': 'saga', 'penalty': 'elasticnet', 'max_iter': 564, 'l1_ratio': 0.75, 'C': 0.1}</td>\n",
       "    </tr>\n",
       "  </tbody>\n",
       "</table>\n",
       "</div>"
      ],
      "text/plain": [
       "   Train_Error  Test_Error  \\\n",
       "0     0.804584    0.804083   \n",
       "1     0.805086    0.801406   \n",
       "2     0.804835    0.802745   \n",
       "3     0.805588    0.801741   \n",
       "4     0.804501    0.803748   \n",
       "5     0.803413    0.799398   \n",
       "6     0.805003    0.803079   \n",
       "7     0.804501    0.803748   \n",
       "8     0.804250    0.802745   \n",
       "9     0.805588    0.801741   \n",
       "\n",
       "                                                                                             Parameter_Set  \n",
       "0     {'tol': 0.0001, 'solver': 'saga', 'penalty': 'elasticnet', 'max_iter': 575, 'l1_ratio': 0.5, 'C': 1}  \n",
       "1                           {'tol': 0.0001, 'solver': 'lbfgs', 'penalty': 'l2', 'max_iter': 528, 'C': 0.1}  \n",
       "2                       {'tol': 0.0001, 'solver': 'liblinear', 'penalty': 'l1', 'max_iter': 199, 'C': 0.5}  \n",
       "3  {'tol': 0.0001, 'solver': 'saga', 'penalty': 'elasticnet', 'max_iter': 575, 'l1_ratio': 0.75, 'C': 0.1}  \n",
       "4   {'tol': 0.001, 'solver': 'saga', 'penalty': 'elasticnet', 'max_iter': 575, 'l1_ratio': 0.75, 'C': 0.5}  \n",
       "5                         {'tol': 0.01, 'solver': 'liblinear', 'penalty': 'l1', 'max_iter': 116, 'C': 0.1}  \n",
       "6   {'tol': 0.0001, 'solver': 'saga', 'penalty': 'elasticnet', 'max_iter': 287, 'l1_ratio': 0.5, 'C': 0.5}  \n",
       "7   {'tol': 0.001, 'solver': 'saga', 'penalty': 'elasticnet', 'max_iter': 564, 'l1_ratio': 0.75, 'C': 0.5}  \n",
       "8   {'tol': 0.001, 'solver': 'saga', 'penalty': 'elasticnet', 'max_iter': 564, 'l1_ratio': 0.25, 'C': 0.1}  \n",
       "9   {'tol': 0.001, 'solver': 'saga', 'penalty': 'elasticnet', 'max_iter': 564, 'l1_ratio': 0.75, 'C': 0.1}  "
      ]
     },
     "execution_count": 70,
     "metadata": {},
     "output_type": "execute_result"
    }
   ],
   "source": [
    "cvres = log_grid.cv_results_\n",
    "grid_log_df = pd.DataFrame({\n",
    "    \"Train_Error\": cvres[\"mean_train_score\"],\n",
    "    \"Test_Error\": cvres[\"mean_test_score\"],\n",
    "    \"Parameter_Set\": cvres[\"params\"],\n",
    "}).sort_index()\n",
    "grid_log_df.tail(10)"
   ]
  },
  {
   "cell_type": "code",
   "execution_count": 71,
   "id": "568cea99",
   "metadata": {},
   "outputs": [],
   "source": [
    "final_model = log_grid.best_estimator_\n",
    "log_preds = final_model.predict(test_prep)\n",
    "logmod_pred_score = accuracy_score(test_labels, log_preds)\n",
    "logmod_recall = recall_score(test_labels, log_preds, pos_label='Yes')"
   ]
  },
  {
   "cell_type": "code",
   "execution_count": 72,
   "id": "b563122c",
   "metadata": {},
   "outputs": [
    {
     "data": {
      "image/png": "[encoded data removed]",
      "text/plain": [
       "<Figure size 432x288 with 1 Axes>"
      ]
     },
     "metadata": {
      "needs_background": "light"
     },
     "output_type": "display_data"
    },
    {
     "name": "stdout",
     "output_type": "stream",
     "text": [
      "Total predictions = 1055\n"
     ]
    }
   ],
   "source": [
    "mat = confusion_matrix(test_labels, log_preds)\n",
    "sns.heatmap(mat.T, square=True, annot=True, fmt='d', cbar=False, cmap='RdBu')\n",
    "plt.xlabel('Actual Churn', size=15)\n",
    "plt.ylabel('Predicted Churn', size=15)\n",
    "plt.show()\n",
    "print('Total predictions = %d' % len(test_labels))"
   ]
  },
  {
   "cell_type": "code",
   "execution_count": 73,
   "id": "deb6bc78",
   "metadata": {},
   "outputs": [
    {
     "name": "stdout",
     "output_type": "stream",
     "text": [
      "Train error rate = 19.59%\n",
      "Test error rate = 19.34%\n",
      "Test Recall = 54.20%\n"
     ]
    }
   ],
   "source": [
    "\n",
    "print('Train error rate = %.2f%%' % ((1 - log_grid.best_score_) * 100))\n",
    "print('Test error rate = %.2f%%' % ((1 - logmod_pred_score) * 100))\n",
    "print('Test Recall = %.2f%%' % (logmod_recall * 100))"
   ]
  },
  {
   "cell_type": "markdown",
   "id": "c966217e",
   "metadata": {},
   "source": [
    "This model is even tighter than Random Forest, we have almost identical testing and training error rates."
   ]
  },
  {
   "cell_type": "code",
   "execution_count": 74,
   "id": "d9a31914",
   "metadata": {},
   "outputs": [
    {
     "name": "stdout",
     "output_type": "stream",
     "text": [
      "              precision    recall  f1-score   support\n",
      "\n",
      "          No       0.84      0.91      0.87       769\n",
      "         Yes       0.68      0.54      0.60       286\n",
      "\n",
      "    accuracy                           0.81      1055\n",
      "   macro avg       0.76      0.72      0.74      1055\n",
      "weighted avg       0.80      0.81      0.80      1055\n",
      "\n"
     ]
    }
   ],
   "source": [
    "print(classification_report(test_labels, log_preds))"
   ]
  },
  {
   "cell_type": "markdown",
   "id": "5397d96c",
   "metadata": {},
   "source": [
    "Understanding the Logistic Regression results:\n",
    "\n",
    "Very subtle, ever so slight, but still, improvement on our focus metric - recall: 54.90%\n",
    "\n",
    "We're still in the same ballpark for overall performance\n",
    "\n",
    "To reiterate, we improved slightly on the recall score, but considering the way this project seems to be playing out, we are going to have to be happy with any imporovement\n",
    "\n",
    "Looking at feature importanes for this model is a bit of a different venture. We will look at the coefficient values for our features, square them so that they are all positive and then take the square root, and rank them in descending order. The coefficients basically tell us how much weight each feature carries in predicting whether or not a customer will churn."
   ]
  },
  {
   "cell_type": "code",
   "execution_count": 75,
   "id": "bb6f9bc2",
   "metadata": {},
   "outputs": [],
   "source": [
    "df = pd.DataFrame(log_grid.best_estimator_.coef_, columns = new_order).transpose()"
   ]
  },
  {
   "cell_type": "code",
   "execution_count": 76,
   "id": "9f40072e",
   "metadata": {},
   "outputs": [
    {
     "data": {
      "text/html": [
       "<div>\n",
       "<style scoped>\n",
       "    .dataframe tbody tr th:only-of-type {\n",
       "        vertical-align: middle;\n",
       "    }\n",
       "\n",
       "    .dataframe tbody tr th {\n",
       "        vertical-align: top;\n",
       "    }\n",
       "\n",
       "    .dataframe thead th {\n",
       "        text-align: right;\n",
       "    }\n",
       "</style>\n",
       "<table border=\"1\" class=\"dataframe\">\n",
       "  <thead>\n",
       "    <tr style=\"text-align: right;\">\n",
       "      <th></th>\n",
       "      <th>0</th>\n",
       "      <th>square</th>\n",
       "      <th>sqrt</th>\n",
       "    </tr>\n",
       "  </thead>\n",
       "  <tbody>\n",
       "    <tr>\n",
       "      <th>tenure</th>\n",
       "      <td>-1.329330</td>\n",
       "      <td>1.767118</td>\n",
       "      <td>1.329330</td>\n",
       "    </tr>\n",
       "    <tr>\n",
       "      <th>InternetService_No</th>\n",
       "      <td>-0.793744</td>\n",
       "      <td>0.630029</td>\n",
       "      <td>0.793744</td>\n",
       "    </tr>\n",
       "    <tr>\n",
       "      <th>InternetService_Fiber optic</th>\n",
       "      <td>0.757375</td>\n",
       "      <td>0.573616</td>\n",
       "      <td>0.757375</td>\n",
       "    </tr>\n",
       "    <tr>\n",
       "      <th>Contract_Two year</th>\n",
       "      <td>-0.690580</td>\n",
       "      <td>0.476900</td>\n",
       "      <td>0.690580</td>\n",
       "    </tr>\n",
       "    <tr>\n",
       "      <th>Contract_Month-to-month</th>\n",
       "      <td>0.686788</td>\n",
       "      <td>0.471678</td>\n",
       "      <td>0.686788</td>\n",
       "    </tr>\n",
       "    <tr>\n",
       "      <th>TotalCharges</th>\n",
       "      <td>0.581181</td>\n",
       "      <td>0.337771</td>\n",
       "      <td>0.581181</td>\n",
       "    </tr>\n",
       "    <tr>\n",
       "      <th>TechSupport</th>\n",
       "      <td>-0.495594</td>\n",
       "      <td>0.245614</td>\n",
       "      <td>0.495594</td>\n",
       "    </tr>\n",
       "    <tr>\n",
       "      <th>OnlineSecurity</th>\n",
       "      <td>-0.345962</td>\n",
       "      <td>0.119690</td>\n",
       "      <td>0.345962</td>\n",
       "    </tr>\n",
       "    <tr>\n",
       "      <th>PaperlessBilling</th>\n",
       "      <td>0.330661</td>\n",
       "      <td>0.109337</td>\n",
       "      <td>0.330661</td>\n",
       "    </tr>\n",
       "    <tr>\n",
       "      <th>PaymentMethod_Electronic check</th>\n",
       "      <td>0.320948</td>\n",
       "      <td>0.103008</td>\n",
       "      <td>0.320948</td>\n",
       "    </tr>\n",
       "  </tbody>\n",
       "</table>\n",
       "</div>"
      ],
      "text/plain": [
       "                                       0    square      sqrt\n",
       "tenure                         -1.329330  1.767118  1.329330\n",
       "InternetService_No             -0.793744  0.630029  0.793744\n",
       "InternetService_Fiber optic     0.757375  0.573616  0.757375\n",
       "Contract_Two year              -0.690580  0.476900  0.690580\n",
       "Contract_Month-to-month         0.686788  0.471678  0.686788\n",
       "TotalCharges                    0.581181  0.337771  0.581181\n",
       "TechSupport                    -0.495594  0.245614  0.495594\n",
       "OnlineSecurity                 -0.345962  0.119690  0.345962\n",
       "PaperlessBilling                0.330661  0.109337  0.330661\n",
       "PaymentMethod_Electronic check  0.320948  0.103008  0.320948"
      ]
     },
     "execution_count": 76,
     "metadata": {},
     "output_type": "execute_result"
    }
   ],
   "source": [
    "df['square'] = df[0] ** 2\n",
    "df['sqrt'] = [np.sqrt(i) for i in df['square']]\n",
    "df = df.sort_values('sqrt', ascending=False)\n",
    "df[:10]"
   ]
  },
  {
   "cell_type": "code",
   "execution_count": 79,
   "id": "e5818ad3",
   "metadata": {},
   "outputs": [],
   "source": [
    "top5 = df[df['sqrt'] > .5]"
   ]
  },
  {
   "cell_type": "code",
   "execution_count": 80,
   "id": "07858e7f",
   "metadata": {},
   "outputs": [
    {
     "data": {
      "image/png": "[encoded data removed]",
      "text/plain": [
       "<Figure size 936x576 with 1 Axes>"
      ]
     },
     "metadata": {
      "needs_background": "light"
     },
     "output_type": "display_data"
    }
   ],
   "source": [
    "plt.figure(figsize=(13,8))\n",
    "ax = sns.barplot(top5.index, top5['sqrt'])\n",
    "ax.set_xticklabels(ax.get_xticklabels(), rotation=45, fontsize=12)\n",
    "plt.show()"
   ]
  },
  {
   "cell_type": "markdown",
   "id": "e95c5fb1",
   "metadata": {},
   "source": [
    "Logistic Regression has a slightly different take. It says that InternetService_No is the most important feature, followed by InternetSevice_Fiber optic, MonthlyCharges, tenure, and Contract_Two year."
   ]
  },
  {
   "cell_type": "markdown",
   "id": "9b1a1c31",
   "metadata": {},
   "source": [
    "# Support Vector Machine Classifier"
   ]
  },
  {
   "cell_type": "code",
   "execution_count": 81,
   "id": "7e211566",
   "metadata": {},
   "outputs": [],
   "source": [
    "param_grid = [    \n",
    "    {'C': [.1,1,10], 'max_iter': random.randint(1000,3000,3), 'tol': [1e-4, 1e-10], 'gamma' : [3,5,7]},\n",
    "    {'C': [.1,1,10], 'max_iter': [-1], 'tol': [1e-4, 1e-10]},\n",
    "    {'C': [.1,1,10], 'max_iter': random.randint(1000,3000,3), 'kernel': ['linear']}\n",
    "  ]"
   ]
  },
  {
   "cell_type": "code",
   "execution_count": 82,
   "id": "60aa4137",
   "metadata": {},
   "outputs": [
    {
     "name": "stderr",
     "output_type": "stream",
     "text": [
      "C:\\Users\\Lenovo\\anaconda3\\lib\\site-packages\\sklearn\\svm\\_base.py:301: ConvergenceWarning: Solver terminated early (max_iter=2099).  Consider pre-processing your data with StandardScaler or MinMaxScaler.\n",
      "  warnings.warn(\n",
      "C:\\Users\\Lenovo\\anaconda3\\lib\\site-packages\\sklearn\\svm\\_base.py:301: ConvergenceWarning: Solver terminated early (max_iter=2099).  Consider pre-processing your data with StandardScaler or MinMaxScaler.\n",
      "  warnings.warn(\n",
      "C:\\Users\\Lenovo\\anaconda3\\lib\\site-packages\\sklearn\\svm\\_base.py:301: ConvergenceWarning: Solver terminated early (max_iter=2099).  Consider pre-processing your data with StandardScaler or MinMaxScaler.\n",
      "  warnings.warn(\n",
      "C:\\Users\\Lenovo\\anaconda3\\lib\\site-packages\\sklearn\\svm\\_base.py:301: ConvergenceWarning: Solver terminated early (max_iter=1632).  Consider pre-processing your data with StandardScaler or MinMaxScaler.\n",
      "  warnings.warn(\n",
      "C:\\Users\\Lenovo\\anaconda3\\lib\\site-packages\\sklearn\\svm\\_base.py:301: ConvergenceWarning: Solver terminated early (max_iter=1632).  Consider pre-processing your data with StandardScaler or MinMaxScaler.\n",
      "  warnings.warn(\n",
      "C:\\Users\\Lenovo\\anaconda3\\lib\\site-packages\\sklearn\\svm\\_base.py:301: ConvergenceWarning: Solver terminated early (max_iter=1632).  Consider pre-processing your data with StandardScaler or MinMaxScaler.\n",
      "  warnings.warn(\n",
      "C:\\Users\\Lenovo\\anaconda3\\lib\\site-packages\\sklearn\\svm\\_base.py:301: ConvergenceWarning: Solver terminated early (max_iter=2099).  Consider pre-processing your data with StandardScaler or MinMaxScaler.\n",
      "  warnings.warn(\n",
      "C:\\Users\\Lenovo\\anaconda3\\lib\\site-packages\\sklearn\\svm\\_base.py:301: ConvergenceWarning: Solver terminated early (max_iter=2099).  Consider pre-processing your data with StandardScaler or MinMaxScaler.\n",
      "  warnings.warn(\n",
      "C:\\Users\\Lenovo\\anaconda3\\lib\\site-packages\\sklearn\\svm\\_base.py:301: ConvergenceWarning: Solver terminated early (max_iter=2099).  Consider pre-processing your data with StandardScaler or MinMaxScaler.\n",
      "  warnings.warn(\n",
      "C:\\Users\\Lenovo\\anaconda3\\lib\\site-packages\\sklearn\\svm\\_base.py:301: ConvergenceWarning: Solver terminated early (max_iter=2034).  Consider pre-processing your data with StandardScaler or MinMaxScaler.\n",
      "  warnings.warn(\n",
      "C:\\Users\\Lenovo\\anaconda3\\lib\\site-packages\\sklearn\\svm\\_base.py:301: ConvergenceWarning: Solver terminated early (max_iter=2034).  Consider pre-processing your data with StandardScaler or MinMaxScaler.\n",
      "  warnings.warn(\n",
      "C:\\Users\\Lenovo\\anaconda3\\lib\\site-packages\\sklearn\\svm\\_base.py:301: ConvergenceWarning: Solver terminated early (max_iter=2034).  Consider pre-processing your data with StandardScaler or MinMaxScaler.\n",
      "  warnings.warn(\n",
      "C:\\Users\\Lenovo\\anaconda3\\lib\\site-packages\\sklearn\\svm\\_base.py:301: ConvergenceWarning: Solver terminated early (max_iter=2034).  Consider pre-processing your data with StandardScaler or MinMaxScaler.\n",
      "  warnings.warn(\n",
      "C:\\Users\\Lenovo\\anaconda3\\lib\\site-packages\\sklearn\\svm\\_base.py:301: ConvergenceWarning: Solver terminated early (max_iter=2034).  Consider pre-processing your data with StandardScaler or MinMaxScaler.\n",
      "  warnings.warn(\n",
      "C:\\Users\\Lenovo\\anaconda3\\lib\\site-packages\\sklearn\\svm\\_base.py:301: ConvergenceWarning: Solver terminated early (max_iter=2034).  Consider pre-processing your data with StandardScaler or MinMaxScaler.\n",
      "  warnings.warn(\n",
      "C:\\Users\\Lenovo\\anaconda3\\lib\\site-packages\\sklearn\\svm\\_base.py:301: ConvergenceWarning: Solver terminated early (max_iter=2099).  Consider pre-processing your data with StandardScaler or MinMaxScaler.\n",
      "  warnings.warn(\n",
      "C:\\Users\\Lenovo\\anaconda3\\lib\\site-packages\\sklearn\\svm\\_base.py:301: ConvergenceWarning: Solver terminated early (max_iter=2099).  Consider pre-processing your data with StandardScaler or MinMaxScaler.\n",
      "  warnings.warn(\n",
      "C:\\Users\\Lenovo\\anaconda3\\lib\\site-packages\\sklearn\\svm\\_base.py:301: ConvergenceWarning: Solver terminated early (max_iter=2099).  Consider pre-processing your data with StandardScaler or MinMaxScaler.\n",
      "  warnings.warn(\n",
      "C:\\Users\\Lenovo\\anaconda3\\lib\\site-packages\\sklearn\\svm\\_base.py:301: ConvergenceWarning: Solver terminated early (max_iter=2099).  Consider pre-processing your data with StandardScaler or MinMaxScaler.\n",
      "  warnings.warn(\n",
      "C:\\Users\\Lenovo\\anaconda3\\lib\\site-packages\\sklearn\\svm\\_base.py:301: ConvergenceWarning: Solver terminated early (max_iter=2099).  Consider pre-processing your data with StandardScaler or MinMaxScaler.\n",
      "  warnings.warn(\n",
      "C:\\Users\\Lenovo\\anaconda3\\lib\\site-packages\\sklearn\\svm\\_base.py:301: ConvergenceWarning: Solver terminated early (max_iter=2099).  Consider pre-processing your data with StandardScaler or MinMaxScaler.\n",
      "  warnings.warn(\n",
      "C:\\Users\\Lenovo\\anaconda3\\lib\\site-packages\\sklearn\\svm\\_base.py:301: ConvergenceWarning: Solver terminated early (max_iter=2099).  Consider pre-processing your data with StandardScaler or MinMaxScaler.\n",
      "  warnings.warn(\n",
      "C:\\Users\\Lenovo\\anaconda3\\lib\\site-packages\\sklearn\\svm\\_base.py:301: ConvergenceWarning: Solver terminated early (max_iter=2099).  Consider pre-processing your data with StandardScaler or MinMaxScaler.\n",
      "  warnings.warn(\n",
      "C:\\Users\\Lenovo\\anaconda3\\lib\\site-packages\\sklearn\\svm\\_base.py:301: ConvergenceWarning: Solver terminated early (max_iter=2099).  Consider pre-processing your data with StandardScaler or MinMaxScaler.\n",
      "  warnings.warn(\n",
      "C:\\Users\\Lenovo\\anaconda3\\lib\\site-packages\\sklearn\\svm\\_base.py:301: ConvergenceWarning: Solver terminated early (max_iter=1603).  Consider pre-processing your data with StandardScaler or MinMaxScaler.\n",
      "  warnings.warn(\n",
      "C:\\Users\\Lenovo\\anaconda3\\lib\\site-packages\\sklearn\\svm\\_base.py:301: ConvergenceWarning: Solver terminated early (max_iter=1603).  Consider pre-processing your data with StandardScaler or MinMaxScaler.\n",
      "  warnings.warn(\n",
      "C:\\Users\\Lenovo\\anaconda3\\lib\\site-packages\\sklearn\\svm\\_base.py:301: ConvergenceWarning: Solver terminated early (max_iter=1603).  Consider pre-processing your data with StandardScaler or MinMaxScaler.\n",
      "  warnings.warn(\n",
      "C:\\Users\\Lenovo\\anaconda3\\lib\\site-packages\\sklearn\\svm\\_base.py:301: ConvergenceWarning: Solver terminated early (max_iter=1632).  Consider pre-processing your data with StandardScaler or MinMaxScaler.\n",
      "  warnings.warn(\n",
      "C:\\Users\\Lenovo\\anaconda3\\lib\\site-packages\\sklearn\\svm\\_base.py:301: ConvergenceWarning: Solver terminated early (max_iter=1632).  Consider pre-processing your data with StandardScaler or MinMaxScaler.\n",
      "  warnings.warn(\n",
      "C:\\Users\\Lenovo\\anaconda3\\lib\\site-packages\\sklearn\\svm\\_base.py:301: ConvergenceWarning: Solver terminated early (max_iter=1632).  Consider pre-processing your data with StandardScaler or MinMaxScaler.\n",
      "  warnings.warn(\n",
      "C:\\Users\\Lenovo\\anaconda3\\lib\\site-packages\\sklearn\\svm\\_base.py:301: ConvergenceWarning: Solver terminated early (max_iter=2034).  Consider pre-processing your data with StandardScaler or MinMaxScaler.\n",
      "  warnings.warn(\n",
      "C:\\Users\\Lenovo\\anaconda3\\lib\\site-packages\\sklearn\\svm\\_base.py:301: ConvergenceWarning: Solver terminated early (max_iter=2034).  Consider pre-processing your data with StandardScaler or MinMaxScaler.\n",
      "  warnings.warn(\n",
      "C:\\Users\\Lenovo\\anaconda3\\lib\\site-packages\\sklearn\\svm\\_base.py:301: ConvergenceWarning: Solver terminated early (max_iter=2034).  Consider pre-processing your data with StandardScaler or MinMaxScaler.\n",
      "  warnings.warn(\n",
      "C:\\Users\\Lenovo\\anaconda3\\lib\\site-packages\\sklearn\\svm\\_base.py:301: ConvergenceWarning: Solver terminated early (max_iter=2034).  Consider pre-processing your data with StandardScaler or MinMaxScaler.\n",
      "  warnings.warn(\n",
      "C:\\Users\\Lenovo\\anaconda3\\lib\\site-packages\\sklearn\\svm\\_base.py:301: ConvergenceWarning: Solver terminated early (max_iter=2034).  Consider pre-processing your data with StandardScaler or MinMaxScaler.\n",
      "  warnings.warn(\n",
      "C:\\Users\\Lenovo\\anaconda3\\lib\\site-packages\\sklearn\\svm\\_base.py:301: ConvergenceWarning: Solver terminated early (max_iter=2034).  Consider pre-processing your data with StandardScaler or MinMaxScaler.\n",
      "  warnings.warn(\n",
      "C:\\Users\\Lenovo\\anaconda3\\lib\\site-packages\\sklearn\\svm\\_base.py:301: ConvergenceWarning: Solver terminated early (max_iter=2026).  Consider pre-processing your data with StandardScaler or MinMaxScaler.\n",
      "  warnings.warn(\n",
      "C:\\Users\\Lenovo\\anaconda3\\lib\\site-packages\\sklearn\\svm\\_base.py:301: ConvergenceWarning: Solver terminated early (max_iter=2026).  Consider pre-processing your data with StandardScaler or MinMaxScaler.\n",
      "  warnings.warn(\n",
      "C:\\Users\\Lenovo\\anaconda3\\lib\\site-packages\\sklearn\\svm\\_base.py:301: ConvergenceWarning: Solver terminated early (max_iter=2026).  Consider pre-processing your data with StandardScaler or MinMaxScaler.\n",
      "  warnings.warn(\n",
      "C:\\Users\\Lenovo\\anaconda3\\lib\\site-packages\\sklearn\\svm\\_base.py:301: ConvergenceWarning: Solver terminated early (max_iter=1603).  Consider pre-processing your data with StandardScaler or MinMaxScaler.\n",
      "  warnings.warn(\n"
     ]
    },
    {
     "data": {
      "text/html": [
       "<style>#sk-container-id-3 {color: black;background-color: white;}#sk-container-id-3 pre{padding: 0;}#sk-container-id-3 div.sk-toggleable {background-color: white;}#sk-container-id-3 label.sk-toggleable__label {cursor: pointer;display: block;width: 100%;margin-bottom: 0;padding: 0.3em;box-sizing: border-box;text-align: center;}#sk-container-id-3 label.sk-toggleable__label-arrow:before {content: \"▸\";float: left;margin-right: 0.25em;color: #696969;}#sk-container-id-3 label.sk-toggleable__label-arrow:hover:before {color: black;}#sk-container-id-3 div.sk-estimator:hover label.sk-toggleable__label-arrow:before {color: black;}#sk-container-id-3 div.sk-toggleable__content {max-height: 0;max-width: 0;overflow: hidden;text-align: left;background-color: #f0f8ff;}#sk-container-id-3 div.sk-toggleable__content pre {margin: 0.2em;color: black;border-radius: 0.25em;background-color: #f0f8ff;}#sk-container-id-3 input.sk-toggleable__control:checked~div.sk-toggleable__content {max-height: 200px;max-width: 100%;overflow: auto;}#sk-container-id-3 input.sk-toggleable__control:checked~label.sk-toggleable__label-arrow:before {content: \"▾\";}#sk-container-id-3 div.sk-estimator input.sk-toggleable__control:checked~label.sk-toggleable__label {background-color: #d4ebff;}#sk-container-id-3 div.sk-label input.sk-toggleable__control:checked~label.sk-toggleable__label {background-color: #d4ebff;}#sk-container-id-3 input.sk-hidden--visually {border: 0;clip: rect(1px 1px 1px 1px);clip: rect(1px, 1px, 1px, 1px);height: 1px;margin: -1px;overflow: hidden;padding: 0;position: absolute;width: 1px;}#sk-container-id-3 div.sk-estimator {font-family: monospace;background-color: #f0f8ff;border: 1px dotted black;border-radius: 0.25em;box-sizing: border-box;margin-bottom: 0.5em;}#sk-container-id-3 div.sk-estimator:hover {background-color: #d4ebff;}#sk-container-id-3 div.sk-parallel-item::after {content: \"\";width: 100%;border-bottom: 1px solid gray;flex-grow: 1;}#sk-container-id-3 div.sk-label:hover label.sk-toggleable__label {background-color: #d4ebff;}#sk-container-id-3 div.sk-serial::before {content: \"\";position: absolute;border-left: 1px solid gray;box-sizing: border-box;top: 0;bottom: 0;left: 50%;z-index: 0;}#sk-container-id-3 div.sk-serial {display: flex;flex-direction: column;align-items: center;background-color: white;padding-right: 0.2em;padding-left: 0.2em;position: relative;}#sk-container-id-3 div.sk-item {position: relative;z-index: 1;}#sk-container-id-3 div.sk-parallel {display: flex;align-items: stretch;justify-content: center;background-color: white;position: relative;}#sk-container-id-3 div.sk-item::before, #sk-container-id-3 div.sk-parallel-item::before {content: \"\";position: absolute;border-left: 1px solid gray;box-sizing: border-box;top: 0;bottom: 0;left: 50%;z-index: -1;}#sk-container-id-3 div.sk-parallel-item {display: flex;flex-direction: column;z-index: 1;position: relative;background-color: white;}#sk-container-id-3 div.sk-parallel-item:first-child::after {align-self: flex-end;width: 50%;}#sk-container-id-3 div.sk-parallel-item:last-child::after {align-self: flex-start;width: 50%;}#sk-container-id-3 div.sk-parallel-item:only-child::after {width: 0;}#sk-container-id-3 div.sk-dashed-wrapped {border: 1px dashed gray;margin: 0 0.4em 0.5em 0.4em;box-sizing: border-box;padding-bottom: 0.4em;background-color: white;}#sk-container-id-3 div.sk-label label {font-family: monospace;font-weight: bold;display: inline-block;line-height: 1.2em;}#sk-container-id-3 div.sk-label-container {text-align: center;}#sk-container-id-3 div.sk-container {/* jupyter's `normalize.less` sets `[hidden] { display: none; }` but bootstrap.min.css set `[hidden] { display: none !important; }` so we also need the `!important` here to be able to override the default hidden behavior on the sphinx rendered scikit-learn.org. See: https://github.com/scikit-learn/scikit-learn/issues/21755 */display: inline-block !important;position: relative;}#sk-container-id-3 div.sk-text-repr-fallback {display: none;}</style><div id=\"sk-container-id-3\" class=\"sk-top-container\"><div class=\"sk-text-repr-fallback\"><pre>RandomizedSearchCV(cv=3, estimator=SVC(random_state=2021), n_iter=15,\n",
       "                   param_distributions=[{&#x27;C&#x27;: [0.1, 1, 10], &#x27;gamma&#x27;: [3, 5, 7],\n",
       "                                         &#x27;max_iter&#x27;: array([1632, 2099, 2034]),\n",
       "                                         &#x27;tol&#x27;: [0.0001, 1e-10]},\n",
       "                                        {&#x27;C&#x27;: [0.1, 1, 10], &#x27;max_iter&#x27;: [-1],\n",
       "                                         &#x27;tol&#x27;: [0.0001, 1e-10]},\n",
       "                                        {&#x27;C&#x27;: [0.1, 1, 10],\n",
       "                                         &#x27;kernel&#x27;: [&#x27;linear&#x27;],\n",
       "                                         &#x27;max_iter&#x27;: array([2026, 1150, 1603])}],\n",
       "                   return_train_score=True, scoring=&#x27;accuracy&#x27;)</pre><b>In a Jupyter environment, please rerun this cell to show the HTML representation or trust the notebook. <br />On GitHub, the HTML representation is unable to render, please try loading this page with nbviewer.org.</b></div><div class=\"sk-container\" hidden><div class=\"sk-item sk-dashed-wrapped\"><div class=\"sk-label-container\"><div class=\"sk-label sk-toggleable\"><input class=\"sk-toggleable__control sk-hidden--visually\" id=\"sk-estimator-id-7\" type=\"checkbox\" ><label for=\"sk-estimator-id-7\" class=\"sk-toggleable__label sk-toggleable__label-arrow\">RandomizedSearchCV</label><div class=\"sk-toggleable__content\"><pre>RandomizedSearchCV(cv=3, estimator=SVC(random_state=2021), n_iter=15,\n",
       "                   param_distributions=[{&#x27;C&#x27;: [0.1, 1, 10], &#x27;gamma&#x27;: [3, 5, 7],\n",
       "                                         &#x27;max_iter&#x27;: array([1632, 2099, 2034]),\n",
       "                                         &#x27;tol&#x27;: [0.0001, 1e-10]},\n",
       "                                        {&#x27;C&#x27;: [0.1, 1, 10], &#x27;max_iter&#x27;: [-1],\n",
       "                                         &#x27;tol&#x27;: [0.0001, 1e-10]},\n",
       "                                        {&#x27;C&#x27;: [0.1, 1, 10],\n",
       "                                         &#x27;kernel&#x27;: [&#x27;linear&#x27;],\n",
       "                                         &#x27;max_iter&#x27;: array([2026, 1150, 1603])}],\n",
       "                   return_train_score=True, scoring=&#x27;accuracy&#x27;)</pre></div></div></div><div class=\"sk-parallel\"><div class=\"sk-parallel-item\"><div class=\"sk-item\"><div class=\"sk-label-container\"><div class=\"sk-label sk-toggleable\"><input class=\"sk-toggleable__control sk-hidden--visually\" id=\"sk-estimator-id-8\" type=\"checkbox\" ><label for=\"sk-estimator-id-8\" class=\"sk-toggleable__label sk-toggleable__label-arrow\">estimator: SVC</label><div class=\"sk-toggleable__content\"><pre>SVC(random_state=2021)</pre></div></div></div><div class=\"sk-serial\"><div class=\"sk-item\"><div class=\"sk-estimator sk-toggleable\"><input class=\"sk-toggleable__control sk-hidden--visually\" id=\"sk-estimator-id-9\" type=\"checkbox\" ><label for=\"sk-estimator-id-9\" class=\"sk-toggleable__label sk-toggleable__label-arrow\">SVC</label><div class=\"sk-toggleable__content\"><pre>SVC(random_state=2021)</pre></div></div></div></div></div></div></div></div></div></div>"
      ],
      "text/plain": [
       "RandomizedSearchCV(cv=3, estimator=SVC(random_state=2021), n_iter=15,\n",
       "                   param_distributions=[{'C': [0.1, 1, 10], 'gamma': [3, 5, 7],\n",
       "                                         'max_iter': array([1632, 2099, 2034]),\n",
       "                                         'tol': [0.0001, 1e-10]},\n",
       "                                        {'C': [0.1, 1, 10], 'max_iter': [-1],\n",
       "                                         'tol': [0.0001, 1e-10]},\n",
       "                                        {'C': [0.1, 1, 10],\n",
       "                                         'kernel': ['linear'],\n",
       "                                         'max_iter': array([2026, 1150, 1603])}],\n",
       "                   return_train_score=True, scoring='accuracy')"
      ]
     },
     "execution_count": 82,
     "metadata": {},
     "output_type": "execute_result"
    }
   ],
   "source": [
    "# Numerous convergence warnings\n",
    "svm_clf = SVC(random_state=2021)\n",
    "svm_grid = RandomizedSearchCV(svm_clf, param_grid, cv=3,\n",
    "                           scoring='accuracy',\n",
    "                           return_train_score=True, n_iter=15)\n",
    "svm_grid.fit(train_prep, train_labels)"
   ]
  },
  {
   "cell_type": "code",
   "execution_count": 83,
   "id": "cb0ff29b",
   "metadata": {},
   "outputs": [
    {
     "data": {
      "text/html": [
       "<div>\n",
       "<style scoped>\n",
       "    .dataframe tbody tr th:only-of-type {\n",
       "        vertical-align: middle;\n",
       "    }\n",
       "\n",
       "    .dataframe tbody tr th {\n",
       "        vertical-align: top;\n",
       "    }\n",
       "\n",
       "    .dataframe thead th {\n",
       "        text-align: right;\n",
       "    }\n",
       "</style>\n",
       "<table border=\"1\" class=\"dataframe\">\n",
       "  <thead>\n",
       "    <tr style=\"text-align: right;\">\n",
       "      <th></th>\n",
       "      <th>Train_Error</th>\n",
       "      <th>Test_Error</th>\n",
       "      <th>Parameter_Set</th>\n",
       "    </tr>\n",
       "  </thead>\n",
       "  <tbody>\n",
       "    <tr>\n",
       "      <th>0</th>\n",
       "      <td>0.962690</td>\n",
       "      <td>0.754559</td>\n",
       "      <td>{'tol': 0.0001, 'max_iter': 2099, 'gamma': 7, 'C': 1}</td>\n",
       "    </tr>\n",
       "    <tr>\n",
       "      <th>1</th>\n",
       "      <td>0.975740</td>\n",
       "      <td>0.753387</td>\n",
       "      <td>{'tol': 1e-10, 'max_iter': 1632, 'gamma': 5, 'C': 10}</td>\n",
       "    </tr>\n",
       "    <tr>\n",
       "      <th>2</th>\n",
       "      <td>0.872009</td>\n",
       "      <td>0.782833</td>\n",
       "      <td>{'tol': 0.0001, 'max_iter': -1, 'C': 10}</td>\n",
       "    </tr>\n",
       "    <tr>\n",
       "      <th>3</th>\n",
       "      <td>0.735151</td>\n",
       "      <td>0.735151</td>\n",
       "      <td>{'tol': 1e-10, 'max_iter': 2099, 'gamma': 3, 'C': 0.1}</td>\n",
       "    </tr>\n",
       "    <tr>\n",
       "      <th>4</th>\n",
       "      <td>0.962523</td>\n",
       "      <td>0.754559</td>\n",
       "      <td>{'tol': 0.0001, 'max_iter': 2034, 'gamma': 7, 'C': 1}</td>\n",
       "    </tr>\n",
       "    <tr>\n",
       "      <th>5</th>\n",
       "      <td>0.973398</td>\n",
       "      <td>0.756399</td>\n",
       "      <td>{'tol': 0.0001, 'max_iter': 2034, 'gamma': 3, 'C': 10}</td>\n",
       "    </tr>\n",
       "    <tr>\n",
       "      <th>6</th>\n",
       "      <td>0.735151</td>\n",
       "      <td>0.735151</td>\n",
       "      <td>{'tol': 0.0001, 'max_iter': 2099, 'gamma': 3, 'C': 0.1}</td>\n",
       "    </tr>\n",
       "    <tr>\n",
       "      <th>7</th>\n",
       "      <td>0.872009</td>\n",
       "      <td>0.782833</td>\n",
       "      <td>{'tol': 1e-10, 'max_iter': -1, 'C': 10}</td>\n",
       "    </tr>\n",
       "    <tr>\n",
       "      <th>8</th>\n",
       "      <td>0.961017</td>\n",
       "      <td>0.754894</td>\n",
       "      <td>{'tol': 0.0001, 'max_iter': 2099, 'gamma': 5, 'C': 1}</td>\n",
       "    </tr>\n",
       "    <tr>\n",
       "      <th>9</th>\n",
       "      <td>0.973314</td>\n",
       "      <td>0.756064</td>\n",
       "      <td>{'tol': 0.0001, 'max_iter': 2099, 'gamma': 3, 'C': 10}</td>\n",
       "    </tr>\n",
       "    <tr>\n",
       "      <th>10</th>\n",
       "      <td>0.789861</td>\n",
       "      <td>0.785677</td>\n",
       "      <td>{'max_iter': 1603, 'kernel': 'linear', 'C': 1}</td>\n",
       "    </tr>\n",
       "    <tr>\n",
       "      <th>11</th>\n",
       "      <td>0.961937</td>\n",
       "      <td>0.753890</td>\n",
       "      <td>{'tol': 0.0001, 'max_iter': 1632, 'gamma': 5, 'C': 1}</td>\n",
       "    </tr>\n",
       "    <tr>\n",
       "      <th>12</th>\n",
       "      <td>0.976577</td>\n",
       "      <td>0.751547</td>\n",
       "      <td>{'tol': 0.0001, 'max_iter': 2034, 'gamma': 7, 'C': 10}</td>\n",
       "    </tr>\n",
       "    <tr>\n",
       "      <th>13</th>\n",
       "      <td>0.958340</td>\n",
       "      <td>0.757236</td>\n",
       "      <td>{'tol': 0.0001, 'max_iter': 2034, 'gamma': 3, 'C': 1}</td>\n",
       "    </tr>\n",
       "    <tr>\n",
       "      <th>14</th>\n",
       "      <td>0.535312</td>\n",
       "      <td>0.541387</td>\n",
       "      <td>{'max_iter': 2026, 'kernel': 'linear', 'C': 10}</td>\n",
       "    </tr>\n",
       "  </tbody>\n",
       "</table>\n",
       "</div>"
      ],
      "text/plain": [
       "    Train_Error  Test_Error  \\\n",
       "0      0.962690    0.754559   \n",
       "1      0.975740    0.753387   \n",
       "2      0.872009    0.782833   \n",
       "3      0.735151    0.735151   \n",
       "4      0.962523    0.754559   \n",
       "5      0.973398    0.756399   \n",
       "6      0.735151    0.735151   \n",
       "7      0.872009    0.782833   \n",
       "8      0.961017    0.754894   \n",
       "9      0.973314    0.756064   \n",
       "10     0.789861    0.785677   \n",
       "11     0.961937    0.753890   \n",
       "12     0.976577    0.751547   \n",
       "13     0.958340    0.757236   \n",
       "14     0.535312    0.541387   \n",
       "\n",
       "                                              Parameter_Set  \n",
       "0     {'tol': 0.0001, 'max_iter': 2099, 'gamma': 7, 'C': 1}  \n",
       "1     {'tol': 1e-10, 'max_iter': 1632, 'gamma': 5, 'C': 10}  \n",
       "2                  {'tol': 0.0001, 'max_iter': -1, 'C': 10}  \n",
       "3    {'tol': 1e-10, 'max_iter': 2099, 'gamma': 3, 'C': 0.1}  \n",
       "4     {'tol': 0.0001, 'max_iter': 2034, 'gamma': 7, 'C': 1}  \n",
       "5    {'tol': 0.0001, 'max_iter': 2034, 'gamma': 3, 'C': 10}  \n",
       "6   {'tol': 0.0001, 'max_iter': 2099, 'gamma': 3, 'C': 0.1}  \n",
       "7                   {'tol': 1e-10, 'max_iter': -1, 'C': 10}  \n",
       "8     {'tol': 0.0001, 'max_iter': 2099, 'gamma': 5, 'C': 1}  \n",
       "9    {'tol': 0.0001, 'max_iter': 2099, 'gamma': 3, 'C': 10}  \n",
       "10           {'max_iter': 1603, 'kernel': 'linear', 'C': 1}  \n",
       "11    {'tol': 0.0001, 'max_iter': 1632, 'gamma': 5, 'C': 1}  \n",
       "12   {'tol': 0.0001, 'max_iter': 2034, 'gamma': 7, 'C': 10}  \n",
       "13    {'tol': 0.0001, 'max_iter': 2034, 'gamma': 3, 'C': 1}  \n",
       "14          {'max_iter': 2026, 'kernel': 'linear', 'C': 10}  "
      ]
     },
     "execution_count": 83,
     "metadata": {},
     "output_type": "execute_result"
    }
   ],
   "source": [
    "cvres = svm_grid.cv_results_\n",
    "grid_svc_df = pd.DataFrame({\n",
    "    \"Train_Error\": cvres[\"mean_train_score\"],\n",
    "    \"Test_Error\": cvres[\"mean_test_score\"],\n",
    "    \"Parameter_Set\": cvres[\"params\"],\n",
    "}).sort_index()\n",
    "grid_svc_df"
   ]
  },
  {
   "cell_type": "code",
   "execution_count": 84,
   "id": "1fb01925",
   "metadata": {},
   "outputs": [],
   "source": [
    "final_model = svm_grid.best_estimator_\n",
    "svm_preds = final_model.predict(test_prep)\n",
    "svmmod_pred_score = accuracy_score(test_labels, svm_preds)\n",
    "svmmod_recall = recall_score(test_labels, svm_preds, pos_label='Yes')"
   ]
  },
  {
   "cell_type": "code",
   "execution_count": 85,
   "id": "ce6c78cb",
   "metadata": {},
   "outputs": [
    {
     "data": {
      "image/png": "[encoded data removed]",
      "text/plain": [
       "<Figure size 432x288 with 1 Axes>"
      ]
     },
     "metadata": {
      "needs_background": "light"
     },
     "output_type": "display_data"
    },
    {
     "name": "stdout",
     "output_type": "stream",
     "text": [
      "Total predictions = 1055\n"
     ]
    }
   ],
   "source": [
    "mat = confusion_matrix(test_labels, svm_preds)\n",
    "sns.heatmap(mat.T, square=True, annot=True, fmt='d', cbar=False, cmap='RdBu')\n",
    "plt.xlabel('Actual Churn', size=15)\n",
    "plt.ylabel('Predicted Churn', size=15)\n",
    "plt.show()\n",
    "print('Total predictions = %d' % len(test_labels))"
   ]
  },
  {
   "cell_type": "code",
   "execution_count": 86,
   "id": "d27a5807",
   "metadata": {},
   "outputs": [
    {
     "name": "stdout",
     "output_type": "stream",
     "text": [
      "Train error rate = 21.43%\n",
      "Test error rate = 31.94%\n",
      "Test Recall = 75.17%\n"
     ]
    }
   ],
   "source": [
    "print('Train error rate = %.2f%%' % ((1 - svm_grid.best_score_) * 100))\n",
    "print('Test error rate = %.2f%%' % ((1 - svmmod_pred_score) * 100))\n",
    "print('Test Recall = %.2f%%' % (svmmod_recall * 100))"
   ]
  },
  {
   "cell_type": "markdown",
   "id": "225a4b45",
   "metadata": {},
   "source": [
    "Minor concern for underfitting here, but we're not going to worry about it at this point."
   ]
  },
  {
   "cell_type": "code",
   "execution_count": 87,
   "id": "f049c29e",
   "metadata": {},
   "outputs": [
    {
     "name": "stdout",
     "output_type": "stream",
     "text": [
      "              precision    recall  f1-score   support\n",
      "\n",
      "          No       0.88      0.65      0.75       769\n",
      "         Yes       0.45      0.75      0.56       286\n",
      "\n",
      "    accuracy                           0.68      1055\n",
      "   macro avg       0.66      0.70      0.65      1055\n",
      "weighted avg       0.76      0.68      0.70      1055\n",
      "\n"
     ]
    }
   ],
   "source": [
    "print(classification_report(test_labels, svm_preds))"
   ]
  },
  {
   "cell_type": "markdown",
   "id": "b075f7c9",
   "metadata": {},
   "source": [
    "In reviewing the SVM the overall performance of the model was worst here. The metric we are concerned, recall score, didn't improve either at 50.70%.\n",
    "\n",
    "We look at feature importane here the same way as we did with Logistic Regression."
   ]
  },
  {
   "cell_type": "code",
   "execution_count": 88,
   "id": "c9eb6388",
   "metadata": {},
   "outputs": [],
   "source": [
    "df = pd.DataFrame(svm_grid.best_estimator_.coef_, columns = new_order).transpose()"
   ]
  },
  {
   "cell_type": "code",
   "execution_count": 92,
   "id": "35187a4f",
   "metadata": {},
   "outputs": [
    {
     "data": {
      "text/html": [
       "<div>\n",
       "<style scoped>\n",
       "    .dataframe tbody tr th:only-of-type {\n",
       "        vertical-align: middle;\n",
       "    }\n",
       "\n",
       "    .dataframe tbody tr th {\n",
       "        vertical-align: top;\n",
       "    }\n",
       "\n",
       "    .dataframe thead th {\n",
       "        text-align: right;\n",
       "    }\n",
       "</style>\n",
       "<table border=\"1\" class=\"dataframe\">\n",
       "  <thead>\n",
       "    <tr style=\"text-align: right;\">\n",
       "      <th></th>\n",
       "      <th>0</th>\n",
       "      <th>square</th>\n",
       "      <th>sqrt</th>\n",
       "    </tr>\n",
       "  </thead>\n",
       "  <tbody>\n",
       "    <tr>\n",
       "      <th>StreamingMovies</th>\n",
       "      <td>1.074602</td>\n",
       "      <td>1.154770</td>\n",
       "      <td>1.074602</td>\n",
       "    </tr>\n",
       "    <tr>\n",
       "      <th>TotalCharges</th>\n",
       "      <td>-1.009481</td>\n",
       "      <td>1.019052</td>\n",
       "      <td>1.009481</td>\n",
       "    </tr>\n",
       "    <tr>\n",
       "      <th>InternetService_Fiber optic</th>\n",
       "      <td>0.668364</td>\n",
       "      <td>0.446710</td>\n",
       "      <td>0.668364</td>\n",
       "    </tr>\n",
       "    <tr>\n",
       "      <th>tenure</th>\n",
       "      <td>-0.599903</td>\n",
       "      <td>0.359884</td>\n",
       "      <td>0.599903</td>\n",
       "    </tr>\n",
       "    <tr>\n",
       "      <th>Dependents</th>\n",
       "      <td>-0.523436</td>\n",
       "      <td>0.273985</td>\n",
       "      <td>0.523436</td>\n",
       "    </tr>\n",
       "    <tr>\n",
       "      <th>InternetService_No</th>\n",
       "      <td>-0.519779</td>\n",
       "      <td>0.270170</td>\n",
       "      <td>0.519779</td>\n",
       "    </tr>\n",
       "    <tr>\n",
       "      <th>Contract_Two year</th>\n",
       "      <td>-0.489068</td>\n",
       "      <td>0.239187</td>\n",
       "      <td>0.489068</td>\n",
       "    </tr>\n",
       "    <tr>\n",
       "      <th>TechSupport</th>\n",
       "      <td>-0.414388</td>\n",
       "      <td>0.171717</td>\n",
       "      <td>0.414388</td>\n",
       "    </tr>\n",
       "    <tr>\n",
       "      <th>SeniorCitizen</th>\n",
       "      <td>0.396065</td>\n",
       "      <td>0.156867</td>\n",
       "      <td>0.396065</td>\n",
       "    </tr>\n",
       "    <tr>\n",
       "      <th>Contract_Month-to-month</th>\n",
       "      <td>0.372670</td>\n",
       "      <td>0.138883</td>\n",
       "      <td>0.372670</td>\n",
       "    </tr>\n",
       "  </tbody>\n",
       "</table>\n",
       "</div>"
      ],
      "text/plain": [
       "                                    0    square      sqrt\n",
       "StreamingMovies              1.074602  1.154770  1.074602\n",
       "TotalCharges                -1.009481  1.019052  1.009481\n",
       "InternetService_Fiber optic  0.668364  0.446710  0.668364\n",
       "tenure                      -0.599903  0.359884  0.599903\n",
       "Dependents                  -0.523436  0.273985  0.523436\n",
       "InternetService_No          -0.519779  0.270170  0.519779\n",
       "Contract_Two year           -0.489068  0.239187  0.489068\n",
       "TechSupport                 -0.414388  0.171717  0.414388\n",
       "SeniorCitizen                0.396065  0.156867  0.396065\n",
       "Contract_Month-to-month      0.372670  0.138883  0.372670"
      ]
     },
     "execution_count": 92,
     "metadata": {},
     "output_type": "execute_result"
    }
   ],
   "source": [
    "# df = pd.DataFrame(svm_grid.best_estimator_.coef_, columns = new_order).transpose()\n",
    "df['square'] = df[0] ** 2\n",
    "df['sqrt'] = [np.sqrt(i) for i in df['square']]\n",
    "df = df.sort_values('sqrt', ascending=False)\n",
    "df[:10]"
   ]
  },
  {
   "cell_type": "code",
   "execution_count": 93,
   "id": "60dfd780",
   "metadata": {},
   "outputs": [],
   "source": [
    "top5 = df[df['sqrt'] > 0.25]"
   ]
  },
  {
   "cell_type": "code",
   "execution_count": 94,
   "id": "e8002828",
   "metadata": {},
   "outputs": [
    {
     "data": {
      "image/png": "[encoded data removed]",
      "text/plain": [
       "<Figure size 936x576 with 1 Axes>"
      ]
     },
     "metadata": {
      "needs_background": "light"
     },
     "output_type": "display_data"
    }
   ],
   "source": [
    "plt.figure(figsize=(13,8))\n",
    "ax = sns.barplot(top5.index, top5['sqrt'])\n",
    "ax.set_xticklabels(ax.get_xticklabels(), rotation=45, fontsize=12)\n",
    "plt.show()"
   ]
  },
  {
   "cell_type": "markdown",
   "id": "bddda87e",
   "metadata": {},
   "source": [
    "SVM with another take on feature importances, considers TotalCharges most important. Then, InternetService_Fiber optic, InternetService_DSL, MonthlyCharges, and TechSupport."
   ]
  },
  {
   "cell_type": "markdown",
   "id": "13cc1909",
   "metadata": {},
   "source": [
    "# SMOTE"
   ]
  },
  {
   "cell_type": "markdown",
   "id": "850a5dd5",
   "metadata": {},
   "source": [
    "Now, let's implement SMOTE and see if we get any improvements."
   ]
  },
  {
   "cell_type": "code",
   "execution_count": 95,
   "id": "64043eb9",
   "metadata": {},
   "outputs": [],
   "source": [
    "from imblearn.over_sampling import SMOTE"
   ]
  },
  {
   "cell_type": "code",
   "execution_count": 98,
   "id": "b77cb6cd",
   "metadata": {},
   "outputs": [],
   "source": [
    "smt = SMOTE(random_state = 2021) \n",
    "x_smt, y_smt = smt.fit_resample(train_prep, train_labels) "
   ]
  },
  {
   "cell_type": "code",
   "execution_count": 99,
   "id": "5afcfe6c",
   "metadata": {},
   "outputs": [],
   "source": [
    "param_grid = {\n",
    "    'n_estimators': random.randint(100,600,3),\n",
    "    'max_features' : random.randint(10,29,3),\n",
    "    'max_depth' : [3,4,5],\n",
    "    'bootstrap' : [True, False]\n",
    "}"
   ]
  },
  {
   "cell_type": "code",
   "execution_count": 100,
   "id": "73d55494",
   "metadata": {},
   "outputs": [
    {
     "data": {
      "text/html": [
       "<style>#sk-container-id-4 {color: black;background-color: white;}#sk-container-id-4 pre{padding: 0;}#sk-container-id-4 div.sk-toggleable {background-color: white;}#sk-container-id-4 label.sk-toggleable__label {cursor: pointer;display: block;width: 100%;margin-bottom: 0;padding: 0.3em;box-sizing: border-box;text-align: center;}#sk-container-id-4 label.sk-toggleable__label-arrow:before {content: \"▸\";float: left;margin-right: 0.25em;color: #696969;}#sk-container-id-4 label.sk-toggleable__label-arrow:hover:before {color: black;}#sk-container-id-4 div.sk-estimator:hover label.sk-toggleable__label-arrow:before {color: black;}#sk-container-id-4 div.sk-toggleable__content {max-height: 0;max-width: 0;overflow: hidden;text-align: left;background-color: #f0f8ff;}#sk-container-id-4 div.sk-toggleable__content pre {margin: 0.2em;color: black;border-radius: 0.25em;background-color: #f0f8ff;}#sk-container-id-4 input.sk-toggleable__control:checked~div.sk-toggleable__content {max-height: 200px;max-width: 100%;overflow: auto;}#sk-container-id-4 input.sk-toggleable__control:checked~label.sk-toggleable__label-arrow:before {content: \"▾\";}#sk-container-id-4 div.sk-estimator input.sk-toggleable__control:checked~label.sk-toggleable__label {background-color: #d4ebff;}#sk-container-id-4 div.sk-label input.sk-toggleable__control:checked~label.sk-toggleable__label {background-color: #d4ebff;}#sk-container-id-4 input.sk-hidden--visually {border: 0;clip: rect(1px 1px 1px 1px);clip: rect(1px, 1px, 1px, 1px);height: 1px;margin: -1px;overflow: hidden;padding: 0;position: absolute;width: 1px;}#sk-container-id-4 div.sk-estimator {font-family: monospace;background-color: #f0f8ff;border: 1px dotted black;border-radius: 0.25em;box-sizing: border-box;margin-bottom: 0.5em;}#sk-container-id-4 div.sk-estimator:hover {background-color: #d4ebff;}#sk-container-id-4 div.sk-parallel-item::after {content: \"\";width: 100%;border-bottom: 1px solid gray;flex-grow: 1;}#sk-container-id-4 div.sk-label:hover label.sk-toggleable__label {background-color: #d4ebff;}#sk-container-id-4 div.sk-serial::before {content: \"\";position: absolute;border-left: 1px solid gray;box-sizing: border-box;top: 0;bottom: 0;left: 50%;z-index: 0;}#sk-container-id-4 div.sk-serial {display: flex;flex-direction: column;align-items: center;background-color: white;padding-right: 0.2em;padding-left: 0.2em;position: relative;}#sk-container-id-4 div.sk-item {position: relative;z-index: 1;}#sk-container-id-4 div.sk-parallel {display: flex;align-items: stretch;justify-content: center;background-color: white;position: relative;}#sk-container-id-4 div.sk-item::before, #sk-container-id-4 div.sk-parallel-item::before {content: \"\";position: absolute;border-left: 1px solid gray;box-sizing: border-box;top: 0;bottom: 0;left: 50%;z-index: -1;}#sk-container-id-4 div.sk-parallel-item {display: flex;flex-direction: column;z-index: 1;position: relative;background-color: white;}#sk-container-id-4 div.sk-parallel-item:first-child::after {align-self: flex-end;width: 50%;}#sk-container-id-4 div.sk-parallel-item:last-child::after {align-self: flex-start;width: 50%;}#sk-container-id-4 div.sk-parallel-item:only-child::after {width: 0;}#sk-container-id-4 div.sk-dashed-wrapped {border: 1px dashed gray;margin: 0 0.4em 0.5em 0.4em;box-sizing: border-box;padding-bottom: 0.4em;background-color: white;}#sk-container-id-4 div.sk-label label {font-family: monospace;font-weight: bold;display: inline-block;line-height: 1.2em;}#sk-container-id-4 div.sk-label-container {text-align: center;}#sk-container-id-4 div.sk-container {/* jupyter's `normalize.less` sets `[hidden] { display: none; }` but bootstrap.min.css set `[hidden] { display: none !important; }` so we also need the `!important` here to be able to override the default hidden behavior on the sphinx rendered scikit-learn.org. See: https://github.com/scikit-learn/scikit-learn/issues/21755 */display: inline-block !important;position: relative;}#sk-container-id-4 div.sk-text-repr-fallback {display: none;}</style><div id=\"sk-container-id-4\" class=\"sk-top-container\"><div class=\"sk-text-repr-fallback\"><pre>RandomizedSearchCV(cv=3, estimator=RandomForestClassifier(random_state=2021),\n",
       "                   param_distributions={&#x27;bootstrap&#x27;: [True, False],\n",
       "                                        &#x27;max_depth&#x27;: [3, 4, 5],\n",
       "                                        &#x27;max_features&#x27;: array([21, 25, 15]),\n",
       "                                        &#x27;n_estimators&#x27;: array([183, 422, 439])},\n",
       "                   scoring=&#x27;accuracy&#x27;)</pre><b>In a Jupyter environment, please rerun this cell to show the HTML representation or trust the notebook. <br />On GitHub, the HTML representation is unable to render, please try loading this page with nbviewer.org.</b></div><div class=\"sk-container\" hidden><div class=\"sk-item sk-dashed-wrapped\"><div class=\"sk-label-container\"><div class=\"sk-label sk-toggleable\"><input class=\"sk-toggleable__control sk-hidden--visually\" id=\"sk-estimator-id-10\" type=\"checkbox\" ><label for=\"sk-estimator-id-10\" class=\"sk-toggleable__label sk-toggleable__label-arrow\">RandomizedSearchCV</label><div class=\"sk-toggleable__content\"><pre>RandomizedSearchCV(cv=3, estimator=RandomForestClassifier(random_state=2021),\n",
       "                   param_distributions={&#x27;bootstrap&#x27;: [True, False],\n",
       "                                        &#x27;max_depth&#x27;: [3, 4, 5],\n",
       "                                        &#x27;max_features&#x27;: array([21, 25, 15]),\n",
       "                                        &#x27;n_estimators&#x27;: array([183, 422, 439])},\n",
       "                   scoring=&#x27;accuracy&#x27;)</pre></div></div></div><div class=\"sk-parallel\"><div class=\"sk-parallel-item\"><div class=\"sk-item\"><div class=\"sk-label-container\"><div class=\"sk-label sk-toggleable\"><input class=\"sk-toggleable__control sk-hidden--visually\" id=\"sk-estimator-id-11\" type=\"checkbox\" ><label for=\"sk-estimator-id-11\" class=\"sk-toggleable__label sk-toggleable__label-arrow\">estimator: RandomForestClassifier</label><div class=\"sk-toggleable__content\"><pre>RandomForestClassifier(random_state=2021)</pre></div></div></div><div class=\"sk-serial\"><div class=\"sk-item\"><div class=\"sk-estimator sk-toggleable\"><input class=\"sk-toggleable__control sk-hidden--visually\" id=\"sk-estimator-id-12\" type=\"checkbox\" ><label for=\"sk-estimator-id-12\" class=\"sk-toggleable__label sk-toggleable__label-arrow\">RandomForestClassifier</label><div class=\"sk-toggleable__content\"><pre>RandomForestClassifier(random_state=2021)</pre></div></div></div></div></div></div></div></div></div></div>"
      ],
      "text/plain": [
       "RandomizedSearchCV(cv=3, estimator=RandomForestClassifier(random_state=2021),\n",
       "                   param_distributions={'bootstrap': [True, False],\n",
       "                                        'max_depth': [3, 4, 5],\n",
       "                                        'max_features': array([21, 25, 15]),\n",
       "                                        'n_estimators': array([183, 422, 439])},\n",
       "                   scoring='accuracy')"
      ]
     },
     "execution_count": 100,
     "metadata": {},
     "output_type": "execute_result"
    }
   ],
   "source": [
    "rf_clf = RandomForestClassifier(random_state=2021)\n",
    "rf_grid = RandomizedSearchCV(rf_clf, param_grid, cv=3, scoring='accuracy')\n",
    "rf_grid.fit(x_smt, y_smt)"
   ]
  },
  {
   "cell_type": "code",
   "execution_count": 101,
   "id": "78bc463a",
   "metadata": {},
   "outputs": [],
   "source": [
    "final_model = rf_grid.best_estimator_\n",
    "rf_preds = final_model.predict(test_prep)\n",
    "rfmod_pred_score = accuracy_score(test_labels, rf_preds)\n",
    "rfmod_recall = recall_score(test_labels, rf_preds, pos_label='Yes')"
   ]
  },
  {
   "cell_type": "code",
   "execution_count": 102,
   "id": "d97b31be",
   "metadata": {},
   "outputs": [
    {
     "name": "stdout",
     "output_type": "stream",
     "text": [
      "Train error rate = 20.52%\n",
      "Test error rate = 22.75%\n",
      "Test Recall = 77.97%\n"
     ]
    }
   ],
   "source": [
    "print('Train error rate = %.2f%%' % ((1 - rf_grid.best_score_) * 100))\n",
    "print('Test error rate = %.2f%%' % ((1 - rfmod_pred_score) * 100))\n",
    "print('Test Recall = %.2f%%' % (rfmod_recall * 100))"
   ]
  },
  {
   "cell_type": "code",
   "execution_count": 103,
   "id": "8bbcbdda",
   "metadata": {},
   "outputs": [
    {
     "name": "stdout",
     "output_type": "stream",
     "text": [
      "              precision    recall  f1-score   support\n",
      "\n",
      "          No       0.90      0.77      0.83       769\n",
      "         Yes       0.56      0.78      0.65       286\n",
      "\n",
      "    accuracy                           0.77      1055\n",
      "   macro avg       0.73      0.77      0.74      1055\n",
      "weighted avg       0.81      0.77      0.78      1055\n",
      "\n"
     ]
    }
   ],
   "source": [
    "print(classification_report(test_labels, rf_preds))"
   ]
  },
  {
   "cell_type": "markdown",
   "id": "c6fe766f",
   "metadata": {},
   "source": [
    "# Logistic Regression"
   ]
  },
  {
   "cell_type": "code",
   "execution_count": 104,
   "id": "ad96f0e6",
   "metadata": {},
   "outputs": [],
   "source": [
    "# Outline parameters to test\n",
    "param_grid = [\n",
    "    {'max_iter': random.randint(100,600,3), 'C': [.1,.5,1], 'penalty': ['l2'], 'solver': ['lbfgs'], 'tol': [.01, .001, .0001]},\n",
    "    {'max_iter': random.randint(100,600,3), 'penalty': ['none'], 'tol': [.01, .001, .0001]},  \n",
    "    {'max_iter': random.randint(100,600,3), 'C': [.1,.5,1], 'penalty': ['l1'], 'solver': ['liblinear'], 'tol': [.01, .001, .0001]},\n",
    "    {'max_iter': random.randint(100,600,3), 'C': [.1,.5,1], 'penalty': ['elasticnet'], 'solver': ['saga'], 'l1_ratio':[.25, .5, .75], 'tol': [.01, .001, .0001]}\n",
    "]"
   ]
  },
  {
   "cell_type": "code",
   "execution_count": 105,
   "id": "bb172ec7",
   "metadata": {},
   "outputs": [
    {
     "data": {
      "text/html": [
       "<style>#sk-container-id-5 {color: black;background-color: white;}#sk-container-id-5 pre{padding: 0;}#sk-container-id-5 div.sk-toggleable {background-color: white;}#sk-container-id-5 label.sk-toggleable__label {cursor: pointer;display: block;width: 100%;margin-bottom: 0;padding: 0.3em;box-sizing: border-box;text-align: center;}#sk-container-id-5 label.sk-toggleable__label-arrow:before {content: \"▸\";float: left;margin-right: 0.25em;color: #696969;}#sk-container-id-5 label.sk-toggleable__label-arrow:hover:before {color: black;}#sk-container-id-5 div.sk-estimator:hover label.sk-toggleable__label-arrow:before {color: black;}#sk-container-id-5 div.sk-toggleable__content {max-height: 0;max-width: 0;overflow: hidden;text-align: left;background-color: #f0f8ff;}#sk-container-id-5 div.sk-toggleable__content pre {margin: 0.2em;color: black;border-radius: 0.25em;background-color: #f0f8ff;}#sk-container-id-5 input.sk-toggleable__control:checked~div.sk-toggleable__content {max-height: 200px;max-width: 100%;overflow: auto;}#sk-container-id-5 input.sk-toggleable__control:checked~label.sk-toggleable__label-arrow:before {content: \"▾\";}#sk-container-id-5 div.sk-estimator input.sk-toggleable__control:checked~label.sk-toggleable__label {background-color: #d4ebff;}#sk-container-id-5 div.sk-label input.sk-toggleable__control:checked~label.sk-toggleable__label {background-color: #d4ebff;}#sk-container-id-5 input.sk-hidden--visually {border: 0;clip: rect(1px 1px 1px 1px);clip: rect(1px, 1px, 1px, 1px);height: 1px;margin: -1px;overflow: hidden;padding: 0;position: absolute;width: 1px;}#sk-container-id-5 div.sk-estimator {font-family: monospace;background-color: #f0f8ff;border: 1px dotted black;border-radius: 0.25em;box-sizing: border-box;margin-bottom: 0.5em;}#sk-container-id-5 div.sk-estimator:hover {background-color: #d4ebff;}#sk-container-id-5 div.sk-parallel-item::after {content: \"\";width: 100%;border-bottom: 1px solid gray;flex-grow: 1;}#sk-container-id-5 div.sk-label:hover label.sk-toggleable__label {background-color: #d4ebff;}#sk-container-id-5 div.sk-serial::before {content: \"\";position: absolute;border-left: 1px solid gray;box-sizing: border-box;top: 0;bottom: 0;left: 50%;z-index: 0;}#sk-container-id-5 div.sk-serial {display: flex;flex-direction: column;align-items: center;background-color: white;padding-right: 0.2em;padding-left: 0.2em;position: relative;}#sk-container-id-5 div.sk-item {position: relative;z-index: 1;}#sk-container-id-5 div.sk-parallel {display: flex;align-items: stretch;justify-content: center;background-color: white;position: relative;}#sk-container-id-5 div.sk-item::before, #sk-container-id-5 div.sk-parallel-item::before {content: \"\";position: absolute;border-left: 1px solid gray;box-sizing: border-box;top: 0;bottom: 0;left: 50%;z-index: -1;}#sk-container-id-5 div.sk-parallel-item {display: flex;flex-direction: column;z-index: 1;position: relative;background-color: white;}#sk-container-id-5 div.sk-parallel-item:first-child::after {align-self: flex-end;width: 50%;}#sk-container-id-5 div.sk-parallel-item:last-child::after {align-self: flex-start;width: 50%;}#sk-container-id-5 div.sk-parallel-item:only-child::after {width: 0;}#sk-container-id-5 div.sk-dashed-wrapped {border: 1px dashed gray;margin: 0 0.4em 0.5em 0.4em;box-sizing: border-box;padding-bottom: 0.4em;background-color: white;}#sk-container-id-5 div.sk-label label {font-family: monospace;font-weight: bold;display: inline-block;line-height: 1.2em;}#sk-container-id-5 div.sk-label-container {text-align: center;}#sk-container-id-5 div.sk-container {/* jupyter's `normalize.less` sets `[hidden] { display: none; }` but bootstrap.min.css set `[hidden] { display: none !important; }` so we also need the `!important` here to be able to override the default hidden behavior on the sphinx rendered scikit-learn.org. See: https://github.com/scikit-learn/scikit-learn/issues/21755 */display: inline-block !important;position: relative;}#sk-container-id-5 div.sk-text-repr-fallback {display: none;}</style><div id=\"sk-container-id-5\" class=\"sk-top-container\"><div class=\"sk-text-repr-fallback\"><pre>RandomizedSearchCV(cv=3, estimator=LogisticRegression(),\n",
       "                   param_distributions=[{&#x27;C&#x27;: [0.1, 0.5, 1],\n",
       "                                         &#x27;max_iter&#x27;: array([197, 534, 119]),\n",
       "                                         &#x27;penalty&#x27;: [&#x27;l2&#x27;], &#x27;solver&#x27;: [&#x27;lbfgs&#x27;],\n",
       "                                         &#x27;tol&#x27;: [0.01, 0.001, 0.0001]},\n",
       "                                        {&#x27;max_iter&#x27;: array([176, 306, 484]),\n",
       "                                         &#x27;penalty&#x27;: [&#x27;none&#x27;],\n",
       "                                         &#x27;tol&#x27;: [0.01, 0.001, 0.0001]},\n",
       "                                        {&#x27;C&#x27;: [0.1, 0.5, 1],\n",
       "                                         &#x27;max_iter&#x27;: array([105, 279, 184]),\n",
       "                                         &#x27;penalty&#x27;: [&#x27;l1&#x27;],\n",
       "                                         &#x27;solver&#x27;: [&#x27;liblinear&#x27;],\n",
       "                                         &#x27;tol&#x27;: [0.01, 0.001, 0.0001]},\n",
       "                                        {&#x27;C&#x27;: [0.1, 0.5, 1],\n",
       "                                         &#x27;l1_ratio&#x27;: [0.25, 0.5, 0.75],\n",
       "                                         &#x27;max_iter&#x27;: array([286, 512, 452]),\n",
       "                                         &#x27;penalty&#x27;: [&#x27;elasticnet&#x27;],\n",
       "                                         &#x27;solver&#x27;: [&#x27;saga&#x27;],\n",
       "                                         &#x27;tol&#x27;: [0.01, 0.001, 0.0001]}],\n",
       "                   scoring=&#x27;accuracy&#x27;)</pre><b>In a Jupyter environment, please rerun this cell to show the HTML representation or trust the notebook. <br />On GitHub, the HTML representation is unable to render, please try loading this page with nbviewer.org.</b></div><div class=\"sk-container\" hidden><div class=\"sk-item sk-dashed-wrapped\"><div class=\"sk-label-container\"><div class=\"sk-label sk-toggleable\"><input class=\"sk-toggleable__control sk-hidden--visually\" id=\"sk-estimator-id-13\" type=\"checkbox\" ><label for=\"sk-estimator-id-13\" class=\"sk-toggleable__label sk-toggleable__label-arrow\">RandomizedSearchCV</label><div class=\"sk-toggleable__content\"><pre>RandomizedSearchCV(cv=3, estimator=LogisticRegression(),\n",
       "                   param_distributions=[{&#x27;C&#x27;: [0.1, 0.5, 1],\n",
       "                                         &#x27;max_iter&#x27;: array([197, 534, 119]),\n",
       "                                         &#x27;penalty&#x27;: [&#x27;l2&#x27;], &#x27;solver&#x27;: [&#x27;lbfgs&#x27;],\n",
       "                                         &#x27;tol&#x27;: [0.01, 0.001, 0.0001]},\n",
       "                                        {&#x27;max_iter&#x27;: array([176, 306, 484]),\n",
       "                                         &#x27;penalty&#x27;: [&#x27;none&#x27;],\n",
       "                                         &#x27;tol&#x27;: [0.01, 0.001, 0.0001]},\n",
       "                                        {&#x27;C&#x27;: [0.1, 0.5, 1],\n",
       "                                         &#x27;max_iter&#x27;: array([105, 279, 184]),\n",
       "                                         &#x27;penalty&#x27;: [&#x27;l1&#x27;],\n",
       "                                         &#x27;solver&#x27;: [&#x27;liblinear&#x27;],\n",
       "                                         &#x27;tol&#x27;: [0.01, 0.001, 0.0001]},\n",
       "                                        {&#x27;C&#x27;: [0.1, 0.5, 1],\n",
       "                                         &#x27;l1_ratio&#x27;: [0.25, 0.5, 0.75],\n",
       "                                         &#x27;max_iter&#x27;: array([286, 512, 452]),\n",
       "                                         &#x27;penalty&#x27;: [&#x27;elasticnet&#x27;],\n",
       "                                         &#x27;solver&#x27;: [&#x27;saga&#x27;],\n",
       "                                         &#x27;tol&#x27;: [0.01, 0.001, 0.0001]}],\n",
       "                   scoring=&#x27;accuracy&#x27;)</pre></div></div></div><div class=\"sk-parallel\"><div class=\"sk-parallel-item\"><div class=\"sk-item\"><div class=\"sk-label-container\"><div class=\"sk-label sk-toggleable\"><input class=\"sk-toggleable__control sk-hidden--visually\" id=\"sk-estimator-id-14\" type=\"checkbox\" ><label for=\"sk-estimator-id-14\" class=\"sk-toggleable__label sk-toggleable__label-arrow\">estimator: LogisticRegression</label><div class=\"sk-toggleable__content\"><pre>LogisticRegression()</pre></div></div></div><div class=\"sk-serial\"><div class=\"sk-item\"><div class=\"sk-estimator sk-toggleable\"><input class=\"sk-toggleable__control sk-hidden--visually\" id=\"sk-estimator-id-15\" type=\"checkbox\" ><label for=\"sk-estimator-id-15\" class=\"sk-toggleable__label sk-toggleable__label-arrow\">LogisticRegression</label><div class=\"sk-toggleable__content\"><pre>LogisticRegression()</pre></div></div></div></div></div></div></div></div></div></div>"
      ],
      "text/plain": [
       "RandomizedSearchCV(cv=3, estimator=LogisticRegression(),\n",
       "                   param_distributions=[{'C': [0.1, 0.5, 1],\n",
       "                                         'max_iter': array([197, 534, 119]),\n",
       "                                         'penalty': ['l2'], 'solver': ['lbfgs'],\n",
       "                                         'tol': [0.01, 0.001, 0.0001]},\n",
       "                                        {'max_iter': array([176, 306, 484]),\n",
       "                                         'penalty': ['none'],\n",
       "                                         'tol': [0.01, 0.001, 0.0001]},\n",
       "                                        {'C': [0.1, 0.5, 1],\n",
       "                                         'max_iter': array([105, 279, 184]),\n",
       "                                         'penalty': ['l1'],\n",
       "                                         'solver': ['liblinear'],\n",
       "                                         'tol': [0.01, 0.001, 0.0001]},\n",
       "                                        {'C': [0.1, 0.5, 1],\n",
       "                                         'l1_ratio': [0.25, 0.5, 0.75],\n",
       "                                         'max_iter': array([286, 512, 452]),\n",
       "                                         'penalty': ['elasticnet'],\n",
       "                                         'solver': ['saga'],\n",
       "                                         'tol': [0.01, 0.001, 0.0001]}],\n",
       "                   scoring='accuracy')"
      ]
     },
     "execution_count": 105,
     "metadata": {},
     "output_type": "execute_result"
    }
   ],
   "source": [
    "log_clf = LogisticRegression()\n",
    "log_grid = RandomizedSearchCV(log_clf, param_grid, cv=3, scoring='accuracy')\n",
    "log_grid.fit(x_smt, y_smt)"
   ]
  },
  {
   "cell_type": "code",
   "execution_count": 106,
   "id": "c066e450",
   "metadata": {},
   "outputs": [],
   "source": [
    "final_model = log_grid.best_estimator_\n",
    "log_preds = final_model.predict(test_prep)\n",
    "logmod_pred_score = accuracy_score(test_labels, log_preds)\n",
    "logmod_recall = recall_score(test_labels, log_preds, pos_label='Yes')"
   ]
  },
  {
   "cell_type": "code",
   "execution_count": 107,
   "id": "9d7a1c39",
   "metadata": {},
   "outputs": [
    {
     "name": "stdout",
     "output_type": "stream",
     "text": [
      "Train error rate = 21.97%\n",
      "Test error rate = 26.07%\n",
      "Test Recall = 75.52%\n"
     ]
    }
   ],
   "source": [
    "print('Train error rate = %.2f%%' % ((1 - log_grid.best_score_) * 100))\n",
    "print('Test error rate = %.2f%%' % ((1 - logmod_pred_score) * 100))\n",
    "print('Test Recall = %.2f%%' % (logmod_recall * 100))"
   ]
  },
  {
   "cell_type": "code",
   "execution_count": 108,
   "id": "892a8522",
   "metadata": {},
   "outputs": [
    {
     "name": "stdout",
     "output_type": "stream",
     "text": [
      "              precision    recall  f1-score   support\n",
      "\n",
      "          No       0.89      0.73      0.80       769\n",
      "         Yes       0.51      0.76      0.61       286\n",
      "\n",
      "    accuracy                           0.74      1055\n",
      "   macro avg       0.70      0.74      0.71      1055\n",
      "weighted avg       0.79      0.74      0.75      1055\n",
      "\n"
     ]
    }
   ],
   "source": [
    "print(classification_report(test_labels, log_preds))"
   ]
  },
  {
   "cell_type": "markdown",
   "id": "cbf6f3c0",
   "metadata": {},
   "source": [
    "# Support Vector Machine"
   ]
  },
  {
   "cell_type": "code",
   "execution_count": 109,
   "id": "756aa5a1",
   "metadata": {},
   "outputs": [],
   "source": [
    "param_grid = [    \n",
    "    {'C': [.1,1,10], 'max_iter': random.randint(1000,3000,3), 'tol': [1e-4, 1e-10], 'gamma' : [3,5,7]},\n",
    "    {'C': [.1,1,10], 'max_iter': [-1], 'tol': [1e-4, 1e-10]},\n",
    "    {'C': [.1,1,10], 'max_iter': random.randint(1000,3000,3), 'kernel': ['linear']}\n",
    "  ]"
   ]
  },
  {
   "cell_type": "code",
   "execution_count": 110,
   "id": "6769eca9",
   "metadata": {},
   "outputs": [
    {
     "name": "stderr",
     "output_type": "stream",
     "text": [
      "C:\\Users\\Lenovo\\anaconda3\\lib\\site-packages\\sklearn\\svm\\_base.py:301: ConvergenceWarning: Solver terminated early (max_iter=1926).  Consider pre-processing your data with StandardScaler or MinMaxScaler.\n",
      "  warnings.warn(\n",
      "C:\\Users\\Lenovo\\anaconda3\\lib\\site-packages\\sklearn\\svm\\_base.py:301: ConvergenceWarning: Solver terminated early (max_iter=1926).  Consider pre-processing your data with StandardScaler or MinMaxScaler.\n",
      "  warnings.warn(\n",
      "C:\\Users\\Lenovo\\anaconda3\\lib\\site-packages\\sklearn\\svm\\_base.py:301: ConvergenceWarning: Solver terminated early (max_iter=1926).  Consider pre-processing your data with StandardScaler or MinMaxScaler.\n",
      "  warnings.warn(\n",
      "C:\\Users\\Lenovo\\anaconda3\\lib\\site-packages\\sklearn\\svm\\_base.py:301: ConvergenceWarning: Solver terminated early (max_iter=1158).  Consider pre-processing your data with StandardScaler or MinMaxScaler.\n",
      "  warnings.warn(\n",
      "C:\\Users\\Lenovo\\anaconda3\\lib\\site-packages\\sklearn\\svm\\_base.py:301: ConvergenceWarning: Solver terminated early (max_iter=1158).  Consider pre-processing your data with StandardScaler or MinMaxScaler.\n",
      "  warnings.warn(\n",
      "C:\\Users\\Lenovo\\anaconda3\\lib\\site-packages\\sklearn\\svm\\_base.py:301: ConvergenceWarning: Solver terminated early (max_iter=1158).  Consider pre-processing your data with StandardScaler or MinMaxScaler.\n",
      "  warnings.warn(\n",
      "C:\\Users\\Lenovo\\anaconda3\\lib\\site-packages\\sklearn\\svm\\_base.py:301: ConvergenceWarning: Solver terminated early (max_iter=1284).  Consider pre-processing your data with StandardScaler or MinMaxScaler.\n",
      "  warnings.warn(\n",
      "C:\\Users\\Lenovo\\anaconda3\\lib\\site-packages\\sklearn\\svm\\_base.py:301: ConvergenceWarning: Solver terminated early (max_iter=1284).  Consider pre-processing your data with StandardScaler or MinMaxScaler.\n",
      "  warnings.warn(\n",
      "C:\\Users\\Lenovo\\anaconda3\\lib\\site-packages\\sklearn\\svm\\_base.py:301: ConvergenceWarning: Solver terminated early (max_iter=1284).  Consider pre-processing your data with StandardScaler or MinMaxScaler.\n",
      "  warnings.warn(\n",
      "C:\\Users\\Lenovo\\anaconda3\\lib\\site-packages\\sklearn\\svm\\_base.py:301: ConvergenceWarning: Solver terminated early (max_iter=1926).  Consider pre-processing your data with StandardScaler or MinMaxScaler.\n",
      "  warnings.warn(\n",
      "C:\\Users\\Lenovo\\anaconda3\\lib\\site-packages\\sklearn\\svm\\_base.py:301: ConvergenceWarning: Solver terminated early (max_iter=1926).  Consider pre-processing your data with StandardScaler or MinMaxScaler.\n",
      "  warnings.warn(\n",
      "C:\\Users\\Lenovo\\anaconda3\\lib\\site-packages\\sklearn\\svm\\_base.py:301: ConvergenceWarning: Solver terminated early (max_iter=1926).  Consider pre-processing your data with StandardScaler or MinMaxScaler.\n",
      "  warnings.warn(\n",
      "C:\\Users\\Lenovo\\anaconda3\\lib\\site-packages\\sklearn\\svm\\_base.py:301: ConvergenceWarning: Solver terminated early (max_iter=1505).  Consider pre-processing your data with StandardScaler or MinMaxScaler.\n",
      "  warnings.warn(\n",
      "C:\\Users\\Lenovo\\anaconda3\\lib\\site-packages\\sklearn\\svm\\_base.py:301: ConvergenceWarning: Solver terminated early (max_iter=1505).  Consider pre-processing your data with StandardScaler or MinMaxScaler.\n",
      "  warnings.warn(\n",
      "C:\\Users\\Lenovo\\anaconda3\\lib\\site-packages\\sklearn\\svm\\_base.py:301: ConvergenceWarning: Solver terminated early (max_iter=1505).  Consider pre-processing your data with StandardScaler or MinMaxScaler.\n",
      "  warnings.warn(\n",
      "C:\\Users\\Lenovo\\anaconda3\\lib\\site-packages\\sklearn\\svm\\_base.py:301: ConvergenceWarning: Solver terminated early (max_iter=1284).  Consider pre-processing your data with StandardScaler or MinMaxScaler.\n",
      "  warnings.warn(\n",
      "C:\\Users\\Lenovo\\anaconda3\\lib\\site-packages\\sklearn\\svm\\_base.py:301: ConvergenceWarning: Solver terminated early (max_iter=1284).  Consider pre-processing your data with StandardScaler or MinMaxScaler.\n",
      "  warnings.warn(\n",
      "C:\\Users\\Lenovo\\anaconda3\\lib\\site-packages\\sklearn\\svm\\_base.py:301: ConvergenceWarning: Solver terminated early (max_iter=1284).  Consider pre-processing your data with StandardScaler or MinMaxScaler.\n",
      "  warnings.warn(\n",
      "C:\\Users\\Lenovo\\anaconda3\\lib\\site-packages\\sklearn\\svm\\_base.py:301: ConvergenceWarning: Solver terminated early (max_iter=1926).  Consider pre-processing your data with StandardScaler or MinMaxScaler.\n",
      "  warnings.warn(\n",
      "C:\\Users\\Lenovo\\anaconda3\\lib\\site-packages\\sklearn\\svm\\_base.py:301: ConvergenceWarning: Solver terminated early (max_iter=1926).  Consider pre-processing your data with StandardScaler or MinMaxScaler.\n",
      "  warnings.warn(\n",
      "C:\\Users\\Lenovo\\anaconda3\\lib\\site-packages\\sklearn\\svm\\_base.py:301: ConvergenceWarning: Solver terminated early (max_iter=1926).  Consider pre-processing your data with StandardScaler or MinMaxScaler.\n",
      "  warnings.warn(\n",
      "C:\\Users\\Lenovo\\anaconda3\\lib\\site-packages\\sklearn\\svm\\_base.py:301: ConvergenceWarning: Solver terminated early (max_iter=1158).  Consider pre-processing your data with StandardScaler or MinMaxScaler.\n",
      "  warnings.warn(\n",
      "C:\\Users\\Lenovo\\anaconda3\\lib\\site-packages\\sklearn\\svm\\_base.py:301: ConvergenceWarning: Solver terminated early (max_iter=1158).  Consider pre-processing your data with StandardScaler or MinMaxScaler.\n",
      "  warnings.warn(\n",
      "C:\\Users\\Lenovo\\anaconda3\\lib\\site-packages\\sklearn\\svm\\_base.py:301: ConvergenceWarning: Solver terminated early (max_iter=1158).  Consider pre-processing your data with StandardScaler or MinMaxScaler.\n",
      "  warnings.warn(\n",
      "C:\\Users\\Lenovo\\anaconda3\\lib\\site-packages\\sklearn\\svm\\_base.py:301: ConvergenceWarning: Solver terminated early (max_iter=1926).  Consider pre-processing your data with StandardScaler or MinMaxScaler.\n",
      "  warnings.warn(\n",
      "C:\\Users\\Lenovo\\anaconda3\\lib\\site-packages\\sklearn\\svm\\_base.py:301: ConvergenceWarning: Solver terminated early (max_iter=1926).  Consider pre-processing your data with StandardScaler or MinMaxScaler.\n",
      "  warnings.warn(\n",
      "C:\\Users\\Lenovo\\anaconda3\\lib\\site-packages\\sklearn\\svm\\_base.py:301: ConvergenceWarning: Solver terminated early (max_iter=1926).  Consider pre-processing your data with StandardScaler or MinMaxScaler.\n",
      "  warnings.warn(\n",
      "C:\\Users\\Lenovo\\anaconda3\\lib\\site-packages\\sklearn\\svm\\_base.py:301: ConvergenceWarning: Solver terminated early (max_iter=1926).  Consider pre-processing your data with StandardScaler or MinMaxScaler.\n",
      "  warnings.warn(\n",
      "C:\\Users\\Lenovo\\anaconda3\\lib\\site-packages\\sklearn\\svm\\_base.py:301: ConvergenceWarning: Solver terminated early (max_iter=1926).  Consider pre-processing your data with StandardScaler or MinMaxScaler.\n",
      "  warnings.warn(\n",
      "C:\\Users\\Lenovo\\anaconda3\\lib\\site-packages\\sklearn\\svm\\_base.py:301: ConvergenceWarning: Solver terminated early (max_iter=1926).  Consider pre-processing your data with StandardScaler or MinMaxScaler.\n",
      "  warnings.warn(\n",
      "C:\\Users\\Lenovo\\anaconda3\\lib\\site-packages\\sklearn\\svm\\_base.py:301: ConvergenceWarning: Solver terminated early (max_iter=1158).  Consider pre-processing your data with StandardScaler or MinMaxScaler.\n",
      "  warnings.warn(\n",
      "C:\\Users\\Lenovo\\anaconda3\\lib\\site-packages\\sklearn\\svm\\_base.py:301: ConvergenceWarning: Solver terminated early (max_iter=1158).  Consider pre-processing your data with StandardScaler or MinMaxScaler.\n",
      "  warnings.warn(\n",
      "C:\\Users\\Lenovo\\anaconda3\\lib\\site-packages\\sklearn\\svm\\_base.py:301: ConvergenceWarning: Solver terminated early (max_iter=1158).  Consider pre-processing your data with StandardScaler or MinMaxScaler.\n",
      "  warnings.warn(\n",
      "C:\\Users\\Lenovo\\anaconda3\\lib\\site-packages\\sklearn\\svm\\_base.py:301: ConvergenceWarning: Solver terminated early (max_iter=1926).  Consider pre-processing your data with StandardScaler or MinMaxScaler.\n",
      "  warnings.warn(\n",
      "C:\\Users\\Lenovo\\anaconda3\\lib\\site-packages\\sklearn\\svm\\_base.py:301: ConvergenceWarning: Solver terminated early (max_iter=1926).  Consider pre-processing your data with StandardScaler or MinMaxScaler.\n",
      "  warnings.warn(\n",
      "C:\\Users\\Lenovo\\anaconda3\\lib\\site-packages\\sklearn\\svm\\_base.py:301: ConvergenceWarning: Solver terminated early (max_iter=1926).  Consider pre-processing your data with StandardScaler or MinMaxScaler.\n",
      "  warnings.warn(\n",
      "C:\\Users\\Lenovo\\anaconda3\\lib\\site-packages\\sklearn\\svm\\_base.py:301: ConvergenceWarning: Solver terminated early (max_iter=1158).  Consider pre-processing your data with StandardScaler or MinMaxScaler.\n",
      "  warnings.warn(\n",
      "C:\\Users\\Lenovo\\anaconda3\\lib\\site-packages\\sklearn\\svm\\_base.py:301: ConvergenceWarning: Solver terminated early (max_iter=1158).  Consider pre-processing your data with StandardScaler or MinMaxScaler.\n",
      "  warnings.warn(\n",
      "C:\\Users\\Lenovo\\anaconda3\\lib\\site-packages\\sklearn\\svm\\_base.py:301: ConvergenceWarning: Solver terminated early (max_iter=1158).  Consider pre-processing your data with StandardScaler or MinMaxScaler.\n",
      "  warnings.warn(\n",
      "C:\\Users\\Lenovo\\anaconda3\\lib\\site-packages\\sklearn\\svm\\_base.py:301: ConvergenceWarning: Solver terminated early (max_iter=1284).  Consider pre-processing your data with StandardScaler or MinMaxScaler.\n",
      "  warnings.warn(\n",
      "C:\\Users\\Lenovo\\anaconda3\\lib\\site-packages\\sklearn\\svm\\_base.py:301: ConvergenceWarning: Solver terminated early (max_iter=1284).  Consider pre-processing your data with StandardScaler or MinMaxScaler.\n",
      "  warnings.warn(\n",
      "C:\\Users\\Lenovo\\anaconda3\\lib\\site-packages\\sklearn\\svm\\_base.py:301: ConvergenceWarning: Solver terminated early (max_iter=1284).  Consider pre-processing your data with StandardScaler or MinMaxScaler.\n",
      "  warnings.warn(\n",
      "C:\\Users\\Lenovo\\anaconda3\\lib\\site-packages\\sklearn\\svm\\_base.py:301: ConvergenceWarning: Solver terminated early (max_iter=1158).  Consider pre-processing your data with StandardScaler or MinMaxScaler.\n",
      "  warnings.warn(\n",
      "C:\\Users\\Lenovo\\anaconda3\\lib\\site-packages\\sklearn\\svm\\_base.py:301: ConvergenceWarning: Solver terminated early (max_iter=1158).  Consider pre-processing your data with StandardScaler or MinMaxScaler.\n",
      "  warnings.warn(\n",
      "C:\\Users\\Lenovo\\anaconda3\\lib\\site-packages\\sklearn\\svm\\_base.py:301: ConvergenceWarning: Solver terminated early (max_iter=1158).  Consider pre-processing your data with StandardScaler or MinMaxScaler.\n",
      "  warnings.warn(\n",
      "C:\\Users\\Lenovo\\anaconda3\\lib\\site-packages\\sklearn\\svm\\_base.py:301: ConvergenceWarning: Solver terminated early (max_iter=1926).  Consider pre-processing your data with StandardScaler or MinMaxScaler.\n",
      "  warnings.warn(\n"
     ]
    },
    {
     "data": {
      "text/html": [
       "<style>#sk-container-id-6 {color: black;background-color: white;}#sk-container-id-6 pre{padding: 0;}#sk-container-id-6 div.sk-toggleable {background-color: white;}#sk-container-id-6 label.sk-toggleable__label {cursor: pointer;display: block;width: 100%;margin-bottom: 0;padding: 0.3em;box-sizing: border-box;text-align: center;}#sk-container-id-6 label.sk-toggleable__label-arrow:before {content: \"▸\";float: left;margin-right: 0.25em;color: #696969;}#sk-container-id-6 label.sk-toggleable__label-arrow:hover:before {color: black;}#sk-container-id-6 div.sk-estimator:hover label.sk-toggleable__label-arrow:before {color: black;}#sk-container-id-6 div.sk-toggleable__content {max-height: 0;max-width: 0;overflow: hidden;text-align: left;background-color: #f0f8ff;}#sk-container-id-6 div.sk-toggleable__content pre {margin: 0.2em;color: black;border-radius: 0.25em;background-color: #f0f8ff;}#sk-container-id-6 input.sk-toggleable__control:checked~div.sk-toggleable__content {max-height: 200px;max-width: 100%;overflow: auto;}#sk-container-id-6 input.sk-toggleable__control:checked~label.sk-toggleable__label-arrow:before {content: \"▾\";}#sk-container-id-6 div.sk-estimator input.sk-toggleable__control:checked~label.sk-toggleable__label {background-color: #d4ebff;}#sk-container-id-6 div.sk-label input.sk-toggleable__control:checked~label.sk-toggleable__label {background-color: #d4ebff;}#sk-container-id-6 input.sk-hidden--visually {border: 0;clip: rect(1px 1px 1px 1px);clip: rect(1px, 1px, 1px, 1px);height: 1px;margin: -1px;overflow: hidden;padding: 0;position: absolute;width: 1px;}#sk-container-id-6 div.sk-estimator {font-family: monospace;background-color: #f0f8ff;border: 1px dotted black;border-radius: 0.25em;box-sizing: border-box;margin-bottom: 0.5em;}#sk-container-id-6 div.sk-estimator:hover {background-color: #d4ebff;}#sk-container-id-6 div.sk-parallel-item::after {content: \"\";width: 100%;border-bottom: 1px solid gray;flex-grow: 1;}#sk-container-id-6 div.sk-label:hover label.sk-toggleable__label {background-color: #d4ebff;}#sk-container-id-6 div.sk-serial::before {content: \"\";position: absolute;border-left: 1px solid gray;box-sizing: border-box;top: 0;bottom: 0;left: 50%;z-index: 0;}#sk-container-id-6 div.sk-serial {display: flex;flex-direction: column;align-items: center;background-color: white;padding-right: 0.2em;padding-left: 0.2em;position: relative;}#sk-container-id-6 div.sk-item {position: relative;z-index: 1;}#sk-container-id-6 div.sk-parallel {display: flex;align-items: stretch;justify-content: center;background-color: white;position: relative;}#sk-container-id-6 div.sk-item::before, #sk-container-id-6 div.sk-parallel-item::before {content: \"\";position: absolute;border-left: 1px solid gray;box-sizing: border-box;top: 0;bottom: 0;left: 50%;z-index: -1;}#sk-container-id-6 div.sk-parallel-item {display: flex;flex-direction: column;z-index: 1;position: relative;background-color: white;}#sk-container-id-6 div.sk-parallel-item:first-child::after {align-self: flex-end;width: 50%;}#sk-container-id-6 div.sk-parallel-item:last-child::after {align-self: flex-start;width: 50%;}#sk-container-id-6 div.sk-parallel-item:only-child::after {width: 0;}#sk-container-id-6 div.sk-dashed-wrapped {border: 1px dashed gray;margin: 0 0.4em 0.5em 0.4em;box-sizing: border-box;padding-bottom: 0.4em;background-color: white;}#sk-container-id-6 div.sk-label label {font-family: monospace;font-weight: bold;display: inline-block;line-height: 1.2em;}#sk-container-id-6 div.sk-label-container {text-align: center;}#sk-container-id-6 div.sk-container {/* jupyter's `normalize.less` sets `[hidden] { display: none; }` but bootstrap.min.css set `[hidden] { display: none !important; }` so we also need the `!important` here to be able to override the default hidden behavior on the sphinx rendered scikit-learn.org. See: https://github.com/scikit-learn/scikit-learn/issues/21755 */display: inline-block !important;position: relative;}#sk-container-id-6 div.sk-text-repr-fallback {display: none;}</style><div id=\"sk-container-id-6\" class=\"sk-top-container\"><div class=\"sk-text-repr-fallback\"><pre>RandomizedSearchCV(cv=3, estimator=SVC(random_state=2021), n_iter=15,\n",
       "                   param_distributions=[{&#x27;C&#x27;: [0.1, 1, 10], &#x27;gamma&#x27;: [3, 5, 7],\n",
       "                                         &#x27;max_iter&#x27;: array([1926, 1158, 1284]),\n",
       "                                         &#x27;tol&#x27;: [0.0001, 1e-10]},\n",
       "                                        {&#x27;C&#x27;: [0.1, 1, 10], &#x27;max_iter&#x27;: [-1],\n",
       "                                         &#x27;tol&#x27;: [0.0001, 1e-10]},\n",
       "                                        {&#x27;C&#x27;: [0.1, 1, 10],\n",
       "                                         &#x27;kernel&#x27;: [&#x27;linear&#x27;],\n",
       "                                         &#x27;max_iter&#x27;: array([1905, 1505, 1002])}],\n",
       "                   scoring=&#x27;accuracy&#x27;)</pre><b>In a Jupyter environment, please rerun this cell to show the HTML representation or trust the notebook. <br />On GitHub, the HTML representation is unable to render, please try loading this page with nbviewer.org.</b></div><div class=\"sk-container\" hidden><div class=\"sk-item sk-dashed-wrapped\"><div class=\"sk-label-container\"><div class=\"sk-label sk-toggleable\"><input class=\"sk-toggleable__control sk-hidden--visually\" id=\"sk-estimator-id-16\" type=\"checkbox\" ><label for=\"sk-estimator-id-16\" class=\"sk-toggleable__label sk-toggleable__label-arrow\">RandomizedSearchCV</label><div class=\"sk-toggleable__content\"><pre>RandomizedSearchCV(cv=3, estimator=SVC(random_state=2021), n_iter=15,\n",
       "                   param_distributions=[{&#x27;C&#x27;: [0.1, 1, 10], &#x27;gamma&#x27;: [3, 5, 7],\n",
       "                                         &#x27;max_iter&#x27;: array([1926, 1158, 1284]),\n",
       "                                         &#x27;tol&#x27;: [0.0001, 1e-10]},\n",
       "                                        {&#x27;C&#x27;: [0.1, 1, 10], &#x27;max_iter&#x27;: [-1],\n",
       "                                         &#x27;tol&#x27;: [0.0001, 1e-10]},\n",
       "                                        {&#x27;C&#x27;: [0.1, 1, 10],\n",
       "                                         &#x27;kernel&#x27;: [&#x27;linear&#x27;],\n",
       "                                         &#x27;max_iter&#x27;: array([1905, 1505, 1002])}],\n",
       "                   scoring=&#x27;accuracy&#x27;)</pre></div></div></div><div class=\"sk-parallel\"><div class=\"sk-parallel-item\"><div class=\"sk-item\"><div class=\"sk-label-container\"><div class=\"sk-label sk-toggleable\"><input class=\"sk-toggleable__control sk-hidden--visually\" id=\"sk-estimator-id-17\" type=\"checkbox\" ><label for=\"sk-estimator-id-17\" class=\"sk-toggleable__label sk-toggleable__label-arrow\">estimator: SVC</label><div class=\"sk-toggleable__content\"><pre>SVC(random_state=2021)</pre></div></div></div><div class=\"sk-serial\"><div class=\"sk-item\"><div class=\"sk-estimator sk-toggleable\"><input class=\"sk-toggleable__control sk-hidden--visually\" id=\"sk-estimator-id-18\" type=\"checkbox\" ><label for=\"sk-estimator-id-18\" class=\"sk-toggleable__label sk-toggleable__label-arrow\">SVC</label><div class=\"sk-toggleable__content\"><pre>SVC(random_state=2021)</pre></div></div></div></div></div></div></div></div></div></div>"
      ],
      "text/plain": [
       "RandomizedSearchCV(cv=3, estimator=SVC(random_state=2021), n_iter=15,\n",
       "                   param_distributions=[{'C': [0.1, 1, 10], 'gamma': [3, 5, 7],\n",
       "                                         'max_iter': array([1926, 1158, 1284]),\n",
       "                                         'tol': [0.0001, 1e-10]},\n",
       "                                        {'C': [0.1, 1, 10], 'max_iter': [-1],\n",
       "                                         'tol': [0.0001, 1e-10]},\n",
       "                                        {'C': [0.1, 1, 10],\n",
       "                                         'kernel': ['linear'],\n",
       "                                         'max_iter': array([1905, 1505, 1002])}],\n",
       "                   scoring='accuracy')"
      ]
     },
     "execution_count": 110,
     "metadata": {},
     "output_type": "execute_result"
    }
   ],
   "source": [
    "# Numerous convergence warnings\n",
    "svm_clf = SVC(random_state=2021)\n",
    "svm_grid = RandomizedSearchCV(svm_clf, param_grid, cv=3,\n",
    "                           scoring='accuracy',\n",
    "                           n_iter=15)\n",
    "svm_grid.fit(x_smt, y_smt)"
   ]
  },
  {
   "cell_type": "code",
   "execution_count": 111,
   "id": "4c5cad8d",
   "metadata": {},
   "outputs": [],
   "source": [
    "final_model = svm_grid.best_estimator_\n",
    "svm_preds = final_model.predict(test_prep)\n",
    "svmmod_pred_score = accuracy_score(test_labels, svm_preds)\n",
    "svmmod_recall = recall_score(test_labels, svm_preds, pos_label='Yes')"
   ]
  },
  {
   "cell_type": "code",
   "execution_count": 112,
   "id": "44b8b05d",
   "metadata": {},
   "outputs": [
    {
     "name": "stdout",
     "output_type": "stream",
     "text": [
      "Train error rate = 10.65%\n",
      "Test error rate = 26.16%\n",
      "Test Recall = 33.92%\n"
     ]
    }
   ],
   "source": [
    "print('Train error rate = %.2f%%' % ((1 - svm_grid.best_score_) * 100))\n",
    "print('Test error rate = %.2f%%' % ((1 - svmmod_pred_score) * 100))\n",
    "print('Test Recall = %.2f%%' % (svmmod_recall * 100))"
   ]
  },
  {
   "cell_type": "code",
   "execution_count": 113,
   "id": "83558366",
   "metadata": {},
   "outputs": [
    {
     "name": "stdout",
     "output_type": "stream",
     "text": [
      "              precision    recall  f1-score   support\n",
      "\n",
      "          No       0.78      0.89      0.83       769\n",
      "         Yes       0.53      0.34      0.41       286\n",
      "\n",
      "    accuracy                           0.74      1055\n",
      "   macro avg       0.66      0.61      0.62      1055\n",
      "weighted avg       0.71      0.74      0.72      1055\n",
      "\n"
     ]
    }
   ],
   "source": [
    "print(classification_report(test_labels, svm_preds))"
   ]
  },
  {
   "cell_type": "markdown",
   "id": "d9ec2b5f",
   "metadata": {},
   "source": [
    "# Conclusions"
   ]
  },
  {
   "cell_type": "markdown",
   "id": "a7cbc766",
   "metadata": {},
   "source": [
    "Let's wrap it all up/summarize and make some conclusions. We can use all this information to raise some more questions as well."
   ]
  },
  {
   "cell_type": "code",
   "execution_count": 114,
   "id": "53db878f",
   "metadata": {},
   "outputs": [],
   "source": [
    "all_recall = [rfmod_recall, logmod_recall, svmmod_recall]"
   ]
  },
  {
   "cell_type": "code",
   "execution_count": 115,
   "id": "37633213",
   "metadata": {},
   "outputs": [],
   "source": [
    "all_acc = [rfmod_pred_score, logmod_pred_score, svmmod_pred_score]"
   ]
  },
  {
   "cell_type": "code",
   "execution_count": 116,
   "id": "96b80f61",
   "metadata": {},
   "outputs": [],
   "source": [
    "df = pd.DataFrame(list(zip(all_recall, all_acc)), columns =['Recall', 'Accuracy'])"
   ]
  },
  {
   "cell_type": "code",
   "execution_count": 117,
   "id": "951137d6",
   "metadata": {},
   "outputs": [],
   "source": [
    "df['Model'] = ['Random Forest', 'Logistic Regresssion', 'Support Vector Machine']"
   ]
  },
  {
   "cell_type": "code",
   "execution_count": 118,
   "id": "941068ed",
   "metadata": {},
   "outputs": [],
   "source": [
    "df = df[['Model', 'Recall', 'Accuracy']].reset_index(drop=True)"
   ]
  },
  {
   "cell_type": "code",
   "execution_count": 119,
   "id": "f9946374",
   "metadata": {},
   "outputs": [
    {
     "data": {
      "image/png": "[encoded data removed]",
      "text/plain": [
       "<Figure size 648x504 with 1 Axes>"
      ]
     },
     "metadata": {},
     "output_type": "display_data"
    },
    {
     "data": {
      "text/html": [
       "<div>\n",
       "<style scoped>\n",
       "    .dataframe tbody tr th:only-of-type {\n",
       "        vertical-align: middle;\n",
       "    }\n",
       "\n",
       "    .dataframe tbody tr th {\n",
       "        vertical-align: top;\n",
       "    }\n",
       "\n",
       "    .dataframe thead th {\n",
       "        text-align: right;\n",
       "    }\n",
       "</style>\n",
       "<table border=\"1\" class=\"dataframe\">\n",
       "  <thead>\n",
       "    <tr style=\"text-align: right;\">\n",
       "      <th></th>\n",
       "      <th>Model</th>\n",
       "      <th>Recall</th>\n",
       "      <th>Accuracy</th>\n",
       "    </tr>\n",
       "  </thead>\n",
       "  <tbody>\n",
       "    <tr>\n",
       "      <th>0</th>\n",
       "      <td>Random Forest</td>\n",
       "      <td>0.779720</td>\n",
       "      <td>0.772512</td>\n",
       "    </tr>\n",
       "    <tr>\n",
       "      <th>1</th>\n",
       "      <td>Logistic Regresssion</td>\n",
       "      <td>0.755245</td>\n",
       "      <td>0.739336</td>\n",
       "    </tr>\n",
       "    <tr>\n",
       "      <th>2</th>\n",
       "      <td>Support Vector Machine</td>\n",
       "      <td>0.339161</td>\n",
       "      <td>0.738389</td>\n",
       "    </tr>\n",
       "  </tbody>\n",
       "</table>\n",
       "</div>"
      ],
      "text/plain": [
       "                    Model    Recall  Accuracy\n",
       "0           Random Forest  0.779720  0.772512\n",
       "1    Logistic Regresssion  0.755245  0.739336\n",
       "2  Support Vector Machine  0.339161  0.738389"
      ]
     },
     "execution_count": 119,
     "metadata": {},
     "output_type": "execute_result"
    }
   ],
   "source": [
    "plt.style.use('seaborn')\n",
    "ax = df.plot(x='Model', y=['Accuracy', 'Recall'], kind=\"bar\", \n",
    "             width=.4, ylim=(0,.99), figsize=(9,7), title='Scores')\n",
    "ax.set_xticklabels(ax.get_xticklabels(), rotation=45, fontsize=12)\n",
    "plt.yticks(np.arange(0, 1, step=0.1))\n",
    "ax.set_xlabel(\"\")\n",
    "plt.legend(prop={'size': 12}, loc=1)\n",
    "plt.show()\n",
    "\n",
    "df"
   ]
  },
  {
   "cell_type": "markdown",
   "id": "a8020cdc",
   "metadata": {},
   "source": [
    "If we aggregate the feature importances, we find that our most important features are: InternetService_Fiber optic, MonthlyCharges, TotalCharges, and tenure. These features were most commonly in the top 5 of our models' feature importances.\n",
    "\n",
    "When we consider the Exploratory Data Analysis we did, it is clear that this company has some issue with their Month-to-month customers. What kind of incentives can this company offer to customers to get them to sign One-year or Two-year contracts? What adjustments can be made to Month-to-Month contracts that would be more favorable to customers, without taking away the appeal of a One-year or Two-year contract?\n",
    "\n",
    "InternetService was another important factor in making predictions, specifically, Fiber optic internet service. We are not privy to the historical timing of this data, but it is a major problem that more people with fiber optic internet service are leaving than with DSL internet service. With fiber optics being the newer technology, maybe it’s possible that the company was still working out some kinks? Regardless, if the newer (and supposed to be more efficient) technology is causing people to run from your company, you have a problem. More in-depth research is needed to fully understand this InternetService issue, but at the least we now know that it is an area to focus on.\n",
    "\n",
    "As far as model performance, Random Forest with SMOTE performed best. Second place goes to the Logistic Regression, and Support Vector Machine last.\n",
    "\n",
    "We were able to learn a lot from the project: how long customers are staying with the company, which features are most likely to contribute to customers leaving, and we have 3 different models to test for predicting customer churning. Most importantly, we've raised concerns that allow for some questions to be answered, for further investigation to be completed, and for more information to be gathered. We now have targets to focus in on and conduct a new study in the future."
   ]
  },
  {
   "cell_type": "code",
   "execution_count": null,
   "id": "e97f7380",
   "metadata": {},
   "outputs": [],
   "source": []
  }
 ],
 "metadata": {
  "kernelspec": {
   "display_name": "Python 3 (ipykernel)",
   "language": "python",
   "name": "python3"
  },
  "language_info": {
   "codemirror_mode": {
    "name": "ipython",
    "version": 3
   },
   "file_extension": ".py",
   "mimetype": "text/x-python",
   "name": "python",
   "nbconvert_exporter": "python",
   "pygments_lexer": "ipython3",
   "version": "3.9.7"
  }
 },
 "nbformat": 4,
 "nbformat_minor": 5
}
